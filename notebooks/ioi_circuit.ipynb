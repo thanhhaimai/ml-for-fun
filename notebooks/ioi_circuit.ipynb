{
 "cells": [
  {
   "cell_type": "code",
   "execution_count": 10,
   "id": "09557025",
   "metadata": {},
   "outputs": [
    {
     "data": {
      "text/plain": [
       "<torch._C.Generator at 0x7b2ae02c07b0>"
      ]
     },
     "execution_count": 10,
     "metadata": {},
     "output_type": "execute_result"
    }
   ],
   "source": [
    "%reload_ext autoreload\n",
    "%autoreload 2\n",
    "\n",
    "import torch\n",
    "\n",
    "torch.manual_seed(42)\n"
   ]
  },
  {
   "cell_type": "code",
   "execution_count": 11,
   "id": "e53cb26c",
   "metadata": {},
   "outputs": [],
   "source": [
    "from learning.gpt2.model import GPT2, PretrainedName\n",
    "\n",
    "\n",
    "device = torch.device(\"cuda\")\n",
    "model, pretrained_model = GPT2.from_pretrained(PretrainedName.GPT2_SMALL, device=device)\n",
    "pretrained_model = pretrained_model.to(device)\n"
   ]
  },
  {
   "cell_type": "code",
   "execution_count": 12,
   "id": "96735655",
   "metadata": {},
   "outputs": [],
   "source": [
    "import tiktoken\n",
    "from transformers.modeling_outputs import CausalLMOutputWithCrossAttentions\n",
    "\n",
    "tokenizer = tiktoken.get_encoding(\"gpt2\")\n",
    "\n",
    "\n",
    "def generate(model, s: str, times: int):\n",
    "    model.eval()\n",
    "    with torch.no_grad():\n",
    "        indices = tokenizer.encode(s)\n",
    "        inputs = torch.tensor([indices], dtype=torch.long, device=device)\n",
    "\n",
    "        for _ in range(times):\n",
    "            outputs = model.generate(inputs, 2)\n",
    "            for i in range(outputs.shape[0]):\n",
    "                print(tokenizer.decode(outputs[i].tolist()))\n",
    "\n",
    "\n",
    "def top_logits(model, s: str, k: int):\n",
    "    print(s)\n",
    "    model.eval()\n",
    "    with torch.no_grad():\n",
    "        indices = tokenizer.encode(s)\n",
    "        inputs = torch.tensor([indices], dtype=torch.long, device=device)\n",
    "\n",
    "        outputs = model(inputs)\n",
    "        if isinstance(outputs, CausalLMOutputWithCrossAttentions):\n",
    "            outputs = outputs.logits\n",
    "            assert isinstance(outputs, torch.Tensor)\n",
    "        else:\n",
    "            assert isinstance(outputs, torch.Tensor)\n",
    "\n",
    "        last_output = outputs[:, -1, :]\n",
    "\n",
    "        probs = torch.softmax(last_output, dim=-1).squeeze(0)\n",
    "        top_probs, top_indices = torch.topk(probs, k=k)\n",
    "        for i in range(k):\n",
    "            print(f\"{top_probs[i]:.2f} {tokenizer.decode([int(top_indices[i])])}\")"
   ]
  },
  {
   "cell_type": "code",
   "execution_count": 14,
   "id": "069059d5",
   "metadata": {},
   "outputs": [
    {
     "name": "stdout",
     "output_type": "stream",
     "text": [
      "When Mary and John went to the store, John gave a drink to\n",
      "0.45  Mary\n",
      "0.21  them\n",
      "0.07  the\n",
      "When Vincent and Vanessa went to the park, Vincent gave a leaf to\n",
      "0.51  Vanessa\n",
      "0.12  the\n",
      "0.06  a\n",
      "When Vincent and Vanessa went to the park, Vanessa gave a leaf to\n",
      "0.54  Vincent\n",
      "0.09  the\n",
      "0.03  her\n",
      "Mary and John went to the store. John gave a drink to\n",
      "0.31  them\n",
      "0.15  John\n",
      "0.13  the\n",
      "Mary and John went to the store; John gave a drink to\n",
      "0.33  them\n",
      "0.15  John\n",
      "0.14  the\n",
      "Mary and John went to the store! John gave a drink to\n",
      "0.27  them\n",
      "0.13  the\n",
      "0.10  John\n",
      "Mary and John went to the store. Mary gave a drink to\n",
      "0.46  John\n",
      "0.14  them\n",
      "0.12  the\n",
      "Mary and John went to the store; Mary gave a drink to\n",
      "0.29  John\n",
      "0.21  them\n",
      "0.14  the\n",
      "Mary and John went to the store! Mary gave a drink to\n",
      "0.40  John\n",
      "0.14  the\n",
      "0.11  them\n"
     ]
    }
   ],
   "source": [
    "def run_test(model):\n",
    "    # From the paper: https://arxiv.org/abs/2211.00593\n",
    "    cases = [\n",
    "        \"When Mary and John went to the store, John gave a drink to\",\n",
    "        \"When Vincent and Vanessa went to the park, Vincent gave a leaf to\",\n",
    "        \"When Vincent and Vanessa went to the park, Vanessa gave a leaf to\",\n",
    "        \"Mary and John went to the store. John gave a drink to\",\n",
    "        \"Mary and John went to the store; John gave a drink to\",\n",
    "        \"Mary and John went to the store! John gave a drink to\",\n",
    "        \"Mary and John went to the store. Mary gave a drink to\",\n",
    "        \"Mary and John went to the store; Mary gave a drink to\",\n",
    "        \"Mary and John went to the store! Mary gave a drink to\",\n",
    "    ]\n",
    "\n",
    "    for case in cases:\n",
    "        top_logits(model, case, 3)\n",
    "\n",
    "\n",
    "run_test(model)"
   ]
  }
 ],
 "metadata": {
  "kernelspec": {
   "display_name": ".venv",
   "language": "python",
   "name": "python3"
  },
  "language_info": {
   "codemirror_mode": {
    "name": "ipython",
    "version": 3
   },
   "file_extension": ".py",
   "mimetype": "text/x-python",
   "name": "python",
   "nbconvert_exporter": "python",
   "pygments_lexer": "ipython3",
   "version": "3.13.3"
  }
 },
 "nbformat": 4,
 "nbformat_minor": 5
}
