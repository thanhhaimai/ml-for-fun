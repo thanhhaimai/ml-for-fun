{
 "cells": [
  {
   "cell_type": "code",
   "execution_count": null,
   "id": "f5272864",
   "metadata": {},
   "outputs": [],
   "source": [
    "import string\n",
    "import unicodedata\n",
    "import torch\n",
    "import torch.nn.functional as F\n",
    "\n",
    "# Some name contains space, comma, or apostrophe.\n",
    "characters = set(string.ascii_letters + \" ,'\")\n",
    "\n",
    "token_to_index: dict[str, int] = {}\n",
    "for c in characters:\n",
    "    token_to_index[c] = len(token_to_index)\n",
    "    \n",
    "index_to_token: dict[int, str] = {i: c for c, i in token_to_index.items()}\n",
    "\n",
    "def t2i(token: str) -> int:\n",
    "    return token_to_index[token]\n",
    "\n",
    "def i2t(index: int) -> str:\n",
    "    return index_to_token[index]\n",
    "\n",
    "def unicode_to_ascii(s) -> str:\n",
    "    return \"\".join(\n",
    "        c\n",
    "        for c in unicodedata.normalize(\"NFD\", s)\n",
    "        if unicodedata.category(c) != \"Mn\" and c in characters\n",
    "    )\n",
    "\n",
    "# Returns a one-hot encoded tensor for a name.\n",
    "def str_to_one_hot(name: str) -> torch.Tensor:\n",
    "    return F.one_hot(\n",
    "        torch.tensor([t2i(c) for c in name]),\n",
    "        num_classes=len(characters)\n",
    "    ).unsqueeze(0)\n",
    "\n",
    "\n",
    "tensor = str_to_one_hot(\"O'Connor\")\n",
    "print(tensor)\n",
    "print(tensor.size())\n",
    "print(tensor.shape)"
   ]
  },
  {
   "cell_type": "code",
   "execution_count": null,
   "id": "09557025",
   "metadata": {},
   "outputs": [],
   "source": [
    "from data.names_dataset import NamesDataset\n",
    "\n",
    "names_dataset = NamesDataset(\n",
    "    data_folder=\"../datasets/names\",\n",
    "    transform_input=unicode_to_ascii,\n",
    "    transform_output=str_to_one_hot,\n",
    "    transform_label=str_to_one_hot,\n",
    ")"
   ]
  },
  {
   "cell_type": "code",
   "execution_count": null,
   "id": "ae0697ea",
   "metadata": {},
   "outputs": [],
   "source": [
    "def collate_fn(batch) -> tuple[list[torch.Tensor], list[torch.Tensor]]:\n",
    "    inputs, labels = zip(*batch)\n",
    "    return list(inputs), list(labels)"
   ]
  },
  {
   "cell_type": "code",
   "execution_count": null,
   "id": "2ff1c051",
   "metadata": {},
   "outputs": [],
   "source": [
    "from torch.utils.data import DataLoader\n",
    "\n",
    "BATCH_SIZE = 64\n",
    "\n",
    "train_dataset, test_dataset = torch.utils.data.random_split(names_dataset, [0.85, 0.15])\n",
    "\n",
    "train_dataloader = DataLoader(\n",
    "    dataset=train_dataset,\n",
    "    batch_size=BATCH_SIZE,\n",
    "    shuffle=True,\n",
    "    collate_fn=collate_fn\n",
    ")\n",
    "\n",
    "test_dataloader = DataLoader(\n",
    "    dataset=test_dataset,\n",
    "    batch_size=BATCH_SIZE,\n",
    "    shuffle=False,\n",
    "    collate_fn=collate_fn\n",
    ")\n",
    "\n",
    "train_features, train_labels = next(iter(train_dataloader))\n",
    "print(train_features)\n",
    "print(train_labels)\n",
    "print(len(train_features))\n",
    "print(len(train_labels))\n",
    "print(train_features[0].size())\n",
    "print(train_labels[0].size())\n"
   ]
  }
 ],
 "metadata": {
  "kernelspec": {
   "display_name": ".venv",
   "language": "python",
   "name": "python3"
  },
  "language_info": {
   "codemirror_mode": {
    "name": "ipython",
    "version": 3
   },
   "file_extension": ".py",
   "mimetype": "text/x-python",
   "name": "python",
   "nbconvert_exporter": "python",
   "pygments_lexer": "ipython3",
   "version": "3.13.3"
  }
 },
 "nbformat": 4,
 "nbformat_minor": 5
}
