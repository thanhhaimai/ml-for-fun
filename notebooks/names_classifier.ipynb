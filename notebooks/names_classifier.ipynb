{
 "cells": [
  {
   "cell_type": "code",
   "execution_count": null,
   "id": "f5272864",
   "metadata": {},
   "outputs": [],
   "source": [
    "import string\n",
    "import unicodedata\n",
    "import torch\n",
    "\n",
    "# Some name contains space, comma, or apostrophe.\n",
    "characters = set(string.ascii_letters + \" ,'\")\n",
    "\n",
    "token_to_index: dict[str, int] = {}\n",
    "for c in characters:\n",
    "    token_to_index[c] = len(token_to_index)\n",
    "    \n",
    "index_to_token: dict[int, str] = {i: c for c, i in token_to_index.items()}\n",
    "\n",
    "def t2i(token: str) -> int:\n",
    "    return token_to_index[token]\n",
    "\n",
    "def i2t(index: int) -> str:\n",
    "    return index_to_token[index]\n",
    "\n",
    "def unicode_to_ascii(s) -> str:\n",
    "    return \"\".join(\n",
    "        c\n",
    "        for c in unicodedata.normalize(\"NFD\", s)\n",
    "        if unicodedata.category(c) != \"Mn\" and c in characters\n",
    "    )\n",
    "\n",
    "# Returns a one-hot encoded tensor for a name.\n",
    "# Shape: (len(name), 1, len(characters))\n",
    "def name_to_tensor(name: str) -> torch.Tensor:\n",
    "    tensor = torch.zeros(len(name), 1, len(characters))\n",
    "    for i, c in enumerate(name):\n",
    "        tensor[i][0][t2i(c)] = 1\n",
    "    return tensor\n",
    "\n",
    "def tensor_to_name(tensor: torch.Tensor) -> str:\n",
    "    name: list[str] = []\n",
    "    for i in range(tensor.size(0)):\n",
    "        index = int(tensor[i][0].argmax().item())\n",
    "        name.append(i2t(index))\n",
    "    return \"\".join(name)"
   ]
  },
  {
   "cell_type": "code",
   "execution_count": null,
   "id": "09557025",
   "metadata": {},
   "outputs": [
    {
     "name": "stdout",
     "output_type": "stream",
     "text": [
      "55\n",
      "[' ', \"'\", ',', 'A', 'B', 'C', 'D', 'E', 'F', 'G', 'H', 'I', 'J', 'K', 'L', 'M', 'N', 'O', 'P', 'Q', 'R', 'S', 'T', 'U', 'V', 'W', 'X', 'Y', 'Z', 'a', 'b', 'c', 'd', 'e', 'f', 'g', 'h', 'i', 'j', 'k', 'l', 'm', 'n', 'o', 'p', 'q', 'r', 's', 't', 'u', 'v', 'w', 'x', 'y', 'z']\n"
     ]
    }
   ],
   "source": [
    "from data.names_dataset import NamesDataset\n",
    "\n",
    "\n",
    "names_dataset = NamesDataset(\"../datasets/names\", transform_input=unicode_to_ascii)\n",
    "all_characters = set()\n",
    "for name, country_index in names_dataset:\n",
    "    all_characters.update(name)\n",
    "\n",
    "print(len(all_characters))\n",
    "print(sorted(all_characters))\n",
    "print(tensor_to_name(name_to_tensor(\"O'Connor\")))\n",
    "print(tensor_to_name(name_to_tensor(\"Smith, John\")))\n",
    "\n"
   ]
  }
 ],
 "metadata": {
  "kernelspec": {
   "display_name": ".venv",
   "language": "python",
   "name": "python3"
  },
  "language_info": {
   "codemirror_mode": {
    "name": "ipython",
    "version": 3
   },
   "file_extension": ".py",
   "mimetype": "text/x-python",
   "name": "python",
   "nbconvert_exporter": "python",
   "pygments_lexer": "ipython3",
   "version": "3.13.3"
  }
 },
 "nbformat": 4,
 "nbformat_minor": 5
}
