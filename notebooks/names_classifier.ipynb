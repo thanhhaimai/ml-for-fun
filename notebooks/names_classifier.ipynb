{
 "cells": [
  {
   "cell_type": "code",
   "execution_count": 51,
   "id": "09557025",
   "metadata": {},
   "outputs": [
    {
     "name": "stdout",
     "output_type": "stream",
     "text": [
      "Train dataset size: 17063\n",
      "Test dataset size: 3011\n"
     ]
    }
   ],
   "source": [
    "import torch\n",
    "from data.names_dataset import NamesDataset\n",
    "from torch.utils.data import DataLoader\n",
    "\n",
    "names_dataset = NamesDataset(data_folder=\"../datasets/names\")\n",
    "\n",
    "\n",
    "train_dataset, test_dataset = torch.utils.data.random_split(names_dataset, [0.85, 0.15])\n",
    "print(f\"Train dataset size: {len(train_dataset)}\")\n",
    "print(f\"Test dataset size: {len(test_dataset)}\")"
   ]
  },
  {
   "cell_type": "code",
   "execution_count": 52,
   "id": "ae0697ea",
   "metadata": {},
   "outputs": [],
   "source": [
    "BATCH_SIZE = 4\n",
    "\n",
    "\n",
    "def collate_fn(\n",
    "    batch: list[tuple[torch.Tensor, torch.Tensor]],\n",
    ") -> list[tuple[torch.Tensor, torch.Tensor]]:\n",
    "    return batch\n",
    "\n",
    "\n",
    "train_dataloader = DataLoader(\n",
    "    dataset=train_dataset,\n",
    "    batch_size=BATCH_SIZE,\n",
    "    shuffle=True,\n",
    "    collate_fn=collate_fn,\n",
    ")\n",
    "\n",
    "test_dataloader = DataLoader(\n",
    "    dataset=test_dataset,\n",
    "    batch_size=BATCH_SIZE,\n",
    "    shuffle=False,\n",
    "    collate_fn=collate_fn,\n",
    ")"
   ]
  },
  {
   "cell_type": "code",
   "execution_count": null,
   "id": "38cb37d8",
   "metadata": {},
   "outputs": [],
   "source": [
    "import torch.nn as nn\n",
    "import torch.nn.functional as F\n",
    "\n",
    "\n",
    "class NamesClassifier(nn.Module):\n",
    "    def __init__(self, input_size, hidden_size, output_size):\n",
    "        super(NamesClassifier, self).__init__()\n",
    "        self.rnn = nn.RNN(\n",
    "            input_size=input_size, hidden_size=hidden_size, batch_first=True\n",
    "        )\n",
    "        self.h2o = nn.Linear(hidden_size, output_size)\n",
    "\n",
    "    def forward(self, x: torch.Tensor) -> torch.Tensor:\n",
    "        # x is of shape (batch_size, seq_length, input_size)\n",
    "        output, hidden = self.rnn(x)\n",
    "        output = self.h2o(hidden[0])\n",
    "        # output is of shape (batch_size, output_size)\n",
    "        output = F.log_softmax(output, dim=1)\n",
    "        return output\n",
    "\n",
    "\n",
    "def train(\n",
    "    model: nn.Module,\n",
    "    dataloader: DataLoader,\n",
    "    optimizer: torch.optim.Optimizer,\n",
    "    criterion: nn.Module,\n",
    "):\n",
    "    model.train()\n",
    "    total_loss = 0.0\n",
    "    for batch in dataloader:\n",
    "        for input, label in batch:\n",
    "            optimizer.zero_grad()\n",
    "            output = model(input)\n",
    "            loss = criterion(output, label.argmax(dim=1))\n",
    "\n",
    "            loss.backward()\n",
    "            optimizer.step()\n",
    "            total_loss += loss.item()\n",
    "\n",
    "    return total_loss / len(dataloader)\n",
    "\n",
    "\n",
    "def evaluate(model: nn.Module, dataloader: DataLoader, criterion: nn.Module):\n",
    "    model.eval()\n",
    "    total_loss = 0.0\n",
    "    correct = 0\n",
    "    with torch.no_grad():\n",
    "        for batch in dataloader:\n",
    "            for input, label in batch:\n",
    "                output = model(input)\n",
    "                loss = criterion(output, label.argmax(dim=1))\n",
    "                predictions = output.argmax(dim=1)\n",
    "                correct += (predictions == label.argmax(dim=1)).sum().item()\n",
    "                total_loss += loss.item()\n",
    "    accuracy = correct / len(dataloader)\n",
    "    return total_loss / len(dataloader), accuracy"
   ]
  },
  {
   "cell_type": "code",
   "execution_count": 55,
   "id": "17c4653d",
   "metadata": {},
   "outputs": [
    {
     "name": "stdout",
     "output_type": "stream",
     "text": [
      "NamesClassifier(\n",
      "  (rnn): RNN(87, 128, batch_first=True)\n",
      "  (h2o): Linear(in_features=128, out_features=18, bias=True)\n",
      ")\n",
      "Epoch 1/10, Train Loss: 4.6124, Test Loss: 3.9332, Accuracy: 2.7955\n",
      "Epoch 2/10, Train Loss: 3.7825, Test Loss: 3.4503, Accuracy: 2.9296\n",
      "Epoch 3/10, Train Loss: 3.4886, Test Loss: 3.1878, Accuracy: 3.0531\n",
      "Epoch 4/10, Train Loss: 3.2751, Test Loss: 3.1873, Accuracy: 3.0345\n",
      "Epoch 5/10, Train Loss: 3.1912, Test Loss: 3.3725, Accuracy: 2.9814\n",
      "Epoch 6/10, Train Loss: 3.1489, Test Loss: 3.2088, Accuracy: 3.0611\n",
      "Epoch 7/10, Train Loss: 3.1268, Test Loss: 3.4363, Accuracy: 2.9243\n",
      "Epoch 8/10, Train Loss: 3.1145, Test Loss: 3.3121, Accuracy: 3.0000\n",
      "Epoch 9/10, Train Loss: 3.1357, Test Loss: 3.3163, Accuracy: 3.0133\n",
      "Epoch 10/10, Train Loss: 3.1634, Test Loss: 3.2900, Accuracy: 2.9947\n"
     ]
    }
   ],
   "source": [
    "rnn = NamesClassifier(\n",
    "    input_size=len(names_dataset.index_to_token),\n",
    "    hidden_size=128,\n",
    "    output_size=len(names_dataset.countries),\n",
    ")\n",
    "print(rnn)\n",
    "criterion = nn.NLLLoss()\n",
    "optimizer = torch.optim.Adam(rnn.parameters(), lr=0.001)\n",
    "\n",
    "num_epochs = 10\n",
    "for epoch in range(num_epochs):\n",
    "    train_loss = train(rnn, train_dataloader, optimizer, criterion)\n",
    "    test_loss, accuracy = evaluate(rnn, test_dataloader, criterion)\n",
    "    print(\n",
    "        f\"Epoch {epoch + 1}/{num_epochs}, Train Loss: {train_loss:.4f}, Test Loss: {test_loss:.4f}, Accuracy: {accuracy:.4f}\"\n",
    "    )"
   ]
  }
 ],
 "metadata": {
  "kernelspec": {
   "display_name": ".venv",
   "language": "python",
   "name": "python3"
  },
  "language_info": {
   "codemirror_mode": {
    "name": "ipython",
    "version": 3
   },
   "file_extension": ".py",
   "mimetype": "text/x-python",
   "name": "python",
   "nbconvert_exporter": "python",
   "pygments_lexer": "ipython3",
   "version": "3.13.3"
  }
 },
 "nbformat": 4,
 "nbformat_minor": 5
}
