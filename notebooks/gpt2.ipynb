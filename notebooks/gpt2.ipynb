{
 "cells": [
  {
   "cell_type": "code",
   "execution_count": 1,
   "id": "09557025",
   "metadata": {},
   "outputs": [
    {
     "data": {
      "text/plain": [
       "<torch._C.Generator at 0x75c911bd8510>"
      ]
     },
     "execution_count": 1,
     "metadata": {},
     "output_type": "execute_result"
    }
   ],
   "source": [
    "%reload_ext autoreload\n",
    "%autoreload 2\n",
    "\n",
    "import torch\n",
    "\n",
    "torch.manual_seed(42)\n"
   ]
  },
  {
   "cell_type": "code",
   "execution_count": 2,
   "id": "ac37b8e2",
   "metadata": {},
   "outputs": [],
   "source": [
    "from learning.gpt2.model import Config\n",
    "\n",
    "\n",
    "config = Config(\n",
    "    batch_size=2**8,\n",
    "    sequence_length=2**9,\n",
    "    embedding_size=2**8,\n",
    "    num_heads=2**3,\n",
    "    num_blocks=2**2,\n",
    "    epochs=10,\n",
    "    dropout=0.1,\n",
    "    learning_rate=1e-3,\n",
    "    patience=30,\n",
    "    min_delta=1e-3,\n",
    "    device=torch.device(\"cuda\"),\n",
    ")\n"
   ]
  },
  {
   "cell_type": "code",
   "execution_count": 3,
   "id": "e53cb26c",
   "metadata": {},
   "outputs": [
    {
     "name": "stdout",
     "output_type": "stream",
     "text": [
      "GPT2LMHeadModel(\n",
      "  (transformer): GPT2Model(\n",
      "    (wte): Embedding(50257, 768)\n",
      "    (wpe): Embedding(1024, 768)\n",
      "    (drop): Dropout(p=0.1, inplace=False)\n",
      "    (h): ModuleList(\n",
      "      (0-11): 12 x GPT2Block(\n",
      "        (ln_1): LayerNorm((768,), eps=1e-05, elementwise_affine=True)\n",
      "        (attn): GPT2Attention(\n",
      "          (c_attn): Conv1D(nf=2304, nx=768)\n",
      "          (c_proj): Conv1D(nf=768, nx=768)\n",
      "          (attn_dropout): Dropout(p=0.1, inplace=False)\n",
      "          (resid_dropout): Dropout(p=0.1, inplace=False)\n",
      "        )\n",
      "        (ln_2): LayerNorm((768,), eps=1e-05, elementwise_affine=True)\n",
      "        (mlp): GPT2MLP(\n",
      "          (c_fc): Conv1D(nf=3072, nx=768)\n",
      "          (c_proj): Conv1D(nf=768, nx=3072)\n",
      "          (act): NewGELUActivation()\n",
      "          (dropout): Dropout(p=0.1, inplace=False)\n",
      "        )\n",
      "      )\n",
      "    )\n",
      "    (ln_f): LayerNorm((768,), eps=1e-05, elementwise_affine=True)\n",
      "  )\n",
      "  (lm_head): Linear(in_features=768, out_features=50257, bias=False)\n",
      ")\n",
      "odict_keys(['transformer.wte.weight', 'transformer.wpe.weight', 'transformer.h.0.ln_1.weight', 'transformer.h.0.ln_1.bias', 'transformer.h.0.attn.c_attn.weight', 'transformer.h.0.attn.c_attn.bias', 'transformer.h.0.attn.c_proj.weight', 'transformer.h.0.attn.c_proj.bias', 'transformer.h.0.ln_2.weight', 'transformer.h.0.ln_2.bias', 'transformer.h.0.mlp.c_fc.weight', 'transformer.h.0.mlp.c_fc.bias', 'transformer.h.0.mlp.c_proj.weight', 'transformer.h.0.mlp.c_proj.bias', 'transformer.h.1.ln_1.weight', 'transformer.h.1.ln_1.bias', 'transformer.h.1.attn.c_attn.weight', 'transformer.h.1.attn.c_attn.bias', 'transformer.h.1.attn.c_proj.weight', 'transformer.h.1.attn.c_proj.bias', 'transformer.h.1.ln_2.weight', 'transformer.h.1.ln_2.bias', 'transformer.h.1.mlp.c_fc.weight', 'transformer.h.1.mlp.c_fc.bias', 'transformer.h.1.mlp.c_proj.weight', 'transformer.h.1.mlp.c_proj.bias', 'transformer.h.2.ln_1.weight', 'transformer.h.2.ln_1.bias', 'transformer.h.2.attn.c_attn.weight', 'transformer.h.2.attn.c_attn.bias', 'transformer.h.2.attn.c_proj.weight', 'transformer.h.2.attn.c_proj.bias', 'transformer.h.2.ln_2.weight', 'transformer.h.2.ln_2.bias', 'transformer.h.2.mlp.c_fc.weight', 'transformer.h.2.mlp.c_fc.bias', 'transformer.h.2.mlp.c_proj.weight', 'transformer.h.2.mlp.c_proj.bias', 'transformer.h.3.ln_1.weight', 'transformer.h.3.ln_1.bias', 'transformer.h.3.attn.c_attn.weight', 'transformer.h.3.attn.c_attn.bias', 'transformer.h.3.attn.c_proj.weight', 'transformer.h.3.attn.c_proj.bias', 'transformer.h.3.ln_2.weight', 'transformer.h.3.ln_2.bias', 'transformer.h.3.mlp.c_fc.weight', 'transformer.h.3.mlp.c_fc.bias', 'transformer.h.3.mlp.c_proj.weight', 'transformer.h.3.mlp.c_proj.bias', 'transformer.h.4.ln_1.weight', 'transformer.h.4.ln_1.bias', 'transformer.h.4.attn.c_attn.weight', 'transformer.h.4.attn.c_attn.bias', 'transformer.h.4.attn.c_proj.weight', 'transformer.h.4.attn.c_proj.bias', 'transformer.h.4.ln_2.weight', 'transformer.h.4.ln_2.bias', 'transformer.h.4.mlp.c_fc.weight', 'transformer.h.4.mlp.c_fc.bias', 'transformer.h.4.mlp.c_proj.weight', 'transformer.h.4.mlp.c_proj.bias', 'transformer.h.5.ln_1.weight', 'transformer.h.5.ln_1.bias', 'transformer.h.5.attn.c_attn.weight', 'transformer.h.5.attn.c_attn.bias', 'transformer.h.5.attn.c_proj.weight', 'transformer.h.5.attn.c_proj.bias', 'transformer.h.5.ln_2.weight', 'transformer.h.5.ln_2.bias', 'transformer.h.5.mlp.c_fc.weight', 'transformer.h.5.mlp.c_fc.bias', 'transformer.h.5.mlp.c_proj.weight', 'transformer.h.5.mlp.c_proj.bias', 'transformer.h.6.ln_1.weight', 'transformer.h.6.ln_1.bias', 'transformer.h.6.attn.c_attn.weight', 'transformer.h.6.attn.c_attn.bias', 'transformer.h.6.attn.c_proj.weight', 'transformer.h.6.attn.c_proj.bias', 'transformer.h.6.ln_2.weight', 'transformer.h.6.ln_2.bias', 'transformer.h.6.mlp.c_fc.weight', 'transformer.h.6.mlp.c_fc.bias', 'transformer.h.6.mlp.c_proj.weight', 'transformer.h.6.mlp.c_proj.bias', 'transformer.h.7.ln_1.weight', 'transformer.h.7.ln_1.bias', 'transformer.h.7.attn.c_attn.weight', 'transformer.h.7.attn.c_attn.bias', 'transformer.h.7.attn.c_proj.weight', 'transformer.h.7.attn.c_proj.bias', 'transformer.h.7.ln_2.weight', 'transformer.h.7.ln_2.bias', 'transformer.h.7.mlp.c_fc.weight', 'transformer.h.7.mlp.c_fc.bias', 'transformer.h.7.mlp.c_proj.weight', 'transformer.h.7.mlp.c_proj.bias', 'transformer.h.8.ln_1.weight', 'transformer.h.8.ln_1.bias', 'transformer.h.8.attn.c_attn.weight', 'transformer.h.8.attn.c_attn.bias', 'transformer.h.8.attn.c_proj.weight', 'transformer.h.8.attn.c_proj.bias', 'transformer.h.8.ln_2.weight', 'transformer.h.8.ln_2.bias', 'transformer.h.8.mlp.c_fc.weight', 'transformer.h.8.mlp.c_fc.bias', 'transformer.h.8.mlp.c_proj.weight', 'transformer.h.8.mlp.c_proj.bias', 'transformer.h.9.ln_1.weight', 'transformer.h.9.ln_1.bias', 'transformer.h.9.attn.c_attn.weight', 'transformer.h.9.attn.c_attn.bias', 'transformer.h.9.attn.c_proj.weight', 'transformer.h.9.attn.c_proj.bias', 'transformer.h.9.ln_2.weight', 'transformer.h.9.ln_2.bias', 'transformer.h.9.mlp.c_fc.weight', 'transformer.h.9.mlp.c_fc.bias', 'transformer.h.9.mlp.c_proj.weight', 'transformer.h.9.mlp.c_proj.bias', 'transformer.h.10.ln_1.weight', 'transformer.h.10.ln_1.bias', 'transformer.h.10.attn.c_attn.weight', 'transformer.h.10.attn.c_attn.bias', 'transformer.h.10.attn.c_proj.weight', 'transformer.h.10.attn.c_proj.bias', 'transformer.h.10.ln_2.weight', 'transformer.h.10.ln_2.bias', 'transformer.h.10.mlp.c_fc.weight', 'transformer.h.10.mlp.c_fc.bias', 'transformer.h.10.mlp.c_proj.weight', 'transformer.h.10.mlp.c_proj.bias', 'transformer.h.11.ln_1.weight', 'transformer.h.11.ln_1.bias', 'transformer.h.11.attn.c_attn.weight', 'transformer.h.11.attn.c_attn.bias', 'transformer.h.11.attn.c_proj.weight', 'transformer.h.11.attn.c_proj.bias', 'transformer.h.11.ln_2.weight', 'transformer.h.11.ln_2.bias', 'transformer.h.11.mlp.c_fc.weight', 'transformer.h.11.mlp.c_fc.bias', 'transformer.h.11.mlp.c_proj.weight', 'transformer.h.11.mlp.c_proj.bias', 'transformer.ln_f.weight', 'transformer.ln_f.bias', 'lm_head.weight'])\n"
     ]
    }
   ],
   "source": [
    "from learning.gpt2.model import GPT2, PretrainedName\n",
    "\n",
    "\n",
    "model = GPT2.from_pretrained(PretrainedName.GPT2_SMALL)\n"
   ]
  },
  {
   "cell_type": "code",
   "execution_count": 4,
   "id": "a48fbcb0",
   "metadata": {},
   "outputs": [
    {
     "name": "stdout",
     "output_type": "stream",
     "text": [
      "GPT2(\n",
      "  (embedding): Embedding(50257, 768)\n",
      "  (positional_embedding): Embedding(1024, 768)\n",
      "  (blocks): ModuleList(\n",
      "    (0-11): 12 x Block(\n",
      "      (norm1): LayerNorm((768,), eps=1e-05, elementwise_affine=True)\n",
      "      (heads): MultiHeadAttention(\n",
      "        (qkv_fc): Linear(in_features=768, out_features=2304, bias=True)\n",
      "        (projection): Linear(in_features=768, out_features=768, bias=True)\n",
      "        (dropout): Dropout(p=0.0, inplace=False)\n",
      "      )\n",
      "      (norm2): LayerNorm((768,), eps=1e-05, elementwise_affine=True)\n",
      "      (feed_forward): FeedForward(\n",
      "        (linear): Linear(in_features=768, out_features=1536, bias=True)\n",
      "        (gelu): GELU(approximate='none')\n",
      "        (projection): Linear(in_features=1536, out_features=768, bias=True)\n",
      "        (dropout): Dropout(p=0.0, inplace=False)\n",
      "      )\n",
      "    )\n",
      "  )\n",
      "  (ln): LayerNorm((768,), eps=1e-05, elementwise_affine=True)\n",
      "  (linear): Linear(in_features=768, out_features=50257, bias=True)\n",
      ")\n",
      "odict_keys(['positional_indices', 'embedding.weight', 'positional_embedding.weight', 'blocks.0.norm1.weight', 'blocks.0.norm1.bias', 'blocks.0.heads.qkv_fc.weight', 'blocks.0.heads.qkv_fc.bias', 'blocks.0.heads.projection.weight', 'blocks.0.heads.projection.bias', 'blocks.0.norm2.weight', 'blocks.0.norm2.bias', 'blocks.0.feed_forward.linear.weight', 'blocks.0.feed_forward.linear.bias', 'blocks.0.feed_forward.projection.weight', 'blocks.0.feed_forward.projection.bias', 'blocks.1.norm1.weight', 'blocks.1.norm1.bias', 'blocks.1.heads.qkv_fc.weight', 'blocks.1.heads.qkv_fc.bias', 'blocks.1.heads.projection.weight', 'blocks.1.heads.projection.bias', 'blocks.1.norm2.weight', 'blocks.1.norm2.bias', 'blocks.1.feed_forward.linear.weight', 'blocks.1.feed_forward.linear.bias', 'blocks.1.feed_forward.projection.weight', 'blocks.1.feed_forward.projection.bias', 'blocks.2.norm1.weight', 'blocks.2.norm1.bias', 'blocks.2.heads.qkv_fc.weight', 'blocks.2.heads.qkv_fc.bias', 'blocks.2.heads.projection.weight', 'blocks.2.heads.projection.bias', 'blocks.2.norm2.weight', 'blocks.2.norm2.bias', 'blocks.2.feed_forward.linear.weight', 'blocks.2.feed_forward.linear.bias', 'blocks.2.feed_forward.projection.weight', 'blocks.2.feed_forward.projection.bias', 'blocks.3.norm1.weight', 'blocks.3.norm1.bias', 'blocks.3.heads.qkv_fc.weight', 'blocks.3.heads.qkv_fc.bias', 'blocks.3.heads.projection.weight', 'blocks.3.heads.projection.bias', 'blocks.3.norm2.weight', 'blocks.3.norm2.bias', 'blocks.3.feed_forward.linear.weight', 'blocks.3.feed_forward.linear.bias', 'blocks.3.feed_forward.projection.weight', 'blocks.3.feed_forward.projection.bias', 'blocks.4.norm1.weight', 'blocks.4.norm1.bias', 'blocks.4.heads.qkv_fc.weight', 'blocks.4.heads.qkv_fc.bias', 'blocks.4.heads.projection.weight', 'blocks.4.heads.projection.bias', 'blocks.4.norm2.weight', 'blocks.4.norm2.bias', 'blocks.4.feed_forward.linear.weight', 'blocks.4.feed_forward.linear.bias', 'blocks.4.feed_forward.projection.weight', 'blocks.4.feed_forward.projection.bias', 'blocks.5.norm1.weight', 'blocks.5.norm1.bias', 'blocks.5.heads.qkv_fc.weight', 'blocks.5.heads.qkv_fc.bias', 'blocks.5.heads.projection.weight', 'blocks.5.heads.projection.bias', 'blocks.5.norm2.weight', 'blocks.5.norm2.bias', 'blocks.5.feed_forward.linear.weight', 'blocks.5.feed_forward.linear.bias', 'blocks.5.feed_forward.projection.weight', 'blocks.5.feed_forward.projection.bias', 'blocks.6.norm1.weight', 'blocks.6.norm1.bias', 'blocks.6.heads.qkv_fc.weight', 'blocks.6.heads.qkv_fc.bias', 'blocks.6.heads.projection.weight', 'blocks.6.heads.projection.bias', 'blocks.6.norm2.weight', 'blocks.6.norm2.bias', 'blocks.6.feed_forward.linear.weight', 'blocks.6.feed_forward.linear.bias', 'blocks.6.feed_forward.projection.weight', 'blocks.6.feed_forward.projection.bias', 'blocks.7.norm1.weight', 'blocks.7.norm1.bias', 'blocks.7.heads.qkv_fc.weight', 'blocks.7.heads.qkv_fc.bias', 'blocks.7.heads.projection.weight', 'blocks.7.heads.projection.bias', 'blocks.7.norm2.weight', 'blocks.7.norm2.bias', 'blocks.7.feed_forward.linear.weight', 'blocks.7.feed_forward.linear.bias', 'blocks.7.feed_forward.projection.weight', 'blocks.7.feed_forward.projection.bias', 'blocks.8.norm1.weight', 'blocks.8.norm1.bias', 'blocks.8.heads.qkv_fc.weight', 'blocks.8.heads.qkv_fc.bias', 'blocks.8.heads.projection.weight', 'blocks.8.heads.projection.bias', 'blocks.8.norm2.weight', 'blocks.8.norm2.bias', 'blocks.8.feed_forward.linear.weight', 'blocks.8.feed_forward.linear.bias', 'blocks.8.feed_forward.projection.weight', 'blocks.8.feed_forward.projection.bias', 'blocks.9.norm1.weight', 'blocks.9.norm1.bias', 'blocks.9.heads.qkv_fc.weight', 'blocks.9.heads.qkv_fc.bias', 'blocks.9.heads.projection.weight', 'blocks.9.heads.projection.bias', 'blocks.9.norm2.weight', 'blocks.9.norm2.bias', 'blocks.9.feed_forward.linear.weight', 'blocks.9.feed_forward.linear.bias', 'blocks.9.feed_forward.projection.weight', 'blocks.9.feed_forward.projection.bias', 'blocks.10.norm1.weight', 'blocks.10.norm1.bias', 'blocks.10.heads.qkv_fc.weight', 'blocks.10.heads.qkv_fc.bias', 'blocks.10.heads.projection.weight', 'blocks.10.heads.projection.bias', 'blocks.10.norm2.weight', 'blocks.10.norm2.bias', 'blocks.10.feed_forward.linear.weight', 'blocks.10.feed_forward.linear.bias', 'blocks.10.feed_forward.projection.weight', 'blocks.10.feed_forward.projection.bias', 'blocks.11.norm1.weight', 'blocks.11.norm1.bias', 'blocks.11.heads.qkv_fc.weight', 'blocks.11.heads.qkv_fc.bias', 'blocks.11.heads.projection.weight', 'blocks.11.heads.projection.bias', 'blocks.11.norm2.weight', 'blocks.11.norm2.bias', 'blocks.11.feed_forward.linear.weight', 'blocks.11.feed_forward.linear.bias', 'blocks.11.feed_forward.projection.weight', 'blocks.11.feed_forward.projection.bias', 'ln.weight', 'ln.bias', 'linear.weight', 'linear.bias'])\n"
     ]
    }
   ],
   "source": [
    "print(model)\n",
    "print(model.state_dict().keys())"
   ]
  }
 ],
 "metadata": {
  "kernelspec": {
   "display_name": ".venv",
   "language": "python",
   "name": "python3"
  },
  "language_info": {
   "codemirror_mode": {
    "name": "ipython",
    "version": 3
   },
   "file_extension": ".py",
   "mimetype": "text/x-python",
   "name": "python",
   "nbconvert_exporter": "python",
   "pygments_lexer": "ipython3",
   "version": "3.13.3"
  }
 },
 "nbformat": 4,
 "nbformat_minor": 5
}
