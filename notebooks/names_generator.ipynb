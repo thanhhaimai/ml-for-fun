{
 "cells": [
  {
   "cell_type": "code",
   "execution_count": null,
   "id": "09557025",
   "metadata": {},
   "outputs": [],
   "source": [
    "%reload_ext autoreload\n",
    "%autoreload 2\n",
    "\n",
    "import torch\n",
    "\n",
    "torch.manual_seed(42)\n"
   ]
  },
  {
   "cell_type": "code",
   "execution_count": 11,
   "id": "88ccafdb",
   "metadata": {},
   "outputs": [],
   "source": [
    "from data.names_data_source import NamesDataSource, START_TOKEN, END_TOKEN\n",
    "from learning.names_generator.names_generator_dataset import NamesGeneratorDataset\n",
    "\n",
    "\n",
    "names_data_source = NamesDataSource.load(\n",
    "    data_folder=\"../datasets/names\",\n",
    "    prefix=START_TOKEN,\n",
    "    suffix=END_TOKEN,\n",
    "    normalize_unicode=True,\n",
    ")\n",
    "\n",
    "names_dataset = NamesGeneratorDataset(names_data_source)\n"
   ]
  },
  {
   "cell_type": "code",
   "execution_count": null,
   "id": "e17ac3a2",
   "metadata": {},
   "outputs": [],
   "source": [
    "from learning.names_generator.model import NamesGenerator\n",
    "import torch\n",
    "import torch.nn as nn\n",
    "\n",
    "\n",
    "def generate_name(model: nn.Module, country_idx: int):\n",
    "    with torch.no_grad():\n",
    "        # shape: [1, C]\n",
    "        category_tensor = names_data_source.country_index_to_one_hot(\n",
    "            country_idx\n",
    "        ).unsqueeze(0)\n",
    "\n",
    "        # shape: [1, H]\n",
    "        hidden_tensor = test_names_generator.init_hidden()\n",
    "\n",
    "        # shape: [1, V]\n",
    "        input_tensor = names_data_source.name_to_one_hot(START_TOKEN).squeeze(1)\n",
    "\n",
    "        output_names = []\n",
    "        for i in range(50):\n",
    "            # shape: [1, V]\n",
    "            output, hidden_tensor = model(category_tensor, input_tensor, hidden_tensor)\n",
    "            idx = torch.argmax(output, dim=1)\n",
    "            next_char = names_data_source.index_to_token[int(idx.item())]\n",
    "\n",
    "            if next_char == END_TOKEN:\n",
    "                break\n",
    "\n",
    "            output_names.append(next_char)\n",
    "            input_tensor = names_data_source.name_to_one_hot(next_char).squeeze(1)\n",
    "\n",
    "        return \"\".join(output_names)\n",
    "\n",
    "\n",
    "test_names_generator = NamesGenerator(\n",
    "    hidden_size=128,\n",
    "    num_vocab=names_data_source.num_vocab,\n",
    "    num_classes=names_data_source.num_classes,\n",
    ")\n",
    "\n",
    "generate_name(test_names_generator, 4)\n"
   ]
  }
 ],
 "metadata": {
  "kernelspec": {
   "display_name": ".venv",
   "language": "python",
   "name": "python3"
  },
  "language_info": {
   "codemirror_mode": {
    "name": "ipython",
    "version": 3
   },
   "file_extension": ".py",
   "mimetype": "text/x-python",
   "name": "python",
   "nbconvert_exporter": "python",
   "pygments_lexer": "ipython3",
   "version": "3.13.3"
  }
 },
 "nbformat": 4,
 "nbformat_minor": 5
}
