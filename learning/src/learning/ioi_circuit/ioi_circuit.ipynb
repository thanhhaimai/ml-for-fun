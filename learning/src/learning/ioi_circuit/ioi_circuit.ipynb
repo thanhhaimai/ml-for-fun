{
 "cells": [
  {
   "cell_type": "code",
   "execution_count": 143,
   "id": "09557025",
   "metadata": {},
   "outputs": [
    {
     "data": {
      "text/plain": [
       "<torch._C.Generator at 0x73d96c7c4730>"
      ]
     },
     "execution_count": 143,
     "metadata": {},
     "output_type": "execute_result"
    }
   ],
   "source": [
    "%reload_ext autoreload\n",
    "%autoreload 2\n",
    "\n",
    "import random\n",
    "import torch\n",
    "\n",
    "random.seed(42)\n",
    "torch.manual_seed(42)\n"
   ]
  },
  {
   "cell_type": "code",
   "execution_count": 144,
   "id": "e53cb26c",
   "metadata": {},
   "outputs": [],
   "source": [
    "from learning.ioi_circuit.model import GPT2, PretrainedName\n",
    "\n",
    "\n",
    "device = torch.device(\"cuda\")\n",
    "model, _pretrained_model = GPT2.from_pretrained(\n",
    "    PretrainedName.GPT2_SMALL, device=device\n",
    ")\n"
   ]
  },
  {
   "cell_type": "code",
   "execution_count": 145,
   "id": "06834762",
   "metadata": {},
   "outputs": [
    {
     "name": "stdout",
     "output_type": "stream",
     "text": [
      "268 names\n",
      "--------------------------------------------------------------------------------\n",
      "When Steven and Nicholas went to the store, Theodore gave a drink to\n",
      "When Joseph and Athena went to the store, Patrick gave a drink to\n",
      "When Morgan and Henry went to the store, Richard gave a drink to\n",
      "--------------------------------------------------------------------------------\n",
      "When Weston and Cameron went to the store, Weston gave a drink to\n",
      "When Anthony and Julia went to the store, Anthony gave a drink to\n",
      "When Piper and Julian went to the store, Piper gave a drink to\n",
      "--------------------------------------------------------------------------------\n",
      "When George and Sebastian went to the store, Sebastian gave a drink to\n",
      "When King and Roman went to the store, Roman gave a drink to\n",
      "When Diego and Kendall went to the store, Kendall gave a drink to\n"
     ]
    }
   ],
   "source": [
    "from learning.ioi_circuit.data_sources import NamesDataSource\n",
    "from learning.ioi_circuit.prompts import PromptTemplate\n",
    "import tiktoken\n",
    "\n",
    "tokenizer = tiktoken.get_encoding(\"gpt2\")\n",
    "\n",
    "\n",
    "names_data_source = NamesDataSource.load(\n",
    "    file_path=\"../../../../datasets/ioi/popular_names.txt\",\n",
    "    tokenizer=tokenizer,\n",
    ")\n",
    "\n",
    "print(len(names_data_source.names_with_space), \"names\")\n",
    "\n",
    "prompt_template = PromptTemplate(\n",
    "    template=\"When{s1} and{s2} went to the store,{s3} gave a drink to\",\n",
    "    names_data_source=names_data_source,\n",
    "    device=device,\n",
    ")\n",
    "\n",
    "print(\"-\" * 80)\n",
    "for _ in range(3):\n",
    "    print(prompt_template.sample_abc())\n",
    "\n",
    "print(\"-\" * 80)\n",
    "for _ in range(3):\n",
    "    print(prompt_template.sample_aba())\n",
    "\n",
    "print(\"-\" * 80)\n",
    "for _ in range(3):\n",
    "    print(prompt_template.sample_abb())\n"
   ]
  },
  {
   "cell_type": "code",
   "execution_count": 146,
   "id": "96735655",
   "metadata": {},
   "outputs": [
    {
     "name": "stdout",
     "output_type": "stream",
     "text": [
      "ABC --------------------------------------------------------------------------------\n",
      "When Bennett and Kenneth went to the store, Richard gave a drink to\n",
      "0.17  them\n",
      "0.15  the\n",
      "0.06  his\n",
      "When Bennett and Kenneth went to the park, Richard gave a leaf to\n",
      "0.19  the\n",
      "0.06  a\n",
      "0.05  his\n",
      "Yesterday Bennett and Kenneth went to the store. Richard gave a drink to\n",
      "0.25  them\n",
      "0.14  the\n",
      "0.07  Bennett\n",
      "ABA --------------------------------------------------------------------------------\n",
      "When Bennett and Kenneth went to the store, Bennett gave a drink to\n",
      "0.21  the\n",
      "0.13  Kenneth\n",
      "0.10  a\n",
      "When Bennett and Kenneth went to the park, Bennett gave a leaf to\n",
      "0.23  the\n",
      "0.12  Kenneth\n",
      "0.09  a\n",
      "Yesterday Bennett and Kenneth went to the store. Bennett gave a drink to\n",
      "0.24  the\n",
      "0.14  Kenneth\n",
      "0.09  a\n",
      "ABB --------------------------------------------------------------------------------\n",
      "When Bennett and Kenneth went to the store, Kenneth gave a drink to\n",
      "0.20  Bennett\n",
      "0.14  the\n",
      "0.10  them\n",
      "When Bennett and Kenneth went to the park, Kenneth gave a leaf to\n",
      "0.17  Bennett\n",
      "0.17  the\n",
      "0.06  a\n",
      "Yesterday Bennett and Kenneth went to the store. Kenneth gave a drink to\n",
      "0.36  Bennett\n",
      "0.12  the\n",
      "0.11  them\n"
     ]
    }
   ],
   "source": [
    "from learning.ioi_circuit.ioi_circuit_analyzer import IoiCircuitAnalyzer\n",
    "from learning.ioi_circuit.prompts import PromptTemplate\n",
    "\n",
    "analyzer = IoiCircuitAnalyzer(model, tokenizer, prompt_template, device)\n",
    "\n",
    "\n",
    "def run_test(analyzer: IoiCircuitAnalyzer, model: GPT2):\n",
    "    k = 3\n",
    "    templates: list[PromptTemplate] = [\n",
    "        PromptTemplate(\n",
    "            template=\"When{s1} and{s2} went to the store,{s3} gave a drink to\",\n",
    "            names_data_source=names_data_source,\n",
    "            device=device,\n",
    "        ),\n",
    "        PromptTemplate(\n",
    "            template=\"When{s1} and{s2} went to the park,{s3} gave a leaf to\",\n",
    "            names_data_source=names_data_source,\n",
    "            device=device,\n",
    "        ),\n",
    "        PromptTemplate(\n",
    "            template=\"Yesterday{s1} and{s2} went to the store.{s3} gave a drink to\",\n",
    "            names_data_source=names_data_source,\n",
    "            device=device,\n",
    "        ),\n",
    "    ]\n",
    "\n",
    "    name_sample = names_data_source.sample(3)\n",
    "\n",
    "    print(\"ABC \" + \"-\" * 80)\n",
    "    for template in templates:\n",
    "        prompt = template.from_abc(*name_sample.names_with_space)\n",
    "        print(prompt)\n",
    "        analyzer.topk_probs(prompt, k).print(tokenizer)\n",
    "\n",
    "    print(\"ABA \" + \"-\" * 80)\n",
    "    for template in templates:\n",
    "        prompt = template.from_aba(*name_sample.names_with_space[:2])\n",
    "        print(prompt)\n",
    "        analyzer.topk_probs(prompt, k).print(tokenizer)\n",
    "\n",
    "    print(\"ABB \" + \"-\" * 80)\n",
    "    for template in templates:\n",
    "        prompt = template.from_abb(*name_sample.names_with_space[:2])\n",
    "        print(prompt)\n",
    "        analyzer.topk_probs(prompt, k).print(tokenizer)\n",
    "\n",
    "\n",
    "run_test(analyzer, model)"
   ]
  },
  {
   "cell_type": "code",
   "execution_count": 147,
   "id": "b44074c6",
   "metadata": {},
   "outputs": [
    {
     "name": "stdout",
     "output_type": "stream",
     "text": [
      "ModelConfig(embedding_size=768, num_heads=12, num_blocks=12, vocab_size=50257, sequence_length=1024, feed_forward_expansion_factor=4, dropout=0.1, device=device(type='cuda'))\n",
      "GPT2(\n",
      "  (embedding): Embedding(50257, 768)\n",
      "  (positional_embedding): Embedding(1024, 768)\n",
      "  (dropout): Dropout(p=0.1, inplace=False)\n",
      "  (blocks_module): ModuleList(\n",
      "    (0-11): 12 x Block(\n",
      "      (layer_norm1): LayerNorm((768,), eps=1e-05, elementwise_affine=True)\n",
      "      (attention): MultiHeadAttention(\n",
      "        (heads_module): ModuleList(\n",
      "          (0-11): 12 x AttentionHead(\n",
      "            (query): Linear(in_features=768, out_features=64, bias=True)\n",
      "            (key): Linear(in_features=768, out_features=64, bias=True)\n",
      "            (value): Linear(in_features=768, out_features=64, bias=True)\n",
      "            (dropout): Dropout(p=0.1, inplace=False)\n",
      "          )\n",
      "        )\n",
      "        (projection): Linear(in_features=768, out_features=768, bias=True)\n",
      "        (dropout): Dropout(p=0.1, inplace=False)\n",
      "      )\n",
      "      (layer_norm2): LayerNorm((768,), eps=1e-05, elementwise_affine=True)\n",
      "      (feed_forward): FeedForward(\n",
      "        (linear): Linear(in_features=768, out_features=3072, bias=True)\n",
      "        (gelu): GELU(approximate='tanh')\n",
      "        (projection): Linear(in_features=3072, out_features=768, bias=True)\n",
      "        (dropout): Dropout(p=0.1, inplace=False)\n",
      "      )\n",
      "    )\n",
      "  )\n",
      "  (layer_norm): LayerNorm((768,), eps=1e-05, elementwise_affine=True)\n",
      "  (linear): Linear(in_features=768, out_features=50257, bias=False)\n",
      ")\n"
     ]
    }
   ],
   "source": [
    "print(model.config)\n",
    "print(model)"
   ]
  },
  {
   "cell_type": "code",
   "execution_count": 148,
   "id": "99c19beb",
   "metadata": {},
   "outputs": [],
   "source": [
    "from learning.ioi_circuit.ioi_circuit_analyzer import HeadId, PathPatchingConfig\n",
    "from learning.ioi_circuit.metrics import ProbsMetrics\n",
    "\n",
    "\"\"\" \n",
    "TEST:\n",
    "- Baseline: ABC\n",
    "- Network: ABB\n",
    "- For each head at the last block, patch baseline into the head, effectively knocking out the head\n",
    "\n",
    "EXPECT:\n",
    "- There are some heads with low s1_prob_factor, meaning the head was contributing a lot to the IOI\n",
    "\n",
    "OBSERVATION:\n",
    "- Head 11.1 and 11.3 only drops s1_prob_factor, suggesting it learns to recognize the IO and boost it.\n",
    "- Head 11.2 has a large drop for both s1_prob_factor and s2_prob_factor,\n",
    "  suggesting it learns to recognize the names and _boost_ them\n",
    "- Head 11.6 has a medium drop for both s1_prob_factor and s2_prob_factor,\n",
    "  suggesting it learns to recognize the names and _boost_ them, just less than head 11.2 does.\n",
    "- Head 11.10 has an increase for both s1_prob_factor and s2_prob_factor,\n",
    "  suggesting it learns to recognize the names and _suppress_ them\n",
    "\n",
    "HYPOTHESIS:\n",
    "- Head 11.1 and 11.3 are the IO heads, learning to boost the IO\n",
    "- Head 11.2 and 11.6 are the names heads, learning to boost the names\n",
    "- Head 11.10 is the negative names heads, learning to suppress the names\n",
    "\n",
    "Regarding Head 11.10:\n",
    "- Before patching, it was seeing ABB\n",
    "- After patching, it thinks it's seeing ABC\n",
    "- With that, the patched_probs changed:\n",
    "  - s1_prob_factor: 1.45\n",
    "  - s2_prob_factor: 1.22\n",
    "  - s3_prob_factor: 0.39\n",
    "- It seems that Head 11.10 doesn't simply suppress the names, it suppresses the recent names!\n",
    "- By patching it to ABC, it now focuses on reducing C, and less focus on reducing A and B. A is further away, so the patching boosts A the most.\n",
    "\"\"\"\n",
    "\n",
    "BATCH_SIZE = 256\n",
    "\n",
    "baseline_batch = prompt_template.sample_batch_abc(BATCH_SIZE)\n",
    "baseline_output = analyzer.capture_baseline_output(baseline_batch.prompts)\n",
    "batch_abb = prompt_template.sample_batch_abb(BATCH_SIZE)\n",
    "batch_abb.s3_indices = baseline_batch.s3_indices\n",
    "\n",
    "results_11: list[list[ProbsMetrics]] = []\n",
    "for block_idx in range(model.config.num_blocks):\n",
    "    block_results: list[ProbsMetrics] = []\n",
    "    for head_idx in range(model.config.num_heads):\n",
    "        result: ProbsMetrics = analyzer.analyze_head(\n",
    "            PathPatchingConfig(\n",
    "                start_head=HeadId(block_idx, head_idx),\n",
    "                end_heads=[],\n",
    "            ),\n",
    "            baseline_output,\n",
    "            batch_abb,\n",
    "        )\n",
    "        block_results.append(result)\n",
    "    results_11.append(block_results)"
   ]
  },
  {
   "cell_type": "code",
   "execution_count": 149,
   "id": "6a682c4b",
   "metadata": {},
   "outputs": [
    {
     "data": {
      "application/vnd.plotly.v1+json": {
       "config": {
        "plotlyServerURL": "https://plot.ly"
       },
       "data": [
        {
         "colorbar": {
          "len": 0.5,
          "thickness": 10,
          "x": 1,
          "xanchor": "left",
          "y": 0.775,
          "yanchor": "middle"
         },
         "colorscale": [
          [
           0,
           "rgb(247,251,255)"
          ],
          [
           0.125,
           "rgb(222,235,247)"
          ],
          [
           0.25,
           "rgb(198,219,239)"
          ],
          [
           0.375,
           "rgb(158,202,225)"
          ],
          [
           0.5,
           "rgb(107,174,214)"
          ],
          [
           0.625,
           "rgb(66,146,198)"
          ],
          [
           0.75,
           "rgb(33,113,181)"
          ],
          [
           0.875,
           "rgb(8,81,156)"
          ],
          [
           1,
           "rgb(8,48,107)"
          ]
         ],
         "name": "KL",
         "showscale": true,
         "text": {
          "bdata": "AAAAAAAAAAAAAAAAAAAAgAAAAAAAAAAAAAAAAAAAAAAAAAAAAAAAAAAAAAAAAAAALUMc6+I2Gj8AAAAAAAAAAAAAAAAAAAAAAAAAAAAAAAAAAAAAAAAAAAAAAAAAAAAAAAAAAAAAAAAAAAAAAAAAAAAAAAAAAAAAAAAAAAAAAAAAAAAAAAAAAAAAAAAAAAAAAAAAAAAAAABhMlUwKqkzPwAAAAAAAAAAAAAAAAAAAAAAAAAAAAAAAAAAAAAAAAAAAAAAAAAAAAAtQxzr4jYaPwAAAAAAAAAAAAAAAAAAAAAAAAAAAAAAAAAAAAAAAAAAAAAAAAAAAAAAAAAAAAAAAAAAAAAAAAAAAAAAAAAAAAAAAAAAAAAAAAAAAAAAAAAAAAAAAAAAAAAAAAAAAAAAAAAAAAAAAAAAAAAAAAAAAAAAAAAAAAAAAAAAAAAAAAAALUMc6+I2Gj8AAAAAAAAAAAAAAAAAAAAALUMc6+I2Gj8AAAAAAAAAAAAAAAAAAAAALUMc6+I2Gj8AAAAAAAAAAAAAAAAAAAAALUMc6+I2Gj8AAAAAAAAAAAAAAAAAAAAAAAAAAAAAAAAAAAAAAAAAAAAAAAAAAAAAAAAAAAAAAAAAAAAAAAAAAAAAAAAAAAAAAAAAAAAAAAAAAAAAAAAAgC1DHOviNho/LUMc6+I2Gj8tQxzr4jYaPwAAAAAAAAAAAAAAAAAAAAAtQxzr4jYaPwAAAAAAAAAAAAAAAAAAAAAtQxzr4jYqPy1DHOviNho/L26jAbwFUj8tQxzr4jYaPy1DHOviNho/LUMc6+I2Gj9hMlUwKqkzPy1DHOviNho/LUMc6+I2Gj8tQxzr4jYaPy1DHOviNho/AAAAAAAAAAAAAAAAAAAAAAAAAAAAAAAAAAAAAAAAAAAAAAAAAAAAAAAAAAAAAAAAwhcmUwWjgj8AAAAAAAAAAC1DHOviNho/LUMc6+I2Gj8AAAAAAAAAAC1DHOviNio/kst/SL99bT8AAAAAAAAAAC1DHOviNho/LUMc6+I2Gj8AAAAAAAAAAPp+arx0k2g/dnEbDeAtgD8tQxzr4jYaPy9uowG8BWI/8rBQa5p3jD8tQxzr4jYaPy1DHOviNio/LUMc6+I2Gj9hMlUwKqmDP/yp8dJNYkA/FYxK6gQ0YT8tQxzr4jYaP18HzhlR2ls//Knx0k1iQD9fB84ZUdpbP/yp8dJNYmA/7Q2+MJkqwD8noImw4emFP0vIBz2bVY8/qFfKMsSx2j8AAAAAAAAAAPyp8dJNYkA/097gC5Opyj9Pr5RliGOdP6g1zTtO0aE/WmQ730+Nhz+Sy39Iv31NPy1DHOviNho/9dvXgXNGpD8Ab4EExY/JPy1DHOviNho/XwfOGVHaez+oxks3iUGwPy9uowG8BVI/x7q4jQbwVj8g0m9fB86JP9bFbTSAt7A/Y+5aQj7omT/HuriNBvBGP8e6uI0G8EY/hlrTvOMUjT8vbqMBvAVSP5LLf0i/fW0/wOyePCzUij8U0ETY8PS6P2x4eqUsQ3w/",
          "dtype": "f8",
          "shape": "12, 12"
         },
         "texttemplate": "%{text}",
         "type": "heatmap",
         "x": {
          "bdata": "AAECAwQFBgcICQoL",
          "dtype": "i1"
         },
         "xaxis": "x",
         "y": {
          "bdata": "AAECAwQFBgcICQoL",
          "dtype": "i1"
         },
         "yaxis": "y",
         "z": {
          "bdata": "AAAAAEGQ6z4AAACgkWw2vgAAAKD2FMo+AAAAwLm9aT4AAADAGeF0PgAAAICsGGg+AAAAgItbDT8AAAAgsSfUPgAAAOATVYU+AAAAwDWB6D4AAACARmniPgAAAECIl+M+AAAAQFgo8T4AAABgZNnzPgAAAGA18Mc+AAAAQNTnqj4AAAAAm5fwPgAAAAB1/9c+AAAAwFen6D4AAACgHEwzPwAAAECoT+Y+AAAAgNuz4T4AAACAMSXSPgAAACCH7fg+AAAA4Dgf4D4AAAAAGOchPwAAAECCl9g+AAAAgPoo5D4AAABA8UbnPgAAAIDp2to+AAAA4L7N1T4AAAAgHsX3PgAAAED7BQI/AAAAIJl29D4AAAAAeG/0PgAAAMAEs8w+AAAAQGhOcT4AAABg+j7yPgAAAMAn3Po+AAAAQLjxyj4AAABA71bDPgAAAMBCVgI/AAAA4MdLET8AAABAl7MAPwAAAIC3Q9k+AAAAwKYOFD8AAAAARxABPwAAAMBytus+AAAAIJ+JGT8AAADgxHfUPgAAAAAyufs+AAAAAGcEFz8AAABAFXL1PgAAAMC9GPM+AAAAAG2e9z4AAAAAwa0IPwAAAACgOQM/AAAAgLiECD8AAABA3wvVPgAAAGCWAfU+AAAAwMdmrD4AAADA5rs0vgAAAGBV9BM/AAAAIM0OFT8AAAAg5rMZPwAAAIDlerg+AAAAABdKvj4AAABgkEwYPwAAAMCeT+4+AAAAQJsy+j4AAACAsSQvPwAAAEAH/ww/AAAAgNKbUj8AAABAQwUiPwAAAIAc4CE/AAAAwCshIz8AAAAAnfw0PwAAAAAGKAs/AAAAYB/LFz8AAABA+aoRPwAAAACWjBU/AAAAQFVv4z4AAABAi3j9PgAAAAAS6gM/AAAAAIv6xD4AAACA46bVPgAAAADqH4k+AAAAQGGogj8AAABAAlMEPwAAAGDdiiA/AAAAoNP5HD8AAAAABsLwPgAAAEArByg/AAAAAJNUbT8AAABg7QvMPgAAAICmFg4/AAAAAIzzGT8AAAAg5K6cPgAAAEAA3Wg/AAAAQOwkgD8AAAAgm3oQPwAAAED2S2I/AAAAwAl9jD8AAADAKsASPwAAAEDoFCo/AAAAwP3gIj8AAAAAsqGDPwAAAOAd+D8/AAAAAMJMYT8AAABAbxkYPwAAAADWiFw/AAAAgJz6Pz8AAAAAECtbPwAAAMCX918/AAAAoMQrwD8AAABAiPiFPwAAACAFQ48/AAAAgAax2j8AAADAEgrsPgAAACAbej4/AAAAAGGpyj8AAAAgpmGdPwAAAAA61KE/AAAAILKVhz8AAACAi/FLPwAAAMBM6g4/AAAAAEhIpD8AAABgJY7JPwAAAMDFfB0/AAAAQMzVez8AAACgj0SwPwAAAMCE7FE/AAAAgMi4Vz8AAABAxLSJPwAAAMDBubA/AAAA4DHxmT8AAAAAFrZGPwAAAOD/BUg/AAAAwJQmjT8AAADgHRtSPwAAAIDQYW0/AAAAQKzsij8AAADAVfK6PwAAAIDlG3w/",
          "dtype": "f8",
          "shape": "12, 12"
         }
        },
        {
         "colorbar": {
          "len": 0.5,
          "thickness": 10,
          "x": 1,
          "xanchor": "left",
          "y": 0.22499999999999995,
          "yanchor": "middle"
         },
         "colorscale": [
          [
           0,
           "rgb(247,251,255)"
          ],
          [
           0.125,
           "rgb(222,235,247)"
          ],
          [
           0.25,
           "rgb(198,219,239)"
          ],
          [
           0.375,
           "rgb(158,202,225)"
          ],
          [
           0.5,
           "rgb(107,174,214)"
          ],
          [
           0.625,
           "rgb(66,146,198)"
          ],
          [
           0.75,
           "rgb(33,113,181)"
          ],
          [
           0.875,
           "rgb(8,81,156)"
          ],
          [
           1,
           "rgb(8,48,107)"
          ]
         ],
         "name": "TV",
         "showscale": true,
         "text": {
          "bdata": "XwfOGVHaWz8AAAAAAAAAAJLLf0i/fU0/LUMc6+I2Gj8tQxzr4jYaPy1DHOviNho/RiV1ApoIaz8vbqMBvAVSPy1DHOviNio/XwfOGVHaWz/6fmq8dJNYP8e6uI0G8FY/kst/SL99XT/8qfHSTWJgP5LLf0i/fU0//Knx0k1iQD/8qfHSTWJgPy9uowG8BVI/LUMc6+I2Wj+Sy39Iv319Py1DHOviNlo/lPYGX5hMVT/8qfHSTWJQP0hQ/Bhz12I/lPYGX5hMVT+U9gZfmEx1P2EyVTAqqVM/+n5qvHSTWD8tQxzr4jZaP5T2Bl+YTFU/L26jAbwFUj9IUPwYc9diP3sUrkfhemQ/L26jAbwFYj8vbqMBvAViP/yp8dJNYlA/LUMc6+I2Gj/8qfHSTWJgP3sUrkfhemQ/LUMc6+I2Sj/HuriNBvBGP8e6uI0G8GY/3nGKjuTybz+u2F92Tx5mP2EyVTAqqVM/3nGKjuTybz+u2F92Tx5mP5LLf0i/fV0/Iv32deCccT8vbqMBvAVSP2EyVTAqqWM/L26jAbwFcj8vbqMBvAViP/yp8dJNYmA/SFD8GHPXYj9GJXUCmghrP/p+arx0k2g/XwfOGVHaaz/8qfHSTWJQPy9uowG8BWI/LUMc6+I2Oj8AAAAAAAAAACL99nXgnHE/FYxK6gQ0cT8vbqMBvAVyP2EyVTAqqUM/YTJVMCqpQz9VwaikTkBzP5LLf0i/fV0/YTJVMCqpYz+srdhfdk9+P3npJjEIrGw/0gDeAgmKjz/6fmq8dJN4P9QrZRniWHc/7Q2+MJkqeD8JG55eKcuAP5LLf0i/fW0/YTJVMCqpcz8VjErqBDRxPzvfT42XbnI/LUMc6+I2Wj+U9gZfmExlPxNhw9MrZWk/LUMc6+I2Sj8vbqMBvAVSPy1DHOviNio/Gw3gLZCgqD8tQxzr4jZqP67YX3ZPHnY/rthfdk8edj8VjErqBDRhPzm0yHa+n3o/WDm0yHa+nz/8qfHSTWJQPwkbnl4py3A/exSuR+F6dD9hMlUwKqkzP6MjufyH9Js/5IOezarPpT9fB84ZUdprPwrXo3A9Cpc/KqkT0ETYsD8VjErqBDRxP4Za07zjFH0/B/AWSFD8eD/+Q/rt68CpPyegibDh6YU/PZtVn6utmD9IUPwYc9dyPzQRNjy9UpY/gLdAguLHiD+u2F92Tx6WP3ctIR/0bJY/Qxzr4jYayD/pSC7/If2mP7ByaJHtfK8/pU5AE2HD0z9fB84ZUdpbP8e6uI0G8IY/BOeMKO0Nzj+MSuoENBG2Pz2bVZ+rrbg/exSuR+F6pD8y5q4l5IOOP6yt2F92T24/kX77OnDOuD+5jQbwFkjQP67YX3ZPHnY/nzws1JrmnT8N4C2QoPjBP1g5tMh2vo8/vjCZKhiVlD9CYOXQItupPyZTBaOSOsE/5fIf0m9ftz9fB84ZUdqLP/KwUGuad4w/0gDeAgmKrz8/V1uxv+yOP4Za07zjFJ0/OpLLf0i/rT/xY8xdS8jHPxdIUPwYc6c/",
          "dtype": "f8",
          "shape": "12, 12"
         },
         "texttemplate": "%{text}",
         "type": "heatmap",
         "x": {
          "bdata": "AAECAwQFBgcICQoL",
          "dtype": "i1"
         },
         "xaxis": "x2",
         "y": {
          "bdata": "AAECAwQFBgcICQoL",
          "dtype": "i1"
         },
         "yaxis": "y2",
         "z": {
          "bdata": "AAAAAN6RXD8AAABgrfvhPgAAAOBEakw/AAAAANL/ET8AAAAgxqkhPwAAAMCAfRc/AAAAwPfeaj8AAACAIKBRPwAAAODnUik/AAAAYFfPWz8AAADAY+JXPwAAAIB5nFc/AAAAgObkXT8AAAAAshxgPwAAACC8HUw/AAAAgL7bPT8AAAAgmVZgPwAAAEB9o1I/AAAAAJ6mWT8AAACgUZZ9PwAAAKCh6Fo/AAAAgPkTVT8AAAAAY7pQPwAAAACBtmI/AAAAIJEuVT8AAAAAGk91PwAAAMDRZVM/AAAAQB7xVz8AAACAd8xaPwAAAECFllQ/AAAAoEjMUj8AAAAgpD1jPwAAAKCfyGQ/AAAAAAQEYj8AAAAgzGJiPwAAAIBHJU8/AAAAAEmTHz8AAACg3cVgPwAAAOBVV2Q/AAAA4E2fSz8AAADAjDtHPwAAAOBiWGc/AAAAAK3kbz8AAACAr1ZmPwAAACB7IFQ/AAAAIOinbz8AAADAZHZmPwAAAMAcJF0/AAAAgNd6cT8AAABg6qRRPwAAAIAcQWM/AAAAwMAlcj8AAAAALCZiPwAAAMAdQ2A/AAAAQMkEYz8AAACg6iVrPwAAAOALjmg/AAAAgPHgaz8AAACggRFRPwAAAADLP2I/AAAAIAFpPT8AAADAmCXxPgAAAIBYuHE/AAAAAGgAcT8AAADAoglyPwAAACAmkEM/AAAAwDOcQj8AAABgEz9zPwAAAGAgTV4/AAAAgEzrYz8AAADg/D1+PwAAAADIk2w/AAAAAOGPjz8AAACg9Gx4PwAAAAA6MHc/AAAAgOFSeD8AAABAK+SAPwAAAMC71m0/AAAAYO7Qcz8AAAAAtjdxPwAAAGCtTHI/AAAAQFeqWj8AAAAA5eVkPwAAAEAQamk/AAAAAOBuSj8AAAAAk7RRPwAAAAB9cS0/AAAA4LehqD8AAACAn0FqPwAAAMBFAXY/AAAAQIvvdT8AAABgc/FgPwAAAADhzno/AAAAoI+xnz8AAAAgwJNPPwAAAOCZtnA/AAAAIImYdD8AAABgxPk1PwAAAOBf7Zs/AAAAQL3UpT8AAACgAClsPwAAAIAzFJc/AAAAALrYsD8AAAAgv01xPwAAAMB1KH0/AAAA4IL4eD8AAACAt76pPwAAAODc6YU/AAAAACyhmD8AAAAgewpzPwAAAICxXpY/AAAAACrKiD8AAADgAxeWPwAAAEBzd5Y/AAAAAMobyD8AAABgs/2mPwAAACBEeq8/AAAA4MrD0z8AAADA8dhbPwAAAOCj6YY/AAAAgEQOzj8AAADgxhO2PwAAAIDMrrg/AAAAwKh3pD8AAABAUmuOPwAAAGCTO24/AAAAAFfNuD8AAABAxUfQPwAAAABiNXY/AAAAAD3gnT8AAADgJ/nBPwAAAABup48/AAAAgGWblD8AAAAAON2pPwAAAACuOsE/AAAAQHhctz8AAACAjdOLPwAAAEA5how/AAAAgEmQrz8AAACA3fOOPwAAAGCpGp0/AAAAAF25rT8AAACAy8nHPwAAAAAgcac/",
          "dtype": "f8",
          "shape": "12, 12"
         }
        }
       ],
       "layout": {
        "annotations": [
         {
          "font": {
           "size": 16
          },
          "showarrow": false,
          "text": "KL",
          "x": 0.5,
          "xanchor": "center",
          "xref": "paper",
          "y": 1,
          "yanchor": "bottom",
          "yref": "paper"
         },
         {
          "font": {
           "size": 16
          },
          "showarrow": false,
          "text": "TV",
          "x": 0.5,
          "xanchor": "center",
          "xref": "paper",
          "y": 0.45,
          "yanchor": "bottom",
          "yref": "paper"
         }
        ],
        "height": 800,
        "template": {
         "data": {
          "bar": [
           {
            "error_x": {
             "color": "#2a3f5f"
            },
            "error_y": {
             "color": "#2a3f5f"
            },
            "marker": {
             "line": {
              "color": "#E5ECF6",
              "width": 0.5
             },
             "pattern": {
              "fillmode": "overlay",
              "size": 10,
              "solidity": 0.2
             }
            },
            "type": "bar"
           }
          ],
          "barpolar": [
           {
            "marker": {
             "line": {
              "color": "#E5ECF6",
              "width": 0.5
             },
             "pattern": {
              "fillmode": "overlay",
              "size": 10,
              "solidity": 0.2
             }
            },
            "type": "barpolar"
           }
          ],
          "carpet": [
           {
            "aaxis": {
             "endlinecolor": "#2a3f5f",
             "gridcolor": "white",
             "linecolor": "white",
             "minorgridcolor": "white",
             "startlinecolor": "#2a3f5f"
            },
            "baxis": {
             "endlinecolor": "#2a3f5f",
             "gridcolor": "white",
             "linecolor": "white",
             "minorgridcolor": "white",
             "startlinecolor": "#2a3f5f"
            },
            "type": "carpet"
           }
          ],
          "choropleth": [
           {
            "colorbar": {
             "outlinewidth": 0,
             "ticks": ""
            },
            "type": "choropleth"
           }
          ],
          "contour": [
           {
            "colorbar": {
             "outlinewidth": 0,
             "ticks": ""
            },
            "colorscale": [
             [
              0,
              "#0d0887"
             ],
             [
              0.1111111111111111,
              "#46039f"
             ],
             [
              0.2222222222222222,
              "#7201a8"
             ],
             [
              0.3333333333333333,
              "#9c179e"
             ],
             [
              0.4444444444444444,
              "#bd3786"
             ],
             [
              0.5555555555555556,
              "#d8576b"
             ],
             [
              0.6666666666666666,
              "#ed7953"
             ],
             [
              0.7777777777777778,
              "#fb9f3a"
             ],
             [
              0.8888888888888888,
              "#fdca26"
             ],
             [
              1,
              "#f0f921"
             ]
            ],
            "type": "contour"
           }
          ],
          "contourcarpet": [
           {
            "colorbar": {
             "outlinewidth": 0,
             "ticks": ""
            },
            "type": "contourcarpet"
           }
          ],
          "heatmap": [
           {
            "colorbar": {
             "outlinewidth": 0,
             "ticks": ""
            },
            "colorscale": [
             [
              0,
              "#0d0887"
             ],
             [
              0.1111111111111111,
              "#46039f"
             ],
             [
              0.2222222222222222,
              "#7201a8"
             ],
             [
              0.3333333333333333,
              "#9c179e"
             ],
             [
              0.4444444444444444,
              "#bd3786"
             ],
             [
              0.5555555555555556,
              "#d8576b"
             ],
             [
              0.6666666666666666,
              "#ed7953"
             ],
             [
              0.7777777777777778,
              "#fb9f3a"
             ],
             [
              0.8888888888888888,
              "#fdca26"
             ],
             [
              1,
              "#f0f921"
             ]
            ],
            "type": "heatmap"
           }
          ],
          "histogram": [
           {
            "marker": {
             "pattern": {
              "fillmode": "overlay",
              "size": 10,
              "solidity": 0.2
             }
            },
            "type": "histogram"
           }
          ],
          "histogram2d": [
           {
            "colorbar": {
             "outlinewidth": 0,
             "ticks": ""
            },
            "colorscale": [
             [
              0,
              "#0d0887"
             ],
             [
              0.1111111111111111,
              "#46039f"
             ],
             [
              0.2222222222222222,
              "#7201a8"
             ],
             [
              0.3333333333333333,
              "#9c179e"
             ],
             [
              0.4444444444444444,
              "#bd3786"
             ],
             [
              0.5555555555555556,
              "#d8576b"
             ],
             [
              0.6666666666666666,
              "#ed7953"
             ],
             [
              0.7777777777777778,
              "#fb9f3a"
             ],
             [
              0.8888888888888888,
              "#fdca26"
             ],
             [
              1,
              "#f0f921"
             ]
            ],
            "type": "histogram2d"
           }
          ],
          "histogram2dcontour": [
           {
            "colorbar": {
             "outlinewidth": 0,
             "ticks": ""
            },
            "colorscale": [
             [
              0,
              "#0d0887"
             ],
             [
              0.1111111111111111,
              "#46039f"
             ],
             [
              0.2222222222222222,
              "#7201a8"
             ],
             [
              0.3333333333333333,
              "#9c179e"
             ],
             [
              0.4444444444444444,
              "#bd3786"
             ],
             [
              0.5555555555555556,
              "#d8576b"
             ],
             [
              0.6666666666666666,
              "#ed7953"
             ],
             [
              0.7777777777777778,
              "#fb9f3a"
             ],
             [
              0.8888888888888888,
              "#fdca26"
             ],
             [
              1,
              "#f0f921"
             ]
            ],
            "type": "histogram2dcontour"
           }
          ],
          "mesh3d": [
           {
            "colorbar": {
             "outlinewidth": 0,
             "ticks": ""
            },
            "type": "mesh3d"
           }
          ],
          "parcoords": [
           {
            "line": {
             "colorbar": {
              "outlinewidth": 0,
              "ticks": ""
             }
            },
            "type": "parcoords"
           }
          ],
          "pie": [
           {
            "automargin": true,
            "type": "pie"
           }
          ],
          "scatter": [
           {
            "fillpattern": {
             "fillmode": "overlay",
             "size": 10,
             "solidity": 0.2
            },
            "type": "scatter"
           }
          ],
          "scatter3d": [
           {
            "line": {
             "colorbar": {
              "outlinewidth": 0,
              "ticks": ""
             }
            },
            "marker": {
             "colorbar": {
              "outlinewidth": 0,
              "ticks": ""
             }
            },
            "type": "scatter3d"
           }
          ],
          "scattercarpet": [
           {
            "marker": {
             "colorbar": {
              "outlinewidth": 0,
              "ticks": ""
             }
            },
            "type": "scattercarpet"
           }
          ],
          "scattergeo": [
           {
            "marker": {
             "colorbar": {
              "outlinewidth": 0,
              "ticks": ""
             }
            },
            "type": "scattergeo"
           }
          ],
          "scattergl": [
           {
            "marker": {
             "colorbar": {
              "outlinewidth": 0,
              "ticks": ""
             }
            },
            "type": "scattergl"
           }
          ],
          "scattermap": [
           {
            "marker": {
             "colorbar": {
              "outlinewidth": 0,
              "ticks": ""
             }
            },
            "type": "scattermap"
           }
          ],
          "scattermapbox": [
           {
            "marker": {
             "colorbar": {
              "outlinewidth": 0,
              "ticks": ""
             }
            },
            "type": "scattermapbox"
           }
          ],
          "scatterpolar": [
           {
            "marker": {
             "colorbar": {
              "outlinewidth": 0,
              "ticks": ""
             }
            },
            "type": "scatterpolar"
           }
          ],
          "scatterpolargl": [
           {
            "marker": {
             "colorbar": {
              "outlinewidth": 0,
              "ticks": ""
             }
            },
            "type": "scatterpolargl"
           }
          ],
          "scatterternary": [
           {
            "marker": {
             "colorbar": {
              "outlinewidth": 0,
              "ticks": ""
             }
            },
            "type": "scatterternary"
           }
          ],
          "surface": [
           {
            "colorbar": {
             "outlinewidth": 0,
             "ticks": ""
            },
            "colorscale": [
             [
              0,
              "#0d0887"
             ],
             [
              0.1111111111111111,
              "#46039f"
             ],
             [
              0.2222222222222222,
              "#7201a8"
             ],
             [
              0.3333333333333333,
              "#9c179e"
             ],
             [
              0.4444444444444444,
              "#bd3786"
             ],
             [
              0.5555555555555556,
              "#d8576b"
             ],
             [
              0.6666666666666666,
              "#ed7953"
             ],
             [
              0.7777777777777778,
              "#fb9f3a"
             ],
             [
              0.8888888888888888,
              "#fdca26"
             ],
             [
              1,
              "#f0f921"
             ]
            ],
            "type": "surface"
           }
          ],
          "table": [
           {
            "cells": {
             "fill": {
              "color": "#EBF0F8"
             },
             "line": {
              "color": "white"
             }
            },
            "header": {
             "fill": {
              "color": "#C8D4E3"
             },
             "line": {
              "color": "white"
             }
            },
            "type": "table"
           }
          ]
         },
         "layout": {
          "annotationdefaults": {
           "arrowcolor": "#2a3f5f",
           "arrowhead": 0,
           "arrowwidth": 1
          },
          "autotypenumbers": "strict",
          "coloraxis": {
           "colorbar": {
            "outlinewidth": 0,
            "ticks": ""
           }
          },
          "colorscale": {
           "diverging": [
            [
             0,
             "#8e0152"
            ],
            [
             0.1,
             "#c51b7d"
            ],
            [
             0.2,
             "#de77ae"
            ],
            [
             0.3,
             "#f1b6da"
            ],
            [
             0.4,
             "#fde0ef"
            ],
            [
             0.5,
             "#f7f7f7"
            ],
            [
             0.6,
             "#e6f5d0"
            ],
            [
             0.7,
             "#b8e186"
            ],
            [
             0.8,
             "#7fbc41"
            ],
            [
             0.9,
             "#4d9221"
            ],
            [
             1,
             "#276419"
            ]
           ],
           "sequential": [
            [
             0,
             "#0d0887"
            ],
            [
             0.1111111111111111,
             "#46039f"
            ],
            [
             0.2222222222222222,
             "#7201a8"
            ],
            [
             0.3333333333333333,
             "#9c179e"
            ],
            [
             0.4444444444444444,
             "#bd3786"
            ],
            [
             0.5555555555555556,
             "#d8576b"
            ],
            [
             0.6666666666666666,
             "#ed7953"
            ],
            [
             0.7777777777777778,
             "#fb9f3a"
            ],
            [
             0.8888888888888888,
             "#fdca26"
            ],
            [
             1,
             "#f0f921"
            ]
           ],
           "sequentialminus": [
            [
             0,
             "#0d0887"
            ],
            [
             0.1111111111111111,
             "#46039f"
            ],
            [
             0.2222222222222222,
             "#7201a8"
            ],
            [
             0.3333333333333333,
             "#9c179e"
            ],
            [
             0.4444444444444444,
             "#bd3786"
            ],
            [
             0.5555555555555556,
             "#d8576b"
            ],
            [
             0.6666666666666666,
             "#ed7953"
            ],
            [
             0.7777777777777778,
             "#fb9f3a"
            ],
            [
             0.8888888888888888,
             "#fdca26"
            ],
            [
             1,
             "#f0f921"
            ]
           ]
          },
          "colorway": [
           "#636efa",
           "#EF553B",
           "#00cc96",
           "#ab63fa",
           "#FFA15A",
           "#19d3f3",
           "#FF6692",
           "#B6E880",
           "#FF97FF",
           "#FECB52"
          ],
          "font": {
           "color": "#2a3f5f"
          },
          "geo": {
           "bgcolor": "white",
           "lakecolor": "white",
           "landcolor": "#E5ECF6",
           "showlakes": true,
           "showland": true,
           "subunitcolor": "white"
          },
          "hoverlabel": {
           "align": "left"
          },
          "hovermode": "closest",
          "mapbox": {
           "style": "light"
          },
          "paper_bgcolor": "white",
          "plot_bgcolor": "#E5ECF6",
          "polar": {
           "angularaxis": {
            "gridcolor": "white",
            "linecolor": "white",
            "ticks": ""
           },
           "bgcolor": "#E5ECF6",
           "radialaxis": {
            "gridcolor": "white",
            "linecolor": "white",
            "ticks": ""
           }
          },
          "scene": {
           "xaxis": {
            "backgroundcolor": "#E5ECF6",
            "gridcolor": "white",
            "gridwidth": 2,
            "linecolor": "white",
            "showbackground": true,
            "ticks": "",
            "zerolinecolor": "white"
           },
           "yaxis": {
            "backgroundcolor": "#E5ECF6",
            "gridcolor": "white",
            "gridwidth": 2,
            "linecolor": "white",
            "showbackground": true,
            "ticks": "",
            "zerolinecolor": "white"
           },
           "zaxis": {
            "backgroundcolor": "#E5ECF6",
            "gridcolor": "white",
            "gridwidth": 2,
            "linecolor": "white",
            "showbackground": true,
            "ticks": "",
            "zerolinecolor": "white"
           }
          },
          "shapedefaults": {
           "line": {
            "color": "#2a3f5f"
           }
          },
          "ternary": {
           "aaxis": {
            "gridcolor": "white",
            "linecolor": "white",
            "ticks": ""
           },
           "baxis": {
            "gridcolor": "white",
            "linecolor": "white",
            "ticks": ""
           },
           "bgcolor": "#E5ECF6",
           "caxis": {
            "gridcolor": "white",
            "linecolor": "white",
            "ticks": ""
           }
          },
          "title": {
           "x": 0.05
          },
          "xaxis": {
           "automargin": true,
           "gridcolor": "white",
           "linecolor": "white",
           "ticks": "",
           "title": {
            "standoff": 15
           },
           "zerolinecolor": "white",
           "zerolinewidth": 2
          },
          "yaxis": {
           "automargin": true,
           "gridcolor": "white",
           "linecolor": "white",
           "ticks": "",
           "title": {
            "standoff": 15
           },
           "zerolinecolor": "white",
           "zerolinewidth": 2
          }
         }
        },
        "xaxis": {
         "anchor": "y",
         "domain": [
          0,
          1
         ],
         "dtick": 1,
         "tick0": 0,
         "ticklabelstandoff": 5,
         "tickmode": "linear"
        },
        "xaxis2": {
         "anchor": "y2",
         "domain": [
          0,
          1
         ],
         "dtick": 1,
         "tick0": 0,
         "ticklabelstandoff": 5,
         "tickmode": "linear"
        },
        "yaxis": {
         "anchor": "x",
         "domain": [
          0.55,
          1
         ],
         "dtick": 1,
         "tick0": 0,
         "ticklabelstandoff": 5,
         "tickmode": "linear"
        },
        "yaxis2": {
         "anchor": "x2",
         "domain": [
          0,
          0.45
         ],
         "dtick": 1,
         "tick0": 0,
         "ticklabelstandoff": 5,
         "tickmode": "linear"
        }
       }
      }
     },
     "metadata": {},
     "output_type": "display_data"
    },
    {
     "data": {
      "application/vnd.plotly.v1+json": {
       "config": {
        "plotlyServerURL": "https://plot.ly"
       },
       "data": [
        {
         "colorbar": {
          "len": 0.32222222222222224,
          "thickness": 10,
          "x": 1,
          "xanchor": "left",
          "y": 0.8555555555555555,
          "yanchor": "middle"
         },
         "colorscale": [
          [
           0,
           "rgb(103,0,31)"
          ],
          [
           0.1,
           "rgb(178,24,43)"
          ],
          [
           0.2,
           "rgb(214,96,77)"
          ],
          [
           0.3,
           "rgb(244,165,130)"
          ],
          [
           0.4,
           "rgb(253,219,199)"
          ],
          [
           0.5,
           "rgb(247,247,247)"
          ],
          [
           0.6,
           "rgb(209,229,240)"
          ],
          [
           0.7,
           "rgb(146,197,222)"
          ],
          [
           0.8,
           "rgb(67,147,195)"
          ],
          [
           0.9,
           "rgb(33,102,172)"
          ],
          [
           1,
           "rgb(5,48,97)"
          ]
         ],
         "name": "s1_logit_diff",
         "showscale": true,
         "text": {
          "bdata": "L26jAbwFYj8AAAAAAAAAAJLLf0i/fU2/LUMc6+I2Gr9hMlUwKqkzvwAAAAAAAAAArK3YX3ZPbr8vbqMBvAVSvwAAAAAAAAAAx7q4jQbwVj8VjErqBDRhPy1DHOviNiq/xY8xdy0hXz80ETY8vVKGP2EyVTAqqUO/+n5qvHSTWL8kufyH9NuXP3sUrkfhemS/LUMc6+I2Gj/8qfHSTWJwP4iFWtO844S//Knx0k1iUL+u2F92Tx5mv5T2Bl+YTFW/L26jAbwFgj8730+Nl26Cv5LLf0i/fX0/L26jAbwFgj8tQxzr4jY6P2EyVTAqqVO/exSuR+F6dD8JG55eKcuAPzm0yHa+n3o/XwfOGVHaiz/HuriNBvCmv588LNSa5n2//Knx0k1iQL/gnBGlvcFnv9v5fmq8dIM/YTJVMCqpU78tQxzr4jZKv8e6uI0G8Ha/f2q8dJMYtL8i/fZ14JyBP4Za07zjFH2/vAUSFD/GnL90RpT2Bl+IPzvfT42XboK/zojS3uALk78AAAAAAAAAgJLLf0i/fV0/WKg1zTtOkT9TliGOdXF7vy1DHOviNnq/YTJVMCqpQ789m1Wfq62YP8e6uI0G8HY/wOyePCzUir97FK5H4Xp0vwFNhA1Pr5Q/kst/SL99TT8AAAAAAAAAgJtVn6ut2J+/KVyPwvUonL9aZDvfT42Xv1XBqKROQHM/hlrTvOMUfT+PU3Qkl/+QP67YX3ZPHnY/SS7/If32pb9hVFInoImwP2x4eqUsQ4y/eAskKH6MqT+Sy39Iv32NP/s6cM6I0p6/nzws1JrmjT8JG55eKctwv5jdk4eFWpM/2/l+arx0g7/Kw0Ktad6hv9jw9EpZhqg/1CtlGeJYl78/V1uxv+yevxkEVg4tsp2/rK3YX3ZPbr9hMlUwKqlDPy1DHOviNmq/kKD4Meau1b+hZ7Pqc7WlPyL99nXgnJE/YTJVMCqpo78tQxzr4jZqvy9uowG8BYI//fZ14JwR3T/OiNLe4AuTvy9uowG8BWK/bcX+snvyoL/b+X5qvHSDvwkbnl4py8i/FK5H4XoU5L/CFyZTBaOSvyS5/If029s/exSuR+F66L+NKO0NvjCpv3h6pSxDHLu/KVyPwvUorD/gLZCg+DHGP2x4eqUsQ7y/fPKwUGuax78kufyH9Nunv6JFtvP91MC/odY07zhFx7/uWkI+6NnQv4C3QILix9Q/uY0G8BZIBsAi/fZ14JyRvwu1pnnHKei/nu+nxkv3E8AtQxzr4jYaPxB6Nqs+V6u/zTtO0ZHcA8DGbTSAt0DkvwK8BRIUP/C/idLe4AuT2b/tnjws1Jq2v3npJjEIrGw/mggbnl4p7b/Sb18HzpkHQLgehetRuH6/F9nO91Pjtb/FjzF3LSHzv0dy+Q/pt7+/bxKDwMqhtb/hC5OpglHBv7x0kxgEVuq/jErqBDQR4r/5MeauJeTXPx6n6Egu/8E/jNtoAG+B2L92cRsN4C2QP/cGX5hMFe4/j8L1KFyP0r8sZRniWBfzP5ayDHGsi++/",
          "dtype": "f8",
          "shape": "12, 12"
         },
         "texttemplate": "%{text}",
         "type": "heatmap",
         "x": {
          "bdata": "AAECAwQFBgcICQoL",
          "dtype": "i1"
         },
         "xaxis": "x",
         "y": {
          "bdata": "AAECAwQFBgcICQoL",
          "dtype": "i1"
         },
         "yaxis": "y",
         "z": {
          "bdata": "AAAAABCjYT8AAAAAAKDVPgAAAACAJE6/AAAAAAAwEL8AAAAAgG02vwAAAAAAIPo+AAAAADCPbr8AAAAAgJRSvwAAAAAAgLg+AAAAAEDGVj8AAAAA0ANhPwAAAAAA0i6/AAAAAMDwXj8AAAAAdGaGPwAAAABAQEW/AAAAACDfV78AAAAAdN6XPwAAAABAE2S/AAAAAACwIj8AAAAAGHVwPwAAAAAg04S/AAAAAEBgUL8AAAAAIPplvwAAAADAN1W/AAAAAFgPgj8AAAAA/F2CvwAAAADQdH0/AAAAALjygT8AAAAAAHo4PwAAAACALFS/AAAAAICCdD8AAAAAnM6APwAAAAB4eXo/AAAAAODsiz8AAAAAfPGmvwAAAAAAGX6/AAAAAADmQL8AAAAAoI9nvwAAAAB4YYM/AAAAAOA+U78AAAAAQBpKvwAAAADA+Xa/AAAAgAcbtL8AAAAAwIaBPwAAAACgPH2/AAAAALTGnL8AAAAA4GOIPwAAAAAMZ4K/AAAAAB4Ik78AAAAAAHAGvwAAAACAL10/AAAAAC5bkT8AAAAAsFB7vwAAAACYL3q/AAAAAMCjRL8AAAAAHqWYPwAAAABg5nY/AAAAADjgir8AAAAAKK50vwAAAAAQqZQ/AAAAAAAzTj8AAAAAAHDlvgAAAAA+0p+/AAAAAOAunL8AAAAAgpOXvwAAAACwXXM/AAAAACDzfD8AAAAAYgeRPwAAAADwIXY/AAAAAA74pb8AAACABoywPwAAAAAoXYy/AAAAADqPqT8AAAAAfG+NPwAAAADE1J6/AAAAAHz+jT8AAAAAyMtwvwAAAAAgT5M/AAAAALB9g78AAAAAkuKhvwAAAADXgag/AAAAAI5Wl78AAAAACveevwAAAACqu52/AAAAAPArbr8AAAAAwLpDPwAAAAAwF2q/AAAAoJ6v1b8AAAAAWa+lPwAAAADyl5E/AAAAAG6qo78AAAAAAORpvwAAAAD8AII/AAAAANoR3T8AAAAAMBaTvwAAAADQ/mG/AAAAANPyoL8AAAAANF2DvwAAAABjysi/AAAAAMwU5L8AAAAA3quSvwAAAEBn29s/AAAAoPx66L8AAAAAJCypvwAAAADgHbu/AAAAAIcsrD8AAABA0THGPwAAAABOQby/AAAAwIOZx78AAAAApN2nvwAAAAB51cC/AAAAgMJFx78AAACgaNrQvwAAAMAyyNQ/AAAA4ARIBsAAAAAAXpuRvwAAAECbKei/AAAAwFj3E8AAAAAAADwSPwAAAAA7Vau/AAAAYJLcA8AAAABAmEDkvwAAAAD0PvC/AAAAwNiS2b8AAAAAdZ22vwAAAADgRGw/AAAAwPYo7b8AAAAAv5kHQAAAAADIm36/AAAAAF3htb8AAADgLCHzvwAAAIDlur+/AAAAAMahtb8AAAAALlLBvwAAAEDRVeq/AAAAQIUR4r8AAACg7+PXPwAAAACA/sE/AAAAwBiB2L8AAAAA6jWQPwAAAIAMFe4/AAAAIMWP0r8AAACAhBfzPwAAAMDSi++/",
          "dtype": "f8",
          "shape": "12, 12"
         },
         "zmax": 4.991549491882324,
         "zmid": 0,
         "zmin": -4.991549491882324
        },
        {
         "colorbar": {
          "len": 0.32222222222222224,
          "thickness": 10,
          "x": 1,
          "xanchor": "left",
          "y": 0.4999999999999999,
          "yanchor": "middle"
         },
         "colorscale": [
          [
           0,
           "rgb(103,0,31)"
          ],
          [
           0.1,
           "rgb(178,24,43)"
          ],
          [
           0.2,
           "rgb(214,96,77)"
          ],
          [
           0.3,
           "rgb(244,165,130)"
          ],
          [
           0.4,
           "rgb(253,219,199)"
          ],
          [
           0.5,
           "rgb(247,247,247)"
          ],
          [
           0.6,
           "rgb(209,229,240)"
          ],
          [
           0.7,
           "rgb(146,197,222)"
          ],
          [
           0.8,
           "rgb(67,147,195)"
          ],
          [
           0.9,
           "rgb(33,102,172)"
          ],
          [
           1,
           "rgb(5,48,97)"
          ]
         ],
         "name": "s2_logit_diff",
         "showscale": true,
         "text": {
          "bdata": "+n5qvHSTWD8AAAAAAAAAAC1DHOviNlq/LUMc6+I2Gr/8qfHSTWJAvwAAAAAAAAAAiIVa07zjhL+Sy39Iv31dvy1DHOviNhq//Knx0k1iQD/8qfHSTWJgP8WPMXctIV+/LUMc6+I2Wj+1pnnHKTqCPy1DHOviNiq/LUMc6+I2Wr8XSFD8GHOXP18HzhlR2mu/xY8xdy0hX78vbqMBvAWCvy9uowG8BYK//Knx0k1iUD9GJXUCmghrv18HzhlR2ls/CRueXinLgD+4HoXrUbiOv3npJjEIrHw/xY8xdy0hfz8tQxzr4jYaP18HzhlR2lu/iIVa07zjdD+At0CC4seIPzm0yHa+n3o/gLdAguLHiD9vgQTFjzGnv3npJjEIrHy//Knx0k1iQL9GJXUCmghrv+hqK/aX3YM/YTJVMCqpU78vbqMBvAVSv5zEILByaIG/QBNhw9Mrtb/ecYqO5PJ/Pzm0yHa+n3q/1edqK/aXnb+At0CC4seIP+hqK/aX3YO/mN2Th4Vak79hMlUwKqkzPy9uowG8BVI/s3vysFBrij/UK2UZ4lh3vzm0yHa+n3q//Knx0k1iUL9KDAIrhxaZP/p+arx0k3g/xf6ye/KwkL+U9gZfmEx1v74wmSoYlZQ/LUMc6+I2Sj8AAAAAAAAAgPs6cM6I0p6/rK3YX3ZPnr+At0CC4seYv0hQ/Bhz13I/eekmMQisfD+GWtO84xSNP9IA3gIJin8/YhBYObTIpr+n6Egu/yGtP0GC4seYu4a/NBE2PL1Spj9uowG8BRKUPyS5/If025e/uB6F61G4jj9VwaikTkCDv2EyVTAqqZM/dnEbDeAtgL9hMlUwKqmjv2fV52or9qc/3+ALk6mCkb9CPujZrPqcvyV1ApoIG56/XwfOGVHaa7+Sy39Iv31Nv5T2Bl+YTGW/MuauJeSDzr+6SQwCK4emP+CcEaW9wXc/6Ugu/yH9pr/8qfHSTWJgv18HzhlR2ls/5IOezarP4z8i/fZ14JyRv8e6uI0G8EY/8rBQa5p3nL97FK5H4XqEv9k9eVioNc2/nMQgsHJo47/sUbgeheuRv1D8GHPXEto/SOF6FK5H578wKqkT0ESov0Mc6+I2GsC/5x2n6Egurz8730+Nl27gP8SxLm6jAcS/N4lBYOXQwr/lYaHWNO+ovwdfmEwVjLq/BaOSOgFNxL+QMXctIR/MvzVeukkMAtc/Z0Rpb/CFAsDVeOkmMQjEP2gibHh6pe6/WvW52or9CcBhMlUwKqkzv2lv8IXJVLG/bVZ9rrZi/b/A7J48LNTav+LplbIMcfG/yeU/pN++2r/cRgN4CyS4v5LLf0i/fV0/zO7Jw0Kt5b8noImw4ekBQDvfT42XboK/uY0G8BZIsL+/DpwzorTpvzGZKhiV1Lm/ZvfkYaHWpL8jSnuDL0y2v4ts5/up8fS/7lpCPujZ3L9/arx0kxjYPxUdyeU/pL8/gEi/fR044b9uowG8BRKUP6abxCCwcu4/cRsN4C2Q0L8f9GxWfa7oP636XG3F/u6/",
          "dtype": "f8",
          "shape": "12, 12"
         },
         "texttemplate": "%{text}",
         "type": "heatmap",
         "x": {
          "bdata": "AAECAwQFBgcICQoL",
          "dtype": "i1"
         },
         "xaxis": "x2",
         "y": {
          "bdata": "AAECAwQFBgcICQoL",
          "dtype": "i1"
         },
         "yaxis": "y2",
         "z": {
          "bdata": "AAAAAODEWD8AAAAAAEDgPgAAAACgBFu/AAAAAACYDr8AAAAAgOw9vwAAAAAAsOs+AAAAAJzUhL8AAAAA4BdevwAAAAAANA6/AAAAAEDWQD8AAAAAoGpgPwAAAADA2F6/AAAAAKBmWj8AAAAASEGCPwAAAAAARCm/AAAAAIBqWb8AAAAAGnaXPwAAAADAtmu/AAAAAGDnX78AAAAA/PmBvwAAAADsDoK/AAAAACArUD8AAAAAMOtqvwAAAADgWVs/AAAAAFjSgD8AAAAAEMCOvwAAAADQeXw/AAAAADA5fz8AAAAAALgNPwAAAABAG1u/AAAAAOjodD8AAAAAgMSIPwAAAAAwrXo/AAAAALyyiD8AAAAABDCnvwAAAADofHy/AAAAAEA9Qb8AAAAAkPNqvwAAAAAQ6oM/AAAAAGBCU78AAAAAYF5SvwAAAADogYG/AAAAgDsqtb8AAAAAoNN/PwAAAACos3q/AAAAAEqQnb8AAAAA/K6IPwAAAAA8zIO/AAAAAIhbk78AAAAAgKIxPwAAAABglVI/AAAAAOyDij8AAAAAKIN3vwAAAACwsHq/AAAAACApUL8AAAAA0BuZPwAAAAAQaHg/AAAAALSxkL8AAAAAIFV1vwAAAAA8m5Q/AAAAAMDBSD8AAAAAAGj7vgAAAACcyp6/AAAAAOBCnr8AAAAA+NKYvwAAAACYCXM/AAAAAHi/fD8AAAAAHBeNPwAAAACohX8/AAAAAGTCpr8AAAAATR2tPwAAAAB0vYa/AAAAAEpXpj8AAAAAdhCUPwAAAAB81pe/AAAAABytjj8AAAAANDiDvwAAAABaoJM/AAAAAHQjgL8AAAAANKWjvwAAAAAn9Kc/AAAAAMiFkb8AAAAAlu+cvwAAAAAAG56/AAAAAFAzbL8AAAAAABdOvwAAAADgJGW/AAAAQBiDzr8AAAAARYOmPwAAAACwtXc/AAAAAEz8pr8AAAAA0BJgvwAAAABgAVw/AAAAoKnP4z8AAAAAgJWRvwAAAACAXUc/AAAAAPR0nL8AAAAAnGaEvwAAAEB9NM2/AAAAgHVo478AAAAA9uKRvwAAAEA1E9o/AAAAAPdH578AAAAAe0qovwAAAIDMGcC/AAAAAMM0rz8AAACA1G7gPwAAAABlAcS/AAAAAJbQwr8AAAAA0vGovwAAAIBajbq/AAAAgHRMxL8AAAAAZCDMvwAAACBLAdc/AAAAAAmGAsAAAACAawfEPwAAAIDbpe6/AAAAQIX9CcAAAAAAgPsxvwAAAAACUrG/AAAAgKJi/b8AAACA79TavwAAAEDlcPG/AAAAAKC/2r8AAACApSS4vwAAAABAbF0/AAAAAKut5b8AAAAg4ukBQAAAAAC4XoK/AAAAAHBFsL8AAACg0rTpvwAAAIDq1rm/AAAAAOnWpL8AAACAE0+2vwAAACCN8fS/AAAAQH/Z3L8AAAAAChnYPwAAAICNor8/AAAAwGs44b8AAAAAyhKUPwAAAOC8cu4/AAAAoLCQ0L8AAACArK7oPwAAAABl/u6/",
          "dtype": "f8",
          "shape": "12, 12"
         },
         "zmax": 4.991549491882324,
         "zmid": 0,
         "zmin": -4.991549491882324
        },
        {
         "colorbar": {
          "len": 0.32222222222222224,
          "thickness": 10,
          "x": 1,
          "xanchor": "left",
          "y": 0.1444444444444444,
          "yanchor": "middle"
         },
         "colorscale": [
          [
           0,
           "rgb(103,0,31)"
          ],
          [
           0.1,
           "rgb(178,24,43)"
          ],
          [
           0.2,
           "rgb(214,96,77)"
          ],
          [
           0.3,
           "rgb(244,165,130)"
          ],
          [
           0.4,
           "rgb(253,219,199)"
          ],
          [
           0.5,
           "rgb(247,247,247)"
          ],
          [
           0.6,
           "rgb(209,229,240)"
          ],
          [
           0.7,
           "rgb(146,197,222)"
          ],
          [
           0.8,
           "rgb(67,147,195)"
          ],
          [
           0.9,
           "rgb(33,102,172)"
          ],
          [
           1,
           "rgb(5,48,97)"
          ]
         ],
         "name": "s3_logit_diff",
         "showscale": true,
         "text": {
          "bdata": "LUMc6+I2aj8AAAAAAAAAAPyp8dJNYkC/LUMc6+I2Gr9hMlUwKqkzvwAAAAAAAAAAlPYGX5hMVT/8qfHSTWJAvy1DHOviNho//Knx0k1iYD9hMlUwKqljPy1DHOviNiq//Knx0k1iYD+mCkYldQKKP8e6uI0G8Ea/kst/SL99Xb9Wfa62Yn+ZP8WPMXctIV+/kst/SL99bT/8qfHSTWKQP03zjlN0JIe/lPYGX5hMZb/6fmq8dJNov18HzhlR2mu/zojS3uALgz/8qfHSTWJgP95xio7k8n8/Iv32deCcgT+Sy39Iv31NP5T2Bl+YTFW/L26jAbwFcj92cRsN4C2APy9uowG8BYI/MuauJeSDjj9FR3L5D+mnv3ZxGw3gLYC/YTJVMCqpQ78tQxzr4jYaP4C3QILix4g/kst/SL99Tb8tQxzr4jZKv2EyVTAqqWO/rWnecYqOtL+hZ7Pqc7WFP5T2Bl+YTHW/m1Wfq63Yn79N845TdCSHPzvfT42XboK/vjCZKhiVlL9hMlUwKqkzPxNhw9MrZXk/EqW9wRcmkz/oaiv2l92Dv67YX3ZPHna/4JwRpb3BZz/QRNjw9EqZP95xio7k8n8/Iv32deCckb+U9gZfmEx1v/H0SlmGOJY/YTJVMCqpUz8AAAAAAAAAAAfwFkhQ/Ji/jSjtDb4wmb/HuriNBvCWvyDSb18Hznk/hlrTvOMUfT84+MJkqmCUP3ZxGw3gLYA/E2HD0ytlqb+HFtnO91OzP/H0SlmGOJa/BTQRNjy9sj9KDAIrhxaZP921hHzQs5m/nzws1JrmjT9U46WbxCCgP3RGlPYGX4g/YTJVMCqpk7//If32deCcvxgmUwWjkqo/8rBQa5p3jL+amZmZmZmZv0YldQKaCJu/XwfOGVHaW7+6SQwCK4d2P2EyVTAqqVO/3GgAb4EE3b/pSC7/If2mP00VjErqBKQ/ke18PzVeqr/gnBGlvcFnP/8h/fZ14Iw/zO7Jw0Kt2T/oaiv2l92Dv9IA3gIJio8/XCBB8WPMnb9fB84ZUdp7v9DVVuwvu7e/MCqpE9BE4L+4HoXrUbiOv8X+snvysNg/8kHPZtXn2r+mCkYldQKqvzcawFsgQbG/6gQ0ETY8rT/aG3xhMlWwv1tCPujZrKq/ukkMAiuHhr8Sg8DKoUWmvwyTqYJRSZ0/lkOLbOf7wb80orQ3+MLMv/H0SlmGOM4/mpmZmZmZ778zxLEubqOxv/d14JwRpb2/mpmZmZkZAMCSy39Iv31Nvy1DHOviNoq/tRX7y+7J179O0ZFc/kOqP3e+nxov3cS/Y+5aQj7oqb+JQWDl0CKrv2EyVTAqqTO/V+wvuycPw7+FfNCzWfXtPwkbnl4py5C/bHh6pSxDjL8LJCh+jLnDv/KwUGuad4y/odY07zhFt78X2c73U+PRP8Dsnjws1Og/+FPjpZvEsD/wp8ZLN4nVPxrAWyBB8bM/hslUwaikxj/gnBGlvcGHPwskKH6MufA/5x2n6Eguvz9mZmZmZmbGv2N/2T15WOa/",
          "dtype": "f8",
          "shape": "12, 12"
         },
         "texttemplate": "%{text}",
         "type": "heatmap",
         "x": {
          "bdata": "AAECAwQFBgcICQoL",
          "dtype": "i1"
         },
         "xaxis": "x3",
         "y": {
          "bdata": "AAECAwQFBgcICQoL",
          "dtype": "i1"
         },
         "yaxis": "y3",
         "z": {
          "bdata": "AAAAACBraj8AAAAAACDkPgAAAACAwkC/AAAAAAB0Eb8AAAAAgPYzvwAAAAAAzAU/AAAAACBHVT8AAAAAgKtAvwAAAAAAbBE/AAAAAJDGYD8AAAAAIA5kPwAAAAAAxCO/AAAAAABPYD8AAAAAAOmJPwAAAACAEEe/AAAAAMCMXb8AAAAAkHaZPwAAAAAg5F+/AAAAABA7bT8AAAAAamCQPwAAAAC4OYe/AAAAAKB4Zb8AAAAAAGNovwAAAACgymu/AAAAAKj6gj8AAAAAQItgPwAAAACo2n8/AAAAAMCMgT8AAAAAgKFNPwAAAACg2VW/AAAAAJgscj8AAAAAjDuAPwAAAACg/IE/AAAAAHSJjj8AAAAAsuynvwAAAAA4JYC/AAAAAIChQ78AAAAAAFwcPwAAAAB414g/AAAAAMD9Tb8AAAAAwAZJvwAAAABQrGO/AAAAgGyLtL8AAAAAXLyFPwAAAACQb3W/AAAAAFTPn78AAAAAkAuHPwAAAAAYeYK/AAAAAGSWlL8AAAAAACs2PwAAAADoO3k/AAAAADgukz8AAAAAhMqDvwAAAADIUHa/AAAAANCtZz8AAAAAgj+ZPwAAAAB4yH8/AAAAAIKikb8AAAAAiEB1vwAAAAB2N5Y/AAAAAOC7Uz8AAAAAAGQCPwAAAADQBJm/AAAAACIumb8AAAAArPqWvwAAAABw13k/AAAAABhAfT8AAAAAQGKUPwAAAACcM4A/AAAAAMpjqb8AAACApFOzPwAAAADuMZa/AAAAgDe9sj8AAAAAGAuZPwAAAADQrJm/AAAAAATTjT8AAAAA0BugPwAAAAAsWog/AAAAAI6jk78AAAAAtOmcvwAAAAANkqo/AAAAAJyHjL8AAAAAuI6ZvwAAAABYEZu/AAAAAKDbW78AAAAA0Fd2PwAAAACAklO/AAAAIAQF3b8AAAAAvAKnPwAAAAAACqQ/AAAAAD9hqr8AAAAAwNBnPwAAAADQ0ow/AAAA4KKt2T8AAAAAxPGDvwAAAADUcY8/AAAAAGbKnb8AAAAAkPx7vwAAAABru7e/AAAAgANF4L8AAAAAdNGOvwAAAKBFsdg/AAAAgIvo2r8AAAAABAOqvwAAAACkQbG/AAAAAPA7rT8AAAAAx1KwvwAAAACAsKq/AAAAAOCHhr8AAAAAdUOmvwAAAAA8Rp0/AAAAgAr9wb8AAACAX8TMvwAAAIDROc4/AAAAYKSZ778AAAAAm6CxvwAAAICxo72/AAAAIKsZAMAAAAAAQIROvwAAAACIHoq/AAAAQBnK178AAAAASEqqPwAAAMBu3sS/AAAAABLmqb8AAAAAVyKrvwAAAAAAqDS/AAAAwH8Ow78AAACAH/XtPwAAAACkzJC/AAAAAMBGjL8AAAAANLrDvwAAAAB8hIy/AAAAgDpCt78AAAAgf+PRPwAAAEDn0+g/AAAAAL7BsD8AAAAg74jVPwAAAABN7rM/AAAAwAmkxj8AAAAA+MeHPwAAACC7ufA/AAAAgKwuvz8AAAAADmfGvwAAAECfWOa/",
          "dtype": "f8",
          "shape": "12, 12"
         },
         "zmax": 4.991549491882324,
         "zmid": 0,
         "zmin": -4.991549491882324
        }
       ],
       "layout": {
        "annotations": [
         {
          "font": {
           "size": 16
          },
          "showarrow": false,
          "text": "s1_logit_diff",
          "x": 0.5,
          "xanchor": "center",
          "xref": "paper",
          "y": 1,
          "yanchor": "bottom",
          "yref": "paper"
         },
         {
          "font": {
           "size": 16
          },
          "showarrow": false,
          "text": "s2_logit_diff",
          "x": 0.5,
          "xanchor": "center",
          "xref": "paper",
          "y": 0.6444444444444445,
          "yanchor": "bottom",
          "yref": "paper"
         },
         {
          "font": {
           "size": 16
          },
          "showarrow": false,
          "text": "s3_logit_diff",
          "x": 0.5,
          "xanchor": "center",
          "xref": "paper",
          "y": 0.2888888888888889,
          "yanchor": "bottom",
          "yref": "paper"
         }
        ],
        "height": 1200,
        "template": {
         "data": {
          "bar": [
           {
            "error_x": {
             "color": "#2a3f5f"
            },
            "error_y": {
             "color": "#2a3f5f"
            },
            "marker": {
             "line": {
              "color": "#E5ECF6",
              "width": 0.5
             },
             "pattern": {
              "fillmode": "overlay",
              "size": 10,
              "solidity": 0.2
             }
            },
            "type": "bar"
           }
          ],
          "barpolar": [
           {
            "marker": {
             "line": {
              "color": "#E5ECF6",
              "width": 0.5
             },
             "pattern": {
              "fillmode": "overlay",
              "size": 10,
              "solidity": 0.2
             }
            },
            "type": "barpolar"
           }
          ],
          "carpet": [
           {
            "aaxis": {
             "endlinecolor": "#2a3f5f",
             "gridcolor": "white",
             "linecolor": "white",
             "minorgridcolor": "white",
             "startlinecolor": "#2a3f5f"
            },
            "baxis": {
             "endlinecolor": "#2a3f5f",
             "gridcolor": "white",
             "linecolor": "white",
             "minorgridcolor": "white",
             "startlinecolor": "#2a3f5f"
            },
            "type": "carpet"
           }
          ],
          "choropleth": [
           {
            "colorbar": {
             "outlinewidth": 0,
             "ticks": ""
            },
            "type": "choropleth"
           }
          ],
          "contour": [
           {
            "colorbar": {
             "outlinewidth": 0,
             "ticks": ""
            },
            "colorscale": [
             [
              0,
              "#0d0887"
             ],
             [
              0.1111111111111111,
              "#46039f"
             ],
             [
              0.2222222222222222,
              "#7201a8"
             ],
             [
              0.3333333333333333,
              "#9c179e"
             ],
             [
              0.4444444444444444,
              "#bd3786"
             ],
             [
              0.5555555555555556,
              "#d8576b"
             ],
             [
              0.6666666666666666,
              "#ed7953"
             ],
             [
              0.7777777777777778,
              "#fb9f3a"
             ],
             [
              0.8888888888888888,
              "#fdca26"
             ],
             [
              1,
              "#f0f921"
             ]
            ],
            "type": "contour"
           }
          ],
          "contourcarpet": [
           {
            "colorbar": {
             "outlinewidth": 0,
             "ticks": ""
            },
            "type": "contourcarpet"
           }
          ],
          "heatmap": [
           {
            "colorbar": {
             "outlinewidth": 0,
             "ticks": ""
            },
            "colorscale": [
             [
              0,
              "#0d0887"
             ],
             [
              0.1111111111111111,
              "#46039f"
             ],
             [
              0.2222222222222222,
              "#7201a8"
             ],
             [
              0.3333333333333333,
              "#9c179e"
             ],
             [
              0.4444444444444444,
              "#bd3786"
             ],
             [
              0.5555555555555556,
              "#d8576b"
             ],
             [
              0.6666666666666666,
              "#ed7953"
             ],
             [
              0.7777777777777778,
              "#fb9f3a"
             ],
             [
              0.8888888888888888,
              "#fdca26"
             ],
             [
              1,
              "#f0f921"
             ]
            ],
            "type": "heatmap"
           }
          ],
          "histogram": [
           {
            "marker": {
             "pattern": {
              "fillmode": "overlay",
              "size": 10,
              "solidity": 0.2
             }
            },
            "type": "histogram"
           }
          ],
          "histogram2d": [
           {
            "colorbar": {
             "outlinewidth": 0,
             "ticks": ""
            },
            "colorscale": [
             [
              0,
              "#0d0887"
             ],
             [
              0.1111111111111111,
              "#46039f"
             ],
             [
              0.2222222222222222,
              "#7201a8"
             ],
             [
              0.3333333333333333,
              "#9c179e"
             ],
             [
              0.4444444444444444,
              "#bd3786"
             ],
             [
              0.5555555555555556,
              "#d8576b"
             ],
             [
              0.6666666666666666,
              "#ed7953"
             ],
             [
              0.7777777777777778,
              "#fb9f3a"
             ],
             [
              0.8888888888888888,
              "#fdca26"
             ],
             [
              1,
              "#f0f921"
             ]
            ],
            "type": "histogram2d"
           }
          ],
          "histogram2dcontour": [
           {
            "colorbar": {
             "outlinewidth": 0,
             "ticks": ""
            },
            "colorscale": [
             [
              0,
              "#0d0887"
             ],
             [
              0.1111111111111111,
              "#46039f"
             ],
             [
              0.2222222222222222,
              "#7201a8"
             ],
             [
              0.3333333333333333,
              "#9c179e"
             ],
             [
              0.4444444444444444,
              "#bd3786"
             ],
             [
              0.5555555555555556,
              "#d8576b"
             ],
             [
              0.6666666666666666,
              "#ed7953"
             ],
             [
              0.7777777777777778,
              "#fb9f3a"
             ],
             [
              0.8888888888888888,
              "#fdca26"
             ],
             [
              1,
              "#f0f921"
             ]
            ],
            "type": "histogram2dcontour"
           }
          ],
          "mesh3d": [
           {
            "colorbar": {
             "outlinewidth": 0,
             "ticks": ""
            },
            "type": "mesh3d"
           }
          ],
          "parcoords": [
           {
            "line": {
             "colorbar": {
              "outlinewidth": 0,
              "ticks": ""
             }
            },
            "type": "parcoords"
           }
          ],
          "pie": [
           {
            "automargin": true,
            "type": "pie"
           }
          ],
          "scatter": [
           {
            "fillpattern": {
             "fillmode": "overlay",
             "size": 10,
             "solidity": 0.2
            },
            "type": "scatter"
           }
          ],
          "scatter3d": [
           {
            "line": {
             "colorbar": {
              "outlinewidth": 0,
              "ticks": ""
             }
            },
            "marker": {
             "colorbar": {
              "outlinewidth": 0,
              "ticks": ""
             }
            },
            "type": "scatter3d"
           }
          ],
          "scattercarpet": [
           {
            "marker": {
             "colorbar": {
              "outlinewidth": 0,
              "ticks": ""
             }
            },
            "type": "scattercarpet"
           }
          ],
          "scattergeo": [
           {
            "marker": {
             "colorbar": {
              "outlinewidth": 0,
              "ticks": ""
             }
            },
            "type": "scattergeo"
           }
          ],
          "scattergl": [
           {
            "marker": {
             "colorbar": {
              "outlinewidth": 0,
              "ticks": ""
             }
            },
            "type": "scattergl"
           }
          ],
          "scattermap": [
           {
            "marker": {
             "colorbar": {
              "outlinewidth": 0,
              "ticks": ""
             }
            },
            "type": "scattermap"
           }
          ],
          "scattermapbox": [
           {
            "marker": {
             "colorbar": {
              "outlinewidth": 0,
              "ticks": ""
             }
            },
            "type": "scattermapbox"
           }
          ],
          "scatterpolar": [
           {
            "marker": {
             "colorbar": {
              "outlinewidth": 0,
              "ticks": ""
             }
            },
            "type": "scatterpolar"
           }
          ],
          "scatterpolargl": [
           {
            "marker": {
             "colorbar": {
              "outlinewidth": 0,
              "ticks": ""
             }
            },
            "type": "scatterpolargl"
           }
          ],
          "scatterternary": [
           {
            "marker": {
             "colorbar": {
              "outlinewidth": 0,
              "ticks": ""
             }
            },
            "type": "scatterternary"
           }
          ],
          "surface": [
           {
            "colorbar": {
             "outlinewidth": 0,
             "ticks": ""
            },
            "colorscale": [
             [
              0,
              "#0d0887"
             ],
             [
              0.1111111111111111,
              "#46039f"
             ],
             [
              0.2222222222222222,
              "#7201a8"
             ],
             [
              0.3333333333333333,
              "#9c179e"
             ],
             [
              0.4444444444444444,
              "#bd3786"
             ],
             [
              0.5555555555555556,
              "#d8576b"
             ],
             [
              0.6666666666666666,
              "#ed7953"
             ],
             [
              0.7777777777777778,
              "#fb9f3a"
             ],
             [
              0.8888888888888888,
              "#fdca26"
             ],
             [
              1,
              "#f0f921"
             ]
            ],
            "type": "surface"
           }
          ],
          "table": [
           {
            "cells": {
             "fill": {
              "color": "#EBF0F8"
             },
             "line": {
              "color": "white"
             }
            },
            "header": {
             "fill": {
              "color": "#C8D4E3"
             },
             "line": {
              "color": "white"
             }
            },
            "type": "table"
           }
          ]
         },
         "layout": {
          "annotationdefaults": {
           "arrowcolor": "#2a3f5f",
           "arrowhead": 0,
           "arrowwidth": 1
          },
          "autotypenumbers": "strict",
          "coloraxis": {
           "colorbar": {
            "outlinewidth": 0,
            "ticks": ""
           }
          },
          "colorscale": {
           "diverging": [
            [
             0,
             "#8e0152"
            ],
            [
             0.1,
             "#c51b7d"
            ],
            [
             0.2,
             "#de77ae"
            ],
            [
             0.3,
             "#f1b6da"
            ],
            [
             0.4,
             "#fde0ef"
            ],
            [
             0.5,
             "#f7f7f7"
            ],
            [
             0.6,
             "#e6f5d0"
            ],
            [
             0.7,
             "#b8e186"
            ],
            [
             0.8,
             "#7fbc41"
            ],
            [
             0.9,
             "#4d9221"
            ],
            [
             1,
             "#276419"
            ]
           ],
           "sequential": [
            [
             0,
             "#0d0887"
            ],
            [
             0.1111111111111111,
             "#46039f"
            ],
            [
             0.2222222222222222,
             "#7201a8"
            ],
            [
             0.3333333333333333,
             "#9c179e"
            ],
            [
             0.4444444444444444,
             "#bd3786"
            ],
            [
             0.5555555555555556,
             "#d8576b"
            ],
            [
             0.6666666666666666,
             "#ed7953"
            ],
            [
             0.7777777777777778,
             "#fb9f3a"
            ],
            [
             0.8888888888888888,
             "#fdca26"
            ],
            [
             1,
             "#f0f921"
            ]
           ],
           "sequentialminus": [
            [
             0,
             "#0d0887"
            ],
            [
             0.1111111111111111,
             "#46039f"
            ],
            [
             0.2222222222222222,
             "#7201a8"
            ],
            [
             0.3333333333333333,
             "#9c179e"
            ],
            [
             0.4444444444444444,
             "#bd3786"
            ],
            [
             0.5555555555555556,
             "#d8576b"
            ],
            [
             0.6666666666666666,
             "#ed7953"
            ],
            [
             0.7777777777777778,
             "#fb9f3a"
            ],
            [
             0.8888888888888888,
             "#fdca26"
            ],
            [
             1,
             "#f0f921"
            ]
           ]
          },
          "colorway": [
           "#636efa",
           "#EF553B",
           "#00cc96",
           "#ab63fa",
           "#FFA15A",
           "#19d3f3",
           "#FF6692",
           "#B6E880",
           "#FF97FF",
           "#FECB52"
          ],
          "font": {
           "color": "#2a3f5f"
          },
          "geo": {
           "bgcolor": "white",
           "lakecolor": "white",
           "landcolor": "#E5ECF6",
           "showlakes": true,
           "showland": true,
           "subunitcolor": "white"
          },
          "hoverlabel": {
           "align": "left"
          },
          "hovermode": "closest",
          "mapbox": {
           "style": "light"
          },
          "paper_bgcolor": "white",
          "plot_bgcolor": "#E5ECF6",
          "polar": {
           "angularaxis": {
            "gridcolor": "white",
            "linecolor": "white",
            "ticks": ""
           },
           "bgcolor": "#E5ECF6",
           "radialaxis": {
            "gridcolor": "white",
            "linecolor": "white",
            "ticks": ""
           }
          },
          "scene": {
           "xaxis": {
            "backgroundcolor": "#E5ECF6",
            "gridcolor": "white",
            "gridwidth": 2,
            "linecolor": "white",
            "showbackground": true,
            "ticks": "",
            "zerolinecolor": "white"
           },
           "yaxis": {
            "backgroundcolor": "#E5ECF6",
            "gridcolor": "white",
            "gridwidth": 2,
            "linecolor": "white",
            "showbackground": true,
            "ticks": "",
            "zerolinecolor": "white"
           },
           "zaxis": {
            "backgroundcolor": "#E5ECF6",
            "gridcolor": "white",
            "gridwidth": 2,
            "linecolor": "white",
            "showbackground": true,
            "ticks": "",
            "zerolinecolor": "white"
           }
          },
          "shapedefaults": {
           "line": {
            "color": "#2a3f5f"
           }
          },
          "ternary": {
           "aaxis": {
            "gridcolor": "white",
            "linecolor": "white",
            "ticks": ""
           },
           "baxis": {
            "gridcolor": "white",
            "linecolor": "white",
            "ticks": ""
           },
           "bgcolor": "#E5ECF6",
           "caxis": {
            "gridcolor": "white",
            "linecolor": "white",
            "ticks": ""
           }
          },
          "title": {
           "x": 0.05
          },
          "xaxis": {
           "automargin": true,
           "gridcolor": "white",
           "linecolor": "white",
           "ticks": "",
           "title": {
            "standoff": 15
           },
           "zerolinecolor": "white",
           "zerolinewidth": 2
          },
          "yaxis": {
           "automargin": true,
           "gridcolor": "white",
           "linecolor": "white",
           "ticks": "",
           "title": {
            "standoff": 15
           },
           "zerolinecolor": "white",
           "zerolinewidth": 2
          }
         }
        },
        "xaxis": {
         "anchor": "y",
         "domain": [
          0,
          1
         ],
         "dtick": 1,
         "tick0": 0,
         "ticklabelstandoff": 5,
         "tickmode": "linear"
        },
        "xaxis2": {
         "anchor": "y2",
         "domain": [
          0,
          1
         ],
         "dtick": 1,
         "tick0": 0,
         "ticklabelstandoff": 5,
         "tickmode": "linear"
        },
        "xaxis3": {
         "anchor": "y3",
         "domain": [
          0,
          1
         ],
         "dtick": 1,
         "tick0": 0,
         "ticklabelstandoff": 5,
         "tickmode": "linear"
        },
        "yaxis": {
         "anchor": "x",
         "domain": [
          0.7111111111111111,
          1
         ],
         "dtick": 1,
         "tick0": 0,
         "ticklabelstandoff": 5,
         "tickmode": "linear"
        },
        "yaxis2": {
         "anchor": "x2",
         "domain": [
          0.35555555555555557,
          0.6444444444444445
         ],
         "dtick": 1,
         "tick0": 0,
         "ticklabelstandoff": 5,
         "tickmode": "linear"
        },
        "yaxis3": {
         "anchor": "x3",
         "domain": [
          0,
          0.2888888888888889
         ],
         "dtick": 1,
         "tick0": 0,
         "ticklabelstandoff": 5,
         "tickmode": "linear"
        }
       }
      }
     },
     "metadata": {},
     "output_type": "display_data"
    }
   ],
   "source": [
    "from learning.ioi_circuit.plot import Plotter\n",
    "\n",
    "plotter = Plotter.from_metrics(results_11)\n",
    "\n",
    "# --- Plot KL and TV ---\n",
    "fig1 = plotter.plot_metrics(\n",
    "    metric_names=[\n",
    "        \"KL\",\n",
    "        \"TV\",\n",
    "    ],\n",
    ")\n",
    "fig1.show()\n",
    "\n",
    "fig2 = plotter.plot_metrics(\n",
    "    metric_names=[\n",
    "        \"s1_logit_diff\",\n",
    "        \"s2_logit_diff\",\n",
    "        \"s3_logit_diff\",\n",
    "    ],\n",
    "    colorscale=\"RdBu\",\n",
    "    uniform_colorscale=True,\n",
    "    center_at_zero=True,\n",
    ")\n",
    "fig2.show()"
   ]
  },
  {
   "cell_type": "code",
   "execution_count": 150,
   "id": "368cfc62",
   "metadata": {},
   "outputs": [],
   "source": [
    "layer_11_end_heads = [HeadId(11, 2), HeadId(11, 10)]\n",
    "\n",
    "batch_abb = prompt_template.sample_batch_abb(BATCH_SIZE)\n",
    "batch_abb.s3_indices = baseline_batch.s3_indices\n",
    "\n",
    "results_10: list[list[ProbsMetrics]] = []\n",
    "for block_idx in range(model.config.num_blocks - 1):\n",
    "    block_results: list[ProbsMetrics] = []\n",
    "    for head_idx in range(model.config.num_heads):\n",
    "        result: ProbsMetrics = analyzer.analyze_head(\n",
    "            PathPatchingConfig(\n",
    "                start_head=HeadId(block_idx, head_idx),\n",
    "                end_heads=layer_11_end_heads,\n",
    "            ),\n",
    "            baseline_output,\n",
    "            batch_abb,\n",
    "        )\n",
    "        block_results.append(result)\n",
    "    results_10.append(block_results)\n"
   ]
  },
  {
   "cell_type": "code",
   "execution_count": 151,
   "id": "b379e10a",
   "metadata": {},
   "outputs": [
    {
     "data": {
      "application/vnd.plotly.v1+json": {
       "config": {
        "plotlyServerURL": "https://plot.ly"
       },
       "data": [
        {
         "colorbar": {
          "len": 0.5,
          "thickness": 10,
          "x": 1,
          "xanchor": "left",
          "y": 0.775,
          "yanchor": "middle"
         },
         "colorscale": [
          [
           0,
           "rgb(247,251,255)"
          ],
          [
           0.125,
           "rgb(222,235,247)"
          ],
          [
           0.25,
           "rgb(198,219,239)"
          ],
          [
           0.375,
           "rgb(158,202,225)"
          ],
          [
           0.5,
           "rgb(107,174,214)"
          ],
          [
           0.625,
           "rgb(66,146,198)"
          ],
          [
           0.75,
           "rgb(33,113,181)"
          ],
          [
           0.875,
           "rgb(8,81,156)"
          ],
          [
           1,
           "rgb(8,48,107)"
          ]
         ],
         "name": "KL",
         "showscale": true,
         "text": {
          "bdata": "LUMc6+I2Gj97FK5H4XpkPy1DHOviNho/LUMc6+I2Sj+Sy39Iv31NP/yp8dJNYlA/LUMc6+I2Kj8AAAAAAAAAAC1DHOviNho/LUMc6+I2Gj9hMlUwKqkzPy1DHOviNho/AAAAAAAAAAAAAAAAAAAAAAAAAAAAAAAAAAAAAAAAAAAAAAAAAAAAAC1DHOviNho/AAAAAAAAAAAtQxzr4jY6PwAAAAAAAAAAAAAAAAAAAAAAAAAAAAAAAC1DHOviNio/AAAAAAAAAAAtQxzr4jYqPwAAAAAAAAAAAAAAAAAAAAAAAAAAAAAAAAAAAAAAAAAAAAAAAAAAAAAAAAAAAAAAAAAAAAAAAAAAAAAAAAAAAAAAAAAAAAAAAAAAAAAAAAAALUMc6+I2Gj8AAAAAAAAAAAAAAAAAAAAAAAAAAAAAAAAAAAAAAAAAAAAAAAAAAAAALUMc6+I2Gj8AAAAAAAAAAAAAAAAAAAAALUMc6+I2Gj8AAAAAAAAAAAAAAAAAAAAALUMc6+I2Gj8AAAAAAAAAAAAAAAAAAAAALUMc6+I2Gj8AAAAAAAAAAAAAAAAAAAAAAAAAAAAAAAAtQxzr4jYaPwAAAAAAAAAAAAAAAAAAAAAAAAAAAAAAAAAAAAAAAAAAAAAAAAAAAAAAAAAAAAAAAC1DHOviNho/LUMc6+I2Gj8tQxzr4jYaPy1DHOviNio/AAAAAAAAAAAtQxzr4jYaPwAAAAAAAAAAAAAAAAAAAAAtQxzr4jYqPy1DHOviNho/YTJVMCqpUz8tQxzr4jYqPy1DHOviNho/LUMc6+I2Gj8tQxzr4jY6Py1DHOviNho/LUMc6+I2Gj8tQxzr4jYaPy1DHOviNho/AAAAAAAAAAAAAAAAAAAAAAAAAAAAAAAAAAAAAAAAAAAAAAAAAAAAAAAAAAAAAAAAO99PjZdugj8tQxzr4jYaPy1DHOviNho/LUMc6+I2Gj8AAAAAAAAAAC1DHOviNio/rK3YX3ZPbj8AAAAAAAAAAC1DHOviNho/LUMc6+I2Gj8AAAAAAAAAAMe6uI0G8GY/Gy/dJAaBhT8tQxzr4jYaP0hQ/Bhz12I/TDeJQWDlkD8tQxzr4jYaPy1DHOviNio/LUMc6+I2Gj+NKO0NvjCJP/yp8dJNYkA/x7q4jQbwVj8tQxzr4jYaP/p+arx0k1g//Knx0k1iQD/FjzF3LSFfP8WPMXctIV8/EHo2qz5Xqz/HuriNBvCGP+hqK/aX3YM/QKTfvg6cyz8AAAAAAAAAAC1DHOviNjo/LGUZ4lgXtz/LoUW28/2UP5EPejarPpc/zojS3uALgz8tQxzr4jZKPy1DHOviNho/XwfOGVHamz9seHqlLEO8Py1DHOviNho/0gDeAgmKfz9fB84ZUdqbPy1DHOviNko/",
          "dtype": "f8",
          "shape": "11, 12"
         },
         "texttemplate": "%{text}",
         "type": "heatmap",
         "x": {
          "bdata": "AAECAwQFBgcICQoL",
          "dtype": "i1"
         },
         "xaxis": "x",
         "y": {
          "bdata": "AAECAwQFBgcICQo=",
          "dtype": "i1"
         },
         "yaxis": "y",
         "z": {
          "bdata": "AAAAYEZ6ET8AAAAgLIZkPwAAAAC9JB4/AAAAwANWSj8AAADANDxNPwAAAODNJ1A/AAAAQIAcMD8AAABAT4D0PgAAAAD7GhU/AAAAwGYhDz8AAADg5rgyPwAAAAAFiQ8/AAAAYOZK+j4AAADgowD0PgAAAICd3Ms+AAAA4ESK8z4AAABAa1H0PgAAAIBF5xE/AAAAgFz0AD8AAAAALJE4PwAAAIANP/E+AAAAACdb3z4AAABg28EEPwAAAICGDyg/AAAAIMgy6j4AAADAz6clPwAAAGA5KOc+AAAAQDpB6T4AAABAN+HsPgAAAEC6rd8+AAAAgDG+3T4AAACAvv0EPwAAAECo7QI/AAAAAPtt/D4AAADAJ0H8PgAAAICinNg+AAAAwMTbDD8AAAAAqXDyPgAAAGDG5wE/AAAAwBCW6z4AAABAZn33PgAAAMAAbQU/AAAAwFVpFz8AAABAbHYHPwAAAAAo4OA+AAAAgJh0Fj8AAAAAikcGPwAAAAA1Eu0+AAAAQM8aGz8AAACAzPbfPgAAAMD9nvs+AAAAwDcEGj8AAABADgECPwAAAMBsffc+AAAAAJSUAj8AAADgP4QPPwAAAMD3LQY/AAAAAK4cBz8AAAAAWSvhPgAAAIDApfs+AAAAAGJ36j4AAAAg4eZoPgAAAKDoPxU/AAAAgMnjFj8AAACA+csYPwAAAKC63Cg/AAAAwCLq1T4AAADA51UZPwAAAGCikwU/AAAAAPM3Bj8AAAAAlOgvPwAAAAD1Wg8/AAAAwAcHUz8AAABgPtslPwAAAACrsCE/AAAAQFhjIz8AAADgd8s3PwAAAIC6wRA/AAAAwG2zHD8AAACACDMTPwAAAEAhlhc/AAAA4CRT4j4AAADg6zEBPwAAAKAScgQ/AAAAAIrE5j4AAAAARofgPgAAAODwCKA+AAAAoBRlgj8AAAAg61MLPwAAAAD/oCE/AAAAwMKbHj8AAABADkPyPgAAAIC+PSk/AAAAAH1Wbj8AAAAAj2HPPgAAAGAwuhA/AAAAwN9tGD8AAABgxZ+tPgAAAICn5mY/AAAAwK6MhT8AAACgvfgQPwAAAACSwmI/AAAAQEHtkD8AAABArFASPwAAAOCujSs/AAAAgJiFIz8AAADAMy+JPwAAAOCjcUE/AAAAIFNPVz8AAAAAwD8TPwAAAIB03Fc/AAAA4IJWQD8AAADgQ6hfPwAAAIC/a18/AAAAwORcqz8AAABAg/WGPwAAAMCX4IM/AAAAYJCbyz8AAACAGXD7PgAAAAA7Kzw/AAAAABsVtz8AAAAAA/6UPwAAAAABRpc/AAAAwAUcgz8AAAAAlZ9JPwAAAOC7NRM/AAAAgE/Rmz8AAACg1UO8PwAAAEBqMxY/AAAA4Ci0fz8AAABA5dGbPwAAAEBn6kg/",
          "dtype": "f8",
          "shape": "11, 12"
         }
        },
        {
         "colorbar": {
          "len": 0.5,
          "thickness": 10,
          "x": 1,
          "xanchor": "left",
          "y": 0.22499999999999995,
          "yanchor": "middle"
         },
         "colorscale": [
          [
           0,
           "rgb(247,251,255)"
          ],
          [
           0.125,
           "rgb(222,235,247)"
          ],
          [
           0.25,
           "rgb(198,219,239)"
          ],
          [
           0.375,
           "rgb(158,202,225)"
          ],
          [
           0.5,
           "rgb(107,174,214)"
          ],
          [
           0.625,
           "rgb(66,146,198)"
          ],
          [
           0.75,
           "rgb(33,113,181)"
          ],
          [
           0.875,
           "rgb(8,81,156)"
          ],
          [
           1,
           "rgb(8,48,107)"
          ]
         ],
         "name": "TV",
         "showscale": true,
         "text": {
          "bdata": "/Knx0k1icD8QejarPlebP1XBqKROQHM/GQRWDi2yjT9LyAc9m1WPP4Lix5i7lpA/0gDeAgmKfz8VjErqBDRhPy9uowG8BXI/kst/SL99bT+cxCCwcmiBP8WPMXctIW8/SFD8GHPXYj8VjErqBDRhP5LLf0i/fU0/L26jAbwFYj9IUPwYc9diP3npJjEIrGw/x7q4jQbwZj8730+Nl26CP/yp8dJNYmA/lPYGX5hMVT9GJXUCmghrP1OWIY51cXs/XwfOGVHaWz8TYcPTK2V5P18HzhlR2ls/LUMc6+I2Wj+Sy39Iv31dP8e6uI0G8FY/lPYGX5hMVT9GJXUCmghrP3sUrkfhemQ/lPYGX5hMZT+u2F92Tx5mP5T2Bl+YTFU/+n5qvHSTaD/8qfHSTWJgP+CcEaW9wWc/XwfOGVHaWz9fB84ZUdpbPxNhw9MrZWk/YTJVMCqpcz9fB84ZUdprP8e6uI0G8FY/3nGKjuTybz8tQxzr4jZqP5LLf0i/fV0/FYxK6gQ0cT/HuriNBvBWP2EyVTAqqWM/bqMBvAUSdD/6fmq8dJNoP0hQ/Bhz12I/4JwRpb3BZz/FjzF3LSFvP0YldQKaCGs/RiV1ApoIaz/HuriNBvBWP67YX3ZPHmY/LUMc6+I2Wj8tQxzr4jYaPzvfT42XbnI/Iv32deCccT8i/fZ14JxxP67YX3ZPHnY/L26jAbwFUj9VwaikTkBzP/p+arx0k2g/LUMc6+I2aj/ecYqO5PJ/P6yt2F92T24/MlUwKqkTkD85tMh2vp96P9QrZRniWHc/7Q2+MJkqeD8730+Nl26CPwkbnl4py3A/rthfdk8edj8vbqMBvAVyP0hQ/Bhz13I/+n5qvHSTWD/gnBGlvcFnPxNhw9MrZWk/+n5qvHSTWD/HuriNBvBWPy1DHOviNjo/a5p3nKIjqT+srdhfdk9uP8e6uI0G8HY/x7q4jQbwdj8vbqMBvAViP18HzhlR2ns/VOOlm8QgoD/8qfHSTWJQPyL99nXgnHE/VcGopE5Acz/8qfHSTWJAPzm0yHa+n5o/zF1LyAc9qz+Sy39Iv31tP+CcEaW9wZc/J8KGp1fKsj8VjErqBDRxP7gehetRuH4/E2HD0ytleT/ek4eFWtOsP1pkO99PjYc/sb/snjwslD8JG55eKctwPyuHFtnO95M/jSjtDb4wiT8wKqkT0ESYP2q8dJMYBJY/wTkjSnuDvz988rBQa5qnP18pyxDHuqg/I0p7gy9Mzj97FK5H4XpkPxsv3SQGgYU/ak3zjlN0xD8N4C2QoPixP8bctYR80LM/dk8eFmpNoz8Mk6mCUUmNPwkbnl4py3A/xty1hHzQsz+zDHGsi9vIP0hQ/Bhz13I/uB6F61G4nj93LSEf9Gy2P18HzhlR2os/",
          "dtype": "f8",
          "shape": "11, 12"
         },
         "texttemplate": "%{text}",
         "type": "heatmap",
         "x": {
          "bdata": "AAECAwQFBgcICQoL",
          "dtype": "i1"
         },
         "xaxis": "x2",
         "y": {
          "bdata": "AAECAwQFBgcICQo=",
          "dtype": "i1"
         },
         "yaxis": "y2",
         "z": {
          "bdata": "AAAAQE5qcD8AAABArFWbPwAAACB9FXM/AAAA4PmfjT8AAAAAYFGPPwAAAMApn5A/AAAAQGV3fz8AAAAAfwdhPwAAAGBH2XE/AAAAwMq5bT8AAAAArXaBPwAAAACYXG8/AAAAYCTnYj8AAAAAQA1hPwAAAMAcYE4/AAAAwD21YT8AAAAANsBiPwAAAACiTWw/AAAAQMnNZj8AAACAQGuCPwAAAMBQtWA/AAAAgEanVD8AAADAMNFqPwAAAEAfWns/AAAAQOhYXD8AAADATzl5PwAAAGAjOls/AAAAAOK7Wj8AAABACvxdPwAAAIBzN1Y/AAAAAEZ0VT8AAAAAf69qPwAAAKA6jGQ/AAAAgL8wZT8AAADgdS5mPwAAAADWrFQ/AAAAwP6uaD8AAACAx7tgPwAAACBwy2c/AAAAIB/qWz8AAABAUHxcPwAAAABws2k/AAAAQJqHcz8AAABgSKFrPwAAAKBh2VY/AAAAgIYccD8AAADA6QFqPwAAAKACDF4/AAAAgKI3cT8AAAAAu/pWPwAAAADhTmM/AAAAoMVBdD8AAABg4jZoPwAAACBjpWI/AAAAABS7Zz8AAABA+j1vPwAAAKDKFms/AAAAgNbnaj8AAADgsm1WPwAAAGAn72U/AAAAYK/4WT8AAAAAjRUYPwAAAKBhj3I/AAAAAFeicT8AAAAgFL9xPwAAAGAiSXY/AAAAABDOUT8AAADATktzPwAAAMDG52g/AAAAwPE5aj8AAADgHsd/PwAAAAALq24/AAAAYMgJkD8AAADAV6F6PwAAAIA6PHc/AAAAANs0eD8AAADAD1uCPwAAACChw3A/AAAAgLgsdj8AAACA/ihyPwAAAEBK3HI/AAAAQFhBWD8AAADA5IFnPwAAAOBlnWk/AAAAQKHCVz8AAACgExlXPwAAAAC4/jc/AAAAAIYfqT8AAADAQ3huPwAAAACYE3c/AAAAAM+9dj8AAACAk7dhPwAAAKDJsXs/AAAAYAIboD8AAABAkEJQPwAAAEB8gHE/AAAAwIo5cz8AAABAJHU/PwAAAAAJnpo/AAAAgGhDqz8AAADAo7xtPwAAAACLvJc/AAAAAHzHsj8AAACARRJxPwAAAKAN3X4/AAAAoCd/eT8AAABABNmsPwAAAGBqiYc/AAAAgEYnlD8AAABArsFwPwAAAGAJ+pM/AAAAINAsiT8AAACA3kiYPwAAAECHBJY/AAAAAGiBvz8AAACASZ6nPwAAAAC2uKg/AAAAADNLzj8AAACAjTtkPwAAAMApbIU/AAAAAAtzxD8AAABAQ/exPwAAAEDI0rM/AAAA4AZKoz8AAACAi1mNPwAAAMBr9HA/AAAAYErRsz8AAAAAktvIPwAAAGDzx3I/AAAAoFO3nj8AAABAeWq2PwAAAMD67Is/",
          "dtype": "f8",
          "shape": "11, 12"
         }
        }
       ],
       "layout": {
        "annotations": [
         {
          "font": {
           "size": 16
          },
          "showarrow": false,
          "text": "KL",
          "x": 0.5,
          "xanchor": "center",
          "xref": "paper",
          "y": 1,
          "yanchor": "bottom",
          "yref": "paper"
         },
         {
          "font": {
           "size": 16
          },
          "showarrow": false,
          "text": "TV",
          "x": 0.5,
          "xanchor": "center",
          "xref": "paper",
          "y": 0.45,
          "yanchor": "bottom",
          "yref": "paper"
         }
        ],
        "height": 800,
        "template": {
         "data": {
          "bar": [
           {
            "error_x": {
             "color": "#2a3f5f"
            },
            "error_y": {
             "color": "#2a3f5f"
            },
            "marker": {
             "line": {
              "color": "#E5ECF6",
              "width": 0.5
             },
             "pattern": {
              "fillmode": "overlay",
              "size": 10,
              "solidity": 0.2
             }
            },
            "type": "bar"
           }
          ],
          "barpolar": [
           {
            "marker": {
             "line": {
              "color": "#E5ECF6",
              "width": 0.5
             },
             "pattern": {
              "fillmode": "overlay",
              "size": 10,
              "solidity": 0.2
             }
            },
            "type": "barpolar"
           }
          ],
          "carpet": [
           {
            "aaxis": {
             "endlinecolor": "#2a3f5f",
             "gridcolor": "white",
             "linecolor": "white",
             "minorgridcolor": "white",
             "startlinecolor": "#2a3f5f"
            },
            "baxis": {
             "endlinecolor": "#2a3f5f",
             "gridcolor": "white",
             "linecolor": "white",
             "minorgridcolor": "white",
             "startlinecolor": "#2a3f5f"
            },
            "type": "carpet"
           }
          ],
          "choropleth": [
           {
            "colorbar": {
             "outlinewidth": 0,
             "ticks": ""
            },
            "type": "choropleth"
           }
          ],
          "contour": [
           {
            "colorbar": {
             "outlinewidth": 0,
             "ticks": ""
            },
            "colorscale": [
             [
              0,
              "#0d0887"
             ],
             [
              0.1111111111111111,
              "#46039f"
             ],
             [
              0.2222222222222222,
              "#7201a8"
             ],
             [
              0.3333333333333333,
              "#9c179e"
             ],
             [
              0.4444444444444444,
              "#bd3786"
             ],
             [
              0.5555555555555556,
              "#d8576b"
             ],
             [
              0.6666666666666666,
              "#ed7953"
             ],
             [
              0.7777777777777778,
              "#fb9f3a"
             ],
             [
              0.8888888888888888,
              "#fdca26"
             ],
             [
              1,
              "#f0f921"
             ]
            ],
            "type": "contour"
           }
          ],
          "contourcarpet": [
           {
            "colorbar": {
             "outlinewidth": 0,
             "ticks": ""
            },
            "type": "contourcarpet"
           }
          ],
          "heatmap": [
           {
            "colorbar": {
             "outlinewidth": 0,
             "ticks": ""
            },
            "colorscale": [
             [
              0,
              "#0d0887"
             ],
             [
              0.1111111111111111,
              "#46039f"
             ],
             [
              0.2222222222222222,
              "#7201a8"
             ],
             [
              0.3333333333333333,
              "#9c179e"
             ],
             [
              0.4444444444444444,
              "#bd3786"
             ],
             [
              0.5555555555555556,
              "#d8576b"
             ],
             [
              0.6666666666666666,
              "#ed7953"
             ],
             [
              0.7777777777777778,
              "#fb9f3a"
             ],
             [
              0.8888888888888888,
              "#fdca26"
             ],
             [
              1,
              "#f0f921"
             ]
            ],
            "type": "heatmap"
           }
          ],
          "histogram": [
           {
            "marker": {
             "pattern": {
              "fillmode": "overlay",
              "size": 10,
              "solidity": 0.2
             }
            },
            "type": "histogram"
           }
          ],
          "histogram2d": [
           {
            "colorbar": {
             "outlinewidth": 0,
             "ticks": ""
            },
            "colorscale": [
             [
              0,
              "#0d0887"
             ],
             [
              0.1111111111111111,
              "#46039f"
             ],
             [
              0.2222222222222222,
              "#7201a8"
             ],
             [
              0.3333333333333333,
              "#9c179e"
             ],
             [
              0.4444444444444444,
              "#bd3786"
             ],
             [
              0.5555555555555556,
              "#d8576b"
             ],
             [
              0.6666666666666666,
              "#ed7953"
             ],
             [
              0.7777777777777778,
              "#fb9f3a"
             ],
             [
              0.8888888888888888,
              "#fdca26"
             ],
             [
              1,
              "#f0f921"
             ]
            ],
            "type": "histogram2d"
           }
          ],
          "histogram2dcontour": [
           {
            "colorbar": {
             "outlinewidth": 0,
             "ticks": ""
            },
            "colorscale": [
             [
              0,
              "#0d0887"
             ],
             [
              0.1111111111111111,
              "#46039f"
             ],
             [
              0.2222222222222222,
              "#7201a8"
             ],
             [
              0.3333333333333333,
              "#9c179e"
             ],
             [
              0.4444444444444444,
              "#bd3786"
             ],
             [
              0.5555555555555556,
              "#d8576b"
             ],
             [
              0.6666666666666666,
              "#ed7953"
             ],
             [
              0.7777777777777778,
              "#fb9f3a"
             ],
             [
              0.8888888888888888,
              "#fdca26"
             ],
             [
              1,
              "#f0f921"
             ]
            ],
            "type": "histogram2dcontour"
           }
          ],
          "mesh3d": [
           {
            "colorbar": {
             "outlinewidth": 0,
             "ticks": ""
            },
            "type": "mesh3d"
           }
          ],
          "parcoords": [
           {
            "line": {
             "colorbar": {
              "outlinewidth": 0,
              "ticks": ""
             }
            },
            "type": "parcoords"
           }
          ],
          "pie": [
           {
            "automargin": true,
            "type": "pie"
           }
          ],
          "scatter": [
           {
            "fillpattern": {
             "fillmode": "overlay",
             "size": 10,
             "solidity": 0.2
            },
            "type": "scatter"
           }
          ],
          "scatter3d": [
           {
            "line": {
             "colorbar": {
              "outlinewidth": 0,
              "ticks": ""
             }
            },
            "marker": {
             "colorbar": {
              "outlinewidth": 0,
              "ticks": ""
             }
            },
            "type": "scatter3d"
           }
          ],
          "scattercarpet": [
           {
            "marker": {
             "colorbar": {
              "outlinewidth": 0,
              "ticks": ""
             }
            },
            "type": "scattercarpet"
           }
          ],
          "scattergeo": [
           {
            "marker": {
             "colorbar": {
              "outlinewidth": 0,
              "ticks": ""
             }
            },
            "type": "scattergeo"
           }
          ],
          "scattergl": [
           {
            "marker": {
             "colorbar": {
              "outlinewidth": 0,
              "ticks": ""
             }
            },
            "type": "scattergl"
           }
          ],
          "scattermap": [
           {
            "marker": {
             "colorbar": {
              "outlinewidth": 0,
              "ticks": ""
             }
            },
            "type": "scattermap"
           }
          ],
          "scattermapbox": [
           {
            "marker": {
             "colorbar": {
              "outlinewidth": 0,
              "ticks": ""
             }
            },
            "type": "scattermapbox"
           }
          ],
          "scatterpolar": [
           {
            "marker": {
             "colorbar": {
              "outlinewidth": 0,
              "ticks": ""
             }
            },
            "type": "scatterpolar"
           }
          ],
          "scatterpolargl": [
           {
            "marker": {
             "colorbar": {
              "outlinewidth": 0,
              "ticks": ""
             }
            },
            "type": "scatterpolargl"
           }
          ],
          "scatterternary": [
           {
            "marker": {
             "colorbar": {
              "outlinewidth": 0,
              "ticks": ""
             }
            },
            "type": "scatterternary"
           }
          ],
          "surface": [
           {
            "colorbar": {
             "outlinewidth": 0,
             "ticks": ""
            },
            "colorscale": [
             [
              0,
              "#0d0887"
             ],
             [
              0.1111111111111111,
              "#46039f"
             ],
             [
              0.2222222222222222,
              "#7201a8"
             ],
             [
              0.3333333333333333,
              "#9c179e"
             ],
             [
              0.4444444444444444,
              "#bd3786"
             ],
             [
              0.5555555555555556,
              "#d8576b"
             ],
             [
              0.6666666666666666,
              "#ed7953"
             ],
             [
              0.7777777777777778,
              "#fb9f3a"
             ],
             [
              0.8888888888888888,
              "#fdca26"
             ],
             [
              1,
              "#f0f921"
             ]
            ],
            "type": "surface"
           }
          ],
          "table": [
           {
            "cells": {
             "fill": {
              "color": "#EBF0F8"
             },
             "line": {
              "color": "white"
             }
            },
            "header": {
             "fill": {
              "color": "#C8D4E3"
             },
             "line": {
              "color": "white"
             }
            },
            "type": "table"
           }
          ]
         },
         "layout": {
          "annotationdefaults": {
           "arrowcolor": "#2a3f5f",
           "arrowhead": 0,
           "arrowwidth": 1
          },
          "autotypenumbers": "strict",
          "coloraxis": {
           "colorbar": {
            "outlinewidth": 0,
            "ticks": ""
           }
          },
          "colorscale": {
           "diverging": [
            [
             0,
             "#8e0152"
            ],
            [
             0.1,
             "#c51b7d"
            ],
            [
             0.2,
             "#de77ae"
            ],
            [
             0.3,
             "#f1b6da"
            ],
            [
             0.4,
             "#fde0ef"
            ],
            [
             0.5,
             "#f7f7f7"
            ],
            [
             0.6,
             "#e6f5d0"
            ],
            [
             0.7,
             "#b8e186"
            ],
            [
             0.8,
             "#7fbc41"
            ],
            [
             0.9,
             "#4d9221"
            ],
            [
             1,
             "#276419"
            ]
           ],
           "sequential": [
            [
             0,
             "#0d0887"
            ],
            [
             0.1111111111111111,
             "#46039f"
            ],
            [
             0.2222222222222222,
             "#7201a8"
            ],
            [
             0.3333333333333333,
             "#9c179e"
            ],
            [
             0.4444444444444444,
             "#bd3786"
            ],
            [
             0.5555555555555556,
             "#d8576b"
            ],
            [
             0.6666666666666666,
             "#ed7953"
            ],
            [
             0.7777777777777778,
             "#fb9f3a"
            ],
            [
             0.8888888888888888,
             "#fdca26"
            ],
            [
             1,
             "#f0f921"
            ]
           ],
           "sequentialminus": [
            [
             0,
             "#0d0887"
            ],
            [
             0.1111111111111111,
             "#46039f"
            ],
            [
             0.2222222222222222,
             "#7201a8"
            ],
            [
             0.3333333333333333,
             "#9c179e"
            ],
            [
             0.4444444444444444,
             "#bd3786"
            ],
            [
             0.5555555555555556,
             "#d8576b"
            ],
            [
             0.6666666666666666,
             "#ed7953"
            ],
            [
             0.7777777777777778,
             "#fb9f3a"
            ],
            [
             0.8888888888888888,
             "#fdca26"
            ],
            [
             1,
             "#f0f921"
            ]
           ]
          },
          "colorway": [
           "#636efa",
           "#EF553B",
           "#00cc96",
           "#ab63fa",
           "#FFA15A",
           "#19d3f3",
           "#FF6692",
           "#B6E880",
           "#FF97FF",
           "#FECB52"
          ],
          "font": {
           "color": "#2a3f5f"
          },
          "geo": {
           "bgcolor": "white",
           "lakecolor": "white",
           "landcolor": "#E5ECF6",
           "showlakes": true,
           "showland": true,
           "subunitcolor": "white"
          },
          "hoverlabel": {
           "align": "left"
          },
          "hovermode": "closest",
          "mapbox": {
           "style": "light"
          },
          "paper_bgcolor": "white",
          "plot_bgcolor": "#E5ECF6",
          "polar": {
           "angularaxis": {
            "gridcolor": "white",
            "linecolor": "white",
            "ticks": ""
           },
           "bgcolor": "#E5ECF6",
           "radialaxis": {
            "gridcolor": "white",
            "linecolor": "white",
            "ticks": ""
           }
          },
          "scene": {
           "xaxis": {
            "backgroundcolor": "#E5ECF6",
            "gridcolor": "white",
            "gridwidth": 2,
            "linecolor": "white",
            "showbackground": true,
            "ticks": "",
            "zerolinecolor": "white"
           },
           "yaxis": {
            "backgroundcolor": "#E5ECF6",
            "gridcolor": "white",
            "gridwidth": 2,
            "linecolor": "white",
            "showbackground": true,
            "ticks": "",
            "zerolinecolor": "white"
           },
           "zaxis": {
            "backgroundcolor": "#E5ECF6",
            "gridcolor": "white",
            "gridwidth": 2,
            "linecolor": "white",
            "showbackground": true,
            "ticks": "",
            "zerolinecolor": "white"
           }
          },
          "shapedefaults": {
           "line": {
            "color": "#2a3f5f"
           }
          },
          "ternary": {
           "aaxis": {
            "gridcolor": "white",
            "linecolor": "white",
            "ticks": ""
           },
           "baxis": {
            "gridcolor": "white",
            "linecolor": "white",
            "ticks": ""
           },
           "bgcolor": "#E5ECF6",
           "caxis": {
            "gridcolor": "white",
            "linecolor": "white",
            "ticks": ""
           }
          },
          "title": {
           "x": 0.05
          },
          "xaxis": {
           "automargin": true,
           "gridcolor": "white",
           "linecolor": "white",
           "ticks": "",
           "title": {
            "standoff": 15
           },
           "zerolinecolor": "white",
           "zerolinewidth": 2
          },
          "yaxis": {
           "automargin": true,
           "gridcolor": "white",
           "linecolor": "white",
           "ticks": "",
           "title": {
            "standoff": 15
           },
           "zerolinecolor": "white",
           "zerolinewidth": 2
          }
         }
        },
        "xaxis": {
         "anchor": "y",
         "domain": [
          0,
          1
         ],
         "dtick": 1,
         "tick0": 0,
         "ticklabelstandoff": 5,
         "tickmode": "linear"
        },
        "xaxis2": {
         "anchor": "y2",
         "domain": [
          0,
          1
         ],
         "dtick": 1,
         "tick0": 0,
         "ticklabelstandoff": 5,
         "tickmode": "linear"
        },
        "yaxis": {
         "anchor": "x",
         "domain": [
          0.55,
          1
         ],
         "dtick": 1,
         "tick0": 0,
         "ticklabelstandoff": 5,
         "tickmode": "linear"
        },
        "yaxis2": {
         "anchor": "x2",
         "domain": [
          0,
          0.45
         ],
         "dtick": 1,
         "tick0": 0,
         "ticklabelstandoff": 5,
         "tickmode": "linear"
        }
       }
      }
     },
     "metadata": {},
     "output_type": "display_data"
    },
    {
     "data": {
      "application/vnd.plotly.v1+json": {
       "config": {
        "plotlyServerURL": "https://plot.ly"
       },
       "data": [
        {
         "colorbar": {
          "len": 0.32222222222222224,
          "thickness": 10,
          "x": 1,
          "xanchor": "left",
          "y": 0.8555555555555555,
          "yanchor": "middle"
         },
         "colorscale": [
          [
           0,
           "rgb(103,0,31)"
          ],
          [
           0.1,
           "rgb(178,24,43)"
          ],
          [
           0.2,
           "rgb(214,96,77)"
          ],
          [
           0.3,
           "rgb(244,165,130)"
          ],
          [
           0.4,
           "rgb(253,219,199)"
          ],
          [
           0.5,
           "rgb(247,247,247)"
          ],
          [
           0.6,
           "rgb(209,229,240)"
          ],
          [
           0.7,
           "rgb(146,197,222)"
          ],
          [
           0.8,
           "rgb(67,147,195)"
          ],
          [
           0.9,
           "rgb(33,102,172)"
          ],
          [
           1,
           "rgb(5,48,97)"
          ]
         ],
         "name": "s1_logit_diff",
         "showscale": true,
         "text": {
          "bdata": "YTJVMCqpc791kxgEVg69P8WPMXctIX+/+1xtxf6yqz+MSuoENBGmP1D8GHPXErI/EqW9wRcmk7/ecYqO5PJvv588LNSa5n2/YTJVMCqpUz9GJXUCmgh7PxWMSuoENGE/LUMc6+I2Kr85tMh2vp96P8e6uI0G8GY/lPYGX5hMVb9BguLHmLuWP0hQ/Bhz13K/E2HD0ytleb956SYxCKyMv5LLf0i/fX2/LUMc6+I2Kj8vbqMBvAVyv95xio7k8o8/oWez6nO1dT+hZ7Pqc7WVvxNhw9MrZWk/exSuR+F6dD/8qfHSTWJQv3sUrkfhenS/oWez6nO1dT/ZzvdT46WLP0YldQKaCHs/5j+k374OjD+LbOf7qfGiv18HzhlR2nu/exSuR+F6dD8tQxzr4jZ6vzm0yHa+n3o/3nGKjuTyb79GJXUCmghrv/yp8dJNYmC/5/up8dJNsr8TYcPTK2V5P1OWIY51cXu/OPjCZKpglL8ldQKaCBuOP1pkO99PjYe/gLdAguLHmL97FK5H4Xpkv8WPMXctIX8/WKg1zTtOkT9GJXUCmgh7v2EyVTAqqUM/kst/SL99fb90RpT2Bl+YP5LLf0i/fU0/Dr4wmSoYlb956SYxCKxsv1g5tMh2vo8/YTJVMCqpM78tQxzr4jYqv2iR7Xw/NZ6/cF8HzhlRmr/gnBGlvcGXv9nO91Pjpas/bqMBvAUSdD/SAN4CCYqPPzvfT42XbqI/LSEf9GxWrb9ZF7fRAN6yP+CcEaW9wYe/Io51cRsNsD8Spb3BFyaTP+/Jw0KtaZ6/xf6ye/KwkD/FjzF3LSF/P4ts5/up8ZI/whcmUwWjgr+oNc07TtGhvw6+MJkqGKU/sb/snjwslL96Nqs+V1uhvx04Z0Rpb6C//Knx0k1icL8vbqMBvAVSP5LLf0i/fW2/xyk6kst/1L8zMzMzMzOjP3sUrkfheoQ/ejarPldbob9hMlUwKqkzP3sUrkfhemQ/zhlR2ht82T9lGeJYF7eRv/p+arx0k1i/GQRWDi2ynb8730+Nl26Cv7u4jQbwFsi/mN2Th4Va478Mk6mCUUmdv0HxY8xdS9w/seHplbIM578pXI/C9Sisv+84RUdy+b+/CRueXinLsD/Y8PRKWYbIP5/Nqs/VVry/dLUV+8vuwb8sZRniWBenvyGwcmiR7by/bcX+snvyyL8ijnVxGw3Qv7UV+8vuydM/BOeMKO2NAsDgnBGlvcGXv9BE2PD0SuW/eVioNc17EMCu2F92Tx5mv71SliGOdaG/SS7/If32/b+cM6K0N/jiv9Pe4AuTqei/m1Wfq63Y2785tMh2vp+6v/yp8dJNYmC/GJXUCWgi6L/PZtXnaqsDQPyp8dJNYkC/0m9fB84Zsb+/DpwzorTpv3S1FfvL7rm/",
          "dtype": "f8",
          "shape": "11, 12"
         },
         "texttemplate": "%{text}",
         "type": "heatmap",
         "x": {
          "bdata": "AAECAwQFBgcICQoL",
          "dtype": "i1"
         },
         "xaxis": "x",
         "y": {
          "bdata": "AAECAwQFBgcICQo=",
          "dtype": "i1"
         },
         "yaxis": "y",
         "z": {
          "bdata": "AAAAANioc78AAACAfxC9PwAAAABgSn+/AAAAAJesqz8AAAAA4xWmPwAAAADwEbI/AAAAADIzk78AAAAA8OJvvwAAAADQGn6/AAAAAOB1VD8AAAAAgCV7PwAAAADQ2GA/AAAAAAB4JL8AAAAA2NJ6PwAAAACA5WY/AAAAAOC2Vb8AAAAAbsiWPwAAAABIznK/AAAAACiReb8AAAAA4LuMvwAAAAComH2/AAAAAABkJT8AAAAAKAdyvwAAAAAA2o8/AAAAALDZdT8AAAAAwr6VvwAAAABwJWk/AAAAAKB6dD8AAAAAgPlQvwAAAAC4cXS/AAAAAJi0dT8AAAAABJCLPwAAAAD4O3s/AAAAAJgEjD8AAAAAdPCivwAAAACg/3u/AAAAAPifdD8AAAAAsCV6vwAAAADom3o/AAAAANDgb78AAAAAsGhrvwAAAAAQwWC/AAAAAAJPsr8AAAAAYDZ5PwAAAAAQXnu/AAAAAFRqlL8AAAAAFDOOPwAAAADEhIe/AAAAAGDUmL8AAAAAcFNkvwAAAAAo934/AAAAAPZFkT8AAAAAuCB7vwAAAAAAPkI/AAAAAKChfb8AAAAACFKYPwAAAACA7k4/AAAAAC4Vlb8AAAAAcNZsvwAAAABotY8/AAAAAAAKM78AAAAAANcpvwAAAADoP56/AAAAAHBQmr8AAAAAGrmXvwAAAAAGpqs/AAAAAPDzcz8AAAAAhICPPwAAAADcdKI/AAAAAJ5Trb8AAACAnN2yPwAAAAAkuoe/AAAAgIkNsD8AAAAAYCWTPwAAAADecJ6/AAAAAIy8kD8AAAAAgCB/PwAAAAC0+5I/AAAAADyWgr8AAAAANtOhvwAAAACnFKU/AAAAAMgxlL8AAAAA51mhvwAAAABbc6C/AAAAAFh7cL8AAAAAgFtRPwAAAACwt22/AAAAIL1/1L8AAAAACS6jPwAAAACshoQ/AAAAAIBWob8AAAAAAJszPwAAAABwMmQ/AAAAgPV72T8AAAAAvLWRvwAAAACg4Fe/AAAAAI68nb8AAAAABIWCvwAAAMCfFci/AAAAwNRa478AAAAAElWdvwAAAOA7S9w/AAAAQAMN578AAAAAYiSsvwAAAIBR+7+/AAAAAKvLsD8AAADAKobIPwAAAIBTWLy/AAAAwKvuwb8AAAAAfBGnvwAAAIDI8Ly/AAAAQHzxyL8AAABAoQ3QvwAAAMDFydM/AAAAAOyNAsAAAAAA+suXvwAAAADVSuW/AAAAQNN7EMAAAAAAEHpmvwAAAAANb6G/AAAAQCP3/b8AAAAASvjivwAAAADnqei/AAAAID3Y278AAAAAkJ+6vwAAAADwimC/AAAAQD8i6L8AAADAc6sDQAAAAACAvD6/AAAAAG8Xsb8AAABACrXpvwAAAADx7Lm/",
          "dtype": "f8",
          "shape": "11, 12"
         },
         "zmax": 4.120923042297363,
         "zmid": 0,
         "zmin": -4.120923042297363
        },
        {
         "colorbar": {
          "len": 0.32222222222222224,
          "thickness": 10,
          "x": 1,
          "xanchor": "left",
          "y": 0.4999999999999999,
          "yanchor": "middle"
         },
         "colorscale": [
          [
           0,
           "rgb(103,0,31)"
          ],
          [
           0.1,
           "rgb(178,24,43)"
          ],
          [
           0.2,
           "rgb(214,96,77)"
          ],
          [
           0.3,
           "rgb(244,165,130)"
          ],
          [
           0.4,
           "rgb(253,219,199)"
          ],
          [
           0.5,
           "rgb(247,247,247)"
          ],
          [
           0.6,
           "rgb(209,229,240)"
          ],
          [
           0.7,
           "rgb(146,197,222)"
          ],
          [
           0.8,
           "rgb(67,147,195)"
          ],
          [
           0.9,
           "rgb(33,102,172)"
          ],
          [
           1,
           "rgb(5,48,97)"
          ]
         ],
         "name": "s2_logit_diff",
         "showscale": true,
         "text": {
          "bdata": "LUMc6+I2Sj/gnBGlvcF3PzvfT42XboI/nzws1JrmjT/ysFBrmneMP5T2Bl+YTJU/uB6F61G4fj/HuriNBvBmPy1DHOviNmo/XwfOGVHaiz8Ab4EExY+hPy1DHOviNiq//Knx0k1iUD/UK2UZ4lh3P67YX3ZPHmY/YTJVMCqpUz/XEvJBz2aVP9/gC5OpgqG/kst/SL99TT/b+X5qvHSDv7WmeccpOoK/YTJVMCqpMz/8qfHSTWJwv3RGlPYGX4g/1CtlGeJYdz8JG55eKcuQv/yp8dJNYoA/L26jAbwFcj/HuriNBvBmPxNhw9MrZXm/CRueXinLcD9TliGOdXF7P3npJjEIrHw/j1N0JJf/kD8eFmpN846jvwfwFkhQ/Hi/YTJVMCqpoz8730+Nl26Cv18HzhlR2ns/xY8xdy0hbz9BguLHmLuGvy9uowG8BXK/ZRniWBe3sb956SYxCKx8P7pJDAIrh3a/taZ5xyk6kr/HuriNBvCGPy9uowG8BYK/F0hQ/Bhzl7/6fmq8dJNYv8IXJlMFo4I/HhZqTfOOkz9TliGOdXGLvy1DHOviNhq/XwfOGVHae7/6fmq8dJOYP95xio7k8m8/hJ7Nqs/Vlr+IhVrTvON0v+0NvjCZKog/B/AWSFD8eD8tQxzr4jYqv7wFEhQ/xpy/3bWEfNCzmb/tDb4wmSqYv/OOU3Qkl78/ukkMAiuHdj+5jQbwFkiQP0Ck374OnKM/BOeMKO0Nrr/x9EpZhji2P9/gC5OpgpG/PnlYqDXNqz+PU3Qkl/+gP8xdS8gHPZu/6Gor9pfdkz/SAN4CCYp/P8X+snvysJA/TfOOU3Qkh7/sUbgeheuhv/5l9+RhoaY/U5YhjnVxi7+cxCCwcmihv1wgQfFjzJ2/ObTIdr6fer/8qfHSTWJQP0hQ/Bhz12K/MZkqGJXUyb+LbOf7qfGiP/yp8dJNYlA/whcmUwWjor+u2F92Tx5mv95xio7k8m8/+aBns+pz4T/8qfHSTWKQv8e6uI0G8Ga/Qj7o2az6nL+C4seYu5aAv4PAyqFFtsu/S+oENBE24r+mCkYldQKavxSuR+F6FNo/PujZrPpc57+7Jw8Ltaapv7n8h/Tb18G/JlMFo5I6sT/ecYqO5PLjPyKOdXEbDcC/TtGRXP5Dur8sZRniWBenvwaBlUOLbLe/y6FFtvP9xL83GsBbIEHJv6g1zTtO0dU/PSzUmuYdAMCdEaW9wRe2PzvfT42Xbua/VcGopE7AB8BfB84ZUdprP5EPejarPqe/9GxWfa629r94eqUsQxzbv71SliGOdeu/K/aX3ZOH3b94eqUsQxy7v3sUrkfheoS/h6dXyjLE478bDeAtkKD+P8e6uI0G8Ga/BOeMKO0Nrr/oaiv2l93jvxfZzvdT47W/",
          "dtype": "f8",
          "shape": "11, 12"
         },
         "texttemplate": "%{text}",
         "type": "heatmap",
         "x": {
          "bdata": "AAECAwQFBgcICQoL",
          "dtype": "i1"
         },
         "xaxis": "x2",
         "y": {
          "bdata": "AAECAwQFBgcICQo=",
          "dtype": "i1"
         },
         "yaxis": "y2",
         "z": {
          "bdata": "AAAAAEARST8AAAAAAMR3PwAAAACYiII/AAAAAPjujT8AAAAAtJGMPwAAAAAwT5U/AAAAAPDrfj8AAAAA0EZnPwAAAACQ+Gk/AAAAAKjziz8AAAAA/I2hPwAAAAAAkCu/AAAAAIAfUD8AAAAAoDN3PwAAAABw72U/AAAAAGDbUj8AAAAArG+VPwAAAADbhqG/AAAAAEDaTT8AAAAAMF+DvwAAAABQMoK/AAAAAIADMz8AAAAAWDdwvwAAAADUW4g/AAAAADBTdz8AAAAABNOQvwAAAAAId4A/AAAAACgccj8AAAAAYCFnPwAAAAC4iXm/AAAAAODDcD8AAAAAEGR7PwAAAABYrnw/AAAAAPrykD8AAAAA7ZKjvwAAAADA8ni/AAAAAHKnoz8AAAAA4GaCvwAAAAAo1ns/AAAAAMAEbz8AAAAA+KWGvwAAAACQ9nG/AAAAgBS6sb8AAAAA2KV8PwAAAACAf3a/AAAAAPY6kr8AAAAA9ASHPwAAAACwFIK/AAAAAD5wl78AAAAA4OhXvwAAAACQqII/AAAAAAKJkz8AAAAAVF6LvwAAAAAAMA+/AAAAAKjGe78AAAAA/I6YPwAAAADw6G8/AAAAADjSlr8AAAAAcMt0vwAAAACwLYg/AAAAANDQeD8AAAAAADwkvwAAAADmyZy/AAAAAEKnmb8AAAAA9iiYvwAAAIDAlb8/AAAAALh+dj8AAAAADEKQPwAAAAA+lqM/AAAAAFUQrr8AAAAADje2PwAAAAAoiJG/AAAAAHLOqz8AAAAAswOhPwAAAAC0SJu/AAAAAGzTkz8AAAAAeJx/PwAAAAAwu5A/AAAAAJweh78AAAAAseuhvwAAAAApn6Y/AAAAAPx9i78AAAAAUmOhvwAAAACE0Z2/AAAAALDJer8AAAAAQBBQPwAAAACgl2K/AAAAQC7Uyb8AAAAA0fOiPwAAAABAA1E/AAAAAIWgor8AAAAAcDFmvwAAAABwA3A/AAAAQIRz4T8AAAAAAFiQvwAAAAAQAWe/AAAAAIj3nL8AAAAAlJ6AvwAAAADbtMu/AAAA4HM24r8AAAAA1gyavwAAAEA6FNo/AAAAwD1d578AAAAAbqupvwAAAEDI2MG/AAAAgIA8sT8AAAAAuvLjPwAAAADtDMC/AAAAAFNFur8AAAAAXhynvwAAAIBlabe/AAAAwIv+xL8AAAAAlz/JvwAAAMCJ0NU/AAAAwNUdAMAAAACAvxi2PwAAAABEbua/AAAAwELAB8AAAAAAUJRrPwAAAAAqPKe/AAAAYN629r8AAADgzhzbvwAAACC5deu/AAAAADGI3b8AAACAehm7vwAAAACcdIS/AAAAoNTD478AAAAAXKD+PwAAAADQ/Wa/AAAAAFcJrr8AAACAhN3jvwAAAAD04bW/",
          "dtype": "f8",
          "shape": "11, 12"
         },
         "zmax": 4.120923042297363,
         "zmid": 0,
         "zmin": -4.120923042297363
        },
        {
         "colorbar": {
          "len": 0.32222222222222224,
          "thickness": 10,
          "x": 1,
          "xanchor": "left",
          "y": 0.1444444444444444,
          "yanchor": "middle"
         },
         "colorscale": [
          [
           0,
           "rgb(103,0,31)"
          ],
          [
           0.1,
           "rgb(178,24,43)"
          ],
          [
           0.2,
           "rgb(214,96,77)"
          ],
          [
           0.3,
           "rgb(244,165,130)"
          ],
          [
           0.4,
           "rgb(253,219,199)"
          ],
          [
           0.5,
           "rgb(247,247,247)"
          ],
          [
           0.6,
           "rgb(209,229,240)"
          ],
          [
           0.7,
           "rgb(146,197,222)"
          ],
          [
           0.8,
           "rgb(67,147,195)"
          ],
          [
           0.9,
           "rgb(33,102,172)"
          ],
          [
           1,
           "rgb(5,48,97)"
          ]
         ],
         "name": "s3_logit_diff",
         "showscale": true,
         "text": {
          "bdata": "xY8xdy0hf7+U9gZfmExVvy9uowG8BWK/3nGKjuTyfz9hMlUwKqlTPwyTqYJRSY0/taZ5xyk6gr8tQxzr4jYaP0hQ/Bhz13K/FYxK6gQ0YT+fPCzUmuZ9Py9uowG8BWI/YTJVMCqpUz8vbqMBvAWCP8e6uI0G8GY/YTJVMCqpMz9eS8gHPZuVP2EyVTAqqYO/exSuR+F6ZL+u2F92Tx5mP3ZxGw3gLYC/LUMc6+I2Wr9fB84ZUdprv1XBqKROQIM/1CtlGeJYdz/6fmq8dJN4v/p+arx0k3g/SFD8GHPXcj/8qfHSTWJAP2EyVTAqqXO/SFD8GHPXcj/129eBc0aEP8WPMXctIX8/CRueXinLkD/gvg6cM6Kkv3ZxGw3gLYC/1CtlGeJYdz8tQxzr4jZqv8IXJlMFo4I/kst/SL99Tb8730+Nl25yv18HzhlR2ls/cvkP6bevs79hMlUwKqmDPxWMSuoENHG/i2zn+6nxkr/ysFBrmneMPwFNhA1Pr4S/U5YhjnVxm79hMlUwKqljv+Y/pN++Dow/ZRniWBe3kT8H8BZIUPyIvy1DHOviNio/E2HD0ytlab/2l92Th4WaP0YldQKaCGs/kQ96Nqs+l7/ecYqO5PJvvwkbnl4py5A/x7q4jQbwRr8tQxzr4jYqv0GC4seYu5a/1xLyQc9mlb+q8dJNYhCYv+JYF7fRAK4/oWez6nO1dT/4wmSqYFSSP+Olm8QgsKI/dQKaCBuerr89LNSa5h23P3sUrkfhepS/ZvfkYaHWtD+vlGWIY12cP3RGlPYGX5i/coqO5PIfkj+R7Xw/NV6qPwFNhA1Pr4Q/1CtlGeJYl7+Sy39Iv32dv9jw9EpZhqg/pgpGJXUCir8pXI/C9Sicv8l2vp8aL52/xY8xdy0hX78H8BZIUPx4P5LLf0i/fU2/1lbsL7sn278OvjCZKhilPwkbnl4py6A/kQ96Nqs+p7+6SQwCK4d2P9QrZRniWIc/B1+YTBWM1j+C4seYu5aAvz9XW7G/7I4/rK3YX3ZPnr/gnBGlvcF3vyZTBaOSOrG/m+Ydp+hI2r8g0m9fB86Zv6UsQxzr4to/0m9fB84Z1b/EsS5uowGsv0GC4seYu7a/seHplbIMsT9v8IXJVMG4v8rDQq1p3qG/4JwRpb3Bhz8OvjCZKhilv+xRuB6F66E/hetRuB6Fw7+zDHGsi9vIv9CzWfW52so/BcWPMXct7b8vbqMBvAWyvzcawFsgQbG/aLPqc7UV/L/HuriNBvBmvwkbnl4py3A/WMoyxLEuxr/6fmq8dJN4vyL99nXgnIG/dLUV+8vuub/jpZvEILCyvy1DHOviNlq/+THmriXks79fmEwVjEroP8IXJlMFo4K/CRueXinLcL/gvg6cM6Kkv3sUrkfhenQ/",
          "dtype": "f8",
          "shape": "11, 12"
         },
         "texttemplate": "%{text}",
         "type": "heatmap",
         "x": {
          "bdata": "AAECAwQFBgcICQoL",
          "dtype": "i1"
         },
         "xaxis": "x3",
         "y": {
          "bdata": "AAECAwQFBgcICQo=",
          "dtype": "i1"
         },
         "yaxis": "y3",
         "z": {
          "bdata": "AAAAAAgXf78AAAAAQLRVvwAAAAAg1GG/AAAAAHQFgD8AAAAA4AdTPwAAAADYXo0/AAAAAIwngr8AAAAAAA0gPwAAAADYsnK/AAAAABAvYT8AAAAA+LV9PwAAAADArWE/AAAAAKDtUj8AAAAAIP+BPwAAAADQumY/AAAAAADVNj8AAAAA1KaVPwAAAABgtYO/AAAAAIBkZL8AAAAAcMNlPwAAAAD0OoC/AAAAAGBNWr8AAAAAsHRrvwAAAAAsOoM/AAAAAABvdz8AAAAAeJB4vwAAAADYrHg/AAAAAAjocj8AAAAAQFVAPwAAAADQvHO/AAAAALjHcj8AAAAApEyEPwAAAAAgFX8/AAAAABTKkD8AAAAAhqGkvwAAAACoG4C/AAAAAAhbdz8AAAAA0GlqvwAAAABsm4I/AAAAAEAATL8AAAAAgItyvwAAAADgUlw/AAAAAHWus78AAAAAoKeDPwAAAAAALnG/AAAAAJT+kr8AAAAAeGeMPwAAAADEqoS/AAAAACxxm78AAAAA0EtjvwAAAAAACYw/AAAAAI6zkT8AAAAAJOeIvwAAAAAApic/AAAAAJB/ab8AAAAAYoaaPwAAAACQJGs/AAAAALBIl78AAAAAwClwvwAAAAB41ZA/AAAAAICLR78AAAAAAJAlvwAAAACAtpa/AAAAAOhulb8AAAAAhgeYvwAAAACMBa4/AAAAACjEdT8AAAAAWl+SPwAAAAAjqqI/AAAAAG2drr8AAACAYR+3PwAAAAAQdpS/AAAAAB3YtD8AAAAAxlCcPwAAAAA6aZi/AAAAAFwgkj8AAAAAf2CqPwAAAACww4Q/AAAAAGpfl78AAAAAmHWdvwAAAAChi6g/AAAAAFzrib8AAAAAzCKcvwAAAAC2Np2/AAAAACBcX78AAAAAsB15PwAAAABAXE2/AAAA4Hwn278AAAAAMBKlPwAAAACBx6A/AAAAAGY/p78AAAAAAGd2PwAAAADsZoc/AAAA4EmM1j8AAAAAJIaAvwAAAABQ844/AAAAAFpHnr8AAAAAqNR3vwAAAAALO7G/AAAAILpI2r8AAAAAPM6ZvwAAAOBZ4to/AAAAYHEZ1b8AAAAABgKsvwAAAIDNuLa/AAAAgFwPsT8AAACAW8G4vwAAAAD14aG/AAAAAByyhz8AAAAAVxqlvwAAAAC17KE/AAAAgJiFw78AAAAAYtzIvwAAAABR3Mo/AAAAgGst7b8AAAAAsAiyvwAAAICoQLG/AAAA4OYV/L8AAAAA8M5mvwAAAACgrHA/AAAAQGAvxr8AAAAASL54vwAAAACUtYG/AAAAgPLuub8AAACAIK+yvwAAAADAnVq/AAAAgFnhs78AAACAg0roPwAAAAD4uYK/AAAAAPC6cL8AAAAA+aakvwAAAADIYXQ/",
          "dtype": "f8",
          "shape": "11, 12"
         },
         "zmax": 4.120923042297363,
         "zmid": 0,
         "zmin": -4.120923042297363
        }
       ],
       "layout": {
        "annotations": [
         {
          "font": {
           "size": 16
          },
          "showarrow": false,
          "text": "s1_logit_diff",
          "x": 0.5,
          "xanchor": "center",
          "xref": "paper",
          "y": 1,
          "yanchor": "bottom",
          "yref": "paper"
         },
         {
          "font": {
           "size": 16
          },
          "showarrow": false,
          "text": "s2_logit_diff",
          "x": 0.5,
          "xanchor": "center",
          "xref": "paper",
          "y": 0.6444444444444445,
          "yanchor": "bottom",
          "yref": "paper"
         },
         {
          "font": {
           "size": 16
          },
          "showarrow": false,
          "text": "s3_logit_diff",
          "x": 0.5,
          "xanchor": "center",
          "xref": "paper",
          "y": 0.2888888888888889,
          "yanchor": "bottom",
          "yref": "paper"
         }
        ],
        "height": 1200,
        "template": {
         "data": {
          "bar": [
           {
            "error_x": {
             "color": "#2a3f5f"
            },
            "error_y": {
             "color": "#2a3f5f"
            },
            "marker": {
             "line": {
              "color": "#E5ECF6",
              "width": 0.5
             },
             "pattern": {
              "fillmode": "overlay",
              "size": 10,
              "solidity": 0.2
             }
            },
            "type": "bar"
           }
          ],
          "barpolar": [
           {
            "marker": {
             "line": {
              "color": "#E5ECF6",
              "width": 0.5
             },
             "pattern": {
              "fillmode": "overlay",
              "size": 10,
              "solidity": 0.2
             }
            },
            "type": "barpolar"
           }
          ],
          "carpet": [
           {
            "aaxis": {
             "endlinecolor": "#2a3f5f",
             "gridcolor": "white",
             "linecolor": "white",
             "minorgridcolor": "white",
             "startlinecolor": "#2a3f5f"
            },
            "baxis": {
             "endlinecolor": "#2a3f5f",
             "gridcolor": "white",
             "linecolor": "white",
             "minorgridcolor": "white",
             "startlinecolor": "#2a3f5f"
            },
            "type": "carpet"
           }
          ],
          "choropleth": [
           {
            "colorbar": {
             "outlinewidth": 0,
             "ticks": ""
            },
            "type": "choropleth"
           }
          ],
          "contour": [
           {
            "colorbar": {
             "outlinewidth": 0,
             "ticks": ""
            },
            "colorscale": [
             [
              0,
              "#0d0887"
             ],
             [
              0.1111111111111111,
              "#46039f"
             ],
             [
              0.2222222222222222,
              "#7201a8"
             ],
             [
              0.3333333333333333,
              "#9c179e"
             ],
             [
              0.4444444444444444,
              "#bd3786"
             ],
             [
              0.5555555555555556,
              "#d8576b"
             ],
             [
              0.6666666666666666,
              "#ed7953"
             ],
             [
              0.7777777777777778,
              "#fb9f3a"
             ],
             [
              0.8888888888888888,
              "#fdca26"
             ],
             [
              1,
              "#f0f921"
             ]
            ],
            "type": "contour"
           }
          ],
          "contourcarpet": [
           {
            "colorbar": {
             "outlinewidth": 0,
             "ticks": ""
            },
            "type": "contourcarpet"
           }
          ],
          "heatmap": [
           {
            "colorbar": {
             "outlinewidth": 0,
             "ticks": ""
            },
            "colorscale": [
             [
              0,
              "#0d0887"
             ],
             [
              0.1111111111111111,
              "#46039f"
             ],
             [
              0.2222222222222222,
              "#7201a8"
             ],
             [
              0.3333333333333333,
              "#9c179e"
             ],
             [
              0.4444444444444444,
              "#bd3786"
             ],
             [
              0.5555555555555556,
              "#d8576b"
             ],
             [
              0.6666666666666666,
              "#ed7953"
             ],
             [
              0.7777777777777778,
              "#fb9f3a"
             ],
             [
              0.8888888888888888,
              "#fdca26"
             ],
             [
              1,
              "#f0f921"
             ]
            ],
            "type": "heatmap"
           }
          ],
          "histogram": [
           {
            "marker": {
             "pattern": {
              "fillmode": "overlay",
              "size": 10,
              "solidity": 0.2
             }
            },
            "type": "histogram"
           }
          ],
          "histogram2d": [
           {
            "colorbar": {
             "outlinewidth": 0,
             "ticks": ""
            },
            "colorscale": [
             [
              0,
              "#0d0887"
             ],
             [
              0.1111111111111111,
              "#46039f"
             ],
             [
              0.2222222222222222,
              "#7201a8"
             ],
             [
              0.3333333333333333,
              "#9c179e"
             ],
             [
              0.4444444444444444,
              "#bd3786"
             ],
             [
              0.5555555555555556,
              "#d8576b"
             ],
             [
              0.6666666666666666,
              "#ed7953"
             ],
             [
              0.7777777777777778,
              "#fb9f3a"
             ],
             [
              0.8888888888888888,
              "#fdca26"
             ],
             [
              1,
              "#f0f921"
             ]
            ],
            "type": "histogram2d"
           }
          ],
          "histogram2dcontour": [
           {
            "colorbar": {
             "outlinewidth": 0,
             "ticks": ""
            },
            "colorscale": [
             [
              0,
              "#0d0887"
             ],
             [
              0.1111111111111111,
              "#46039f"
             ],
             [
              0.2222222222222222,
              "#7201a8"
             ],
             [
              0.3333333333333333,
              "#9c179e"
             ],
             [
              0.4444444444444444,
              "#bd3786"
             ],
             [
              0.5555555555555556,
              "#d8576b"
             ],
             [
              0.6666666666666666,
              "#ed7953"
             ],
             [
              0.7777777777777778,
              "#fb9f3a"
             ],
             [
              0.8888888888888888,
              "#fdca26"
             ],
             [
              1,
              "#f0f921"
             ]
            ],
            "type": "histogram2dcontour"
           }
          ],
          "mesh3d": [
           {
            "colorbar": {
             "outlinewidth": 0,
             "ticks": ""
            },
            "type": "mesh3d"
           }
          ],
          "parcoords": [
           {
            "line": {
             "colorbar": {
              "outlinewidth": 0,
              "ticks": ""
             }
            },
            "type": "parcoords"
           }
          ],
          "pie": [
           {
            "automargin": true,
            "type": "pie"
           }
          ],
          "scatter": [
           {
            "fillpattern": {
             "fillmode": "overlay",
             "size": 10,
             "solidity": 0.2
            },
            "type": "scatter"
           }
          ],
          "scatter3d": [
           {
            "line": {
             "colorbar": {
              "outlinewidth": 0,
              "ticks": ""
             }
            },
            "marker": {
             "colorbar": {
              "outlinewidth": 0,
              "ticks": ""
             }
            },
            "type": "scatter3d"
           }
          ],
          "scattercarpet": [
           {
            "marker": {
             "colorbar": {
              "outlinewidth": 0,
              "ticks": ""
             }
            },
            "type": "scattercarpet"
           }
          ],
          "scattergeo": [
           {
            "marker": {
             "colorbar": {
              "outlinewidth": 0,
              "ticks": ""
             }
            },
            "type": "scattergeo"
           }
          ],
          "scattergl": [
           {
            "marker": {
             "colorbar": {
              "outlinewidth": 0,
              "ticks": ""
             }
            },
            "type": "scattergl"
           }
          ],
          "scattermap": [
           {
            "marker": {
             "colorbar": {
              "outlinewidth": 0,
              "ticks": ""
             }
            },
            "type": "scattermap"
           }
          ],
          "scattermapbox": [
           {
            "marker": {
             "colorbar": {
              "outlinewidth": 0,
              "ticks": ""
             }
            },
            "type": "scattermapbox"
           }
          ],
          "scatterpolar": [
           {
            "marker": {
             "colorbar": {
              "outlinewidth": 0,
              "ticks": ""
             }
            },
            "type": "scatterpolar"
           }
          ],
          "scatterpolargl": [
           {
            "marker": {
             "colorbar": {
              "outlinewidth": 0,
              "ticks": ""
             }
            },
            "type": "scatterpolargl"
           }
          ],
          "scatterternary": [
           {
            "marker": {
             "colorbar": {
              "outlinewidth": 0,
              "ticks": ""
             }
            },
            "type": "scatterternary"
           }
          ],
          "surface": [
           {
            "colorbar": {
             "outlinewidth": 0,
             "ticks": ""
            },
            "colorscale": [
             [
              0,
              "#0d0887"
             ],
             [
              0.1111111111111111,
              "#46039f"
             ],
             [
              0.2222222222222222,
              "#7201a8"
             ],
             [
              0.3333333333333333,
              "#9c179e"
             ],
             [
              0.4444444444444444,
              "#bd3786"
             ],
             [
              0.5555555555555556,
              "#d8576b"
             ],
             [
              0.6666666666666666,
              "#ed7953"
             ],
             [
              0.7777777777777778,
              "#fb9f3a"
             ],
             [
              0.8888888888888888,
              "#fdca26"
             ],
             [
              1,
              "#f0f921"
             ]
            ],
            "type": "surface"
           }
          ],
          "table": [
           {
            "cells": {
             "fill": {
              "color": "#EBF0F8"
             },
             "line": {
              "color": "white"
             }
            },
            "header": {
             "fill": {
              "color": "#C8D4E3"
             },
             "line": {
              "color": "white"
             }
            },
            "type": "table"
           }
          ]
         },
         "layout": {
          "annotationdefaults": {
           "arrowcolor": "#2a3f5f",
           "arrowhead": 0,
           "arrowwidth": 1
          },
          "autotypenumbers": "strict",
          "coloraxis": {
           "colorbar": {
            "outlinewidth": 0,
            "ticks": ""
           }
          },
          "colorscale": {
           "diverging": [
            [
             0,
             "#8e0152"
            ],
            [
             0.1,
             "#c51b7d"
            ],
            [
             0.2,
             "#de77ae"
            ],
            [
             0.3,
             "#f1b6da"
            ],
            [
             0.4,
             "#fde0ef"
            ],
            [
             0.5,
             "#f7f7f7"
            ],
            [
             0.6,
             "#e6f5d0"
            ],
            [
             0.7,
             "#b8e186"
            ],
            [
             0.8,
             "#7fbc41"
            ],
            [
             0.9,
             "#4d9221"
            ],
            [
             1,
             "#276419"
            ]
           ],
           "sequential": [
            [
             0,
             "#0d0887"
            ],
            [
             0.1111111111111111,
             "#46039f"
            ],
            [
             0.2222222222222222,
             "#7201a8"
            ],
            [
             0.3333333333333333,
             "#9c179e"
            ],
            [
             0.4444444444444444,
             "#bd3786"
            ],
            [
             0.5555555555555556,
             "#d8576b"
            ],
            [
             0.6666666666666666,
             "#ed7953"
            ],
            [
             0.7777777777777778,
             "#fb9f3a"
            ],
            [
             0.8888888888888888,
             "#fdca26"
            ],
            [
             1,
             "#f0f921"
            ]
           ],
           "sequentialminus": [
            [
             0,
             "#0d0887"
            ],
            [
             0.1111111111111111,
             "#46039f"
            ],
            [
             0.2222222222222222,
             "#7201a8"
            ],
            [
             0.3333333333333333,
             "#9c179e"
            ],
            [
             0.4444444444444444,
             "#bd3786"
            ],
            [
             0.5555555555555556,
             "#d8576b"
            ],
            [
             0.6666666666666666,
             "#ed7953"
            ],
            [
             0.7777777777777778,
             "#fb9f3a"
            ],
            [
             0.8888888888888888,
             "#fdca26"
            ],
            [
             1,
             "#f0f921"
            ]
           ]
          },
          "colorway": [
           "#636efa",
           "#EF553B",
           "#00cc96",
           "#ab63fa",
           "#FFA15A",
           "#19d3f3",
           "#FF6692",
           "#B6E880",
           "#FF97FF",
           "#FECB52"
          ],
          "font": {
           "color": "#2a3f5f"
          },
          "geo": {
           "bgcolor": "white",
           "lakecolor": "white",
           "landcolor": "#E5ECF6",
           "showlakes": true,
           "showland": true,
           "subunitcolor": "white"
          },
          "hoverlabel": {
           "align": "left"
          },
          "hovermode": "closest",
          "mapbox": {
           "style": "light"
          },
          "paper_bgcolor": "white",
          "plot_bgcolor": "#E5ECF6",
          "polar": {
           "angularaxis": {
            "gridcolor": "white",
            "linecolor": "white",
            "ticks": ""
           },
           "bgcolor": "#E5ECF6",
           "radialaxis": {
            "gridcolor": "white",
            "linecolor": "white",
            "ticks": ""
           }
          },
          "scene": {
           "xaxis": {
            "backgroundcolor": "#E5ECF6",
            "gridcolor": "white",
            "gridwidth": 2,
            "linecolor": "white",
            "showbackground": true,
            "ticks": "",
            "zerolinecolor": "white"
           },
           "yaxis": {
            "backgroundcolor": "#E5ECF6",
            "gridcolor": "white",
            "gridwidth": 2,
            "linecolor": "white",
            "showbackground": true,
            "ticks": "",
            "zerolinecolor": "white"
           },
           "zaxis": {
            "backgroundcolor": "#E5ECF6",
            "gridcolor": "white",
            "gridwidth": 2,
            "linecolor": "white",
            "showbackground": true,
            "ticks": "",
            "zerolinecolor": "white"
           }
          },
          "shapedefaults": {
           "line": {
            "color": "#2a3f5f"
           }
          },
          "ternary": {
           "aaxis": {
            "gridcolor": "white",
            "linecolor": "white",
            "ticks": ""
           },
           "baxis": {
            "gridcolor": "white",
            "linecolor": "white",
            "ticks": ""
           },
           "bgcolor": "#E5ECF6",
           "caxis": {
            "gridcolor": "white",
            "linecolor": "white",
            "ticks": ""
           }
          },
          "title": {
           "x": 0.05
          },
          "xaxis": {
           "automargin": true,
           "gridcolor": "white",
           "linecolor": "white",
           "ticks": "",
           "title": {
            "standoff": 15
           },
           "zerolinecolor": "white",
           "zerolinewidth": 2
          },
          "yaxis": {
           "automargin": true,
           "gridcolor": "white",
           "linecolor": "white",
           "ticks": "",
           "title": {
            "standoff": 15
           },
           "zerolinecolor": "white",
           "zerolinewidth": 2
          }
         }
        },
        "xaxis": {
         "anchor": "y",
         "domain": [
          0,
          1
         ],
         "dtick": 1,
         "tick0": 0,
         "ticklabelstandoff": 5,
         "tickmode": "linear"
        },
        "xaxis2": {
         "anchor": "y2",
         "domain": [
          0,
          1
         ],
         "dtick": 1,
         "tick0": 0,
         "ticklabelstandoff": 5,
         "tickmode": "linear"
        },
        "xaxis3": {
         "anchor": "y3",
         "domain": [
          0,
          1
         ],
         "dtick": 1,
         "tick0": 0,
         "ticklabelstandoff": 5,
         "tickmode": "linear"
        },
        "yaxis": {
         "anchor": "x",
         "domain": [
          0.7111111111111111,
          1
         ],
         "dtick": 1,
         "tick0": 0,
         "ticklabelstandoff": 5,
         "tickmode": "linear"
        },
        "yaxis2": {
         "anchor": "x2",
         "domain": [
          0.35555555555555557,
          0.6444444444444445
         ],
         "dtick": 1,
         "tick0": 0,
         "ticklabelstandoff": 5,
         "tickmode": "linear"
        },
        "yaxis3": {
         "anchor": "x3",
         "domain": [
          0,
          0.2888888888888889
         ],
         "dtick": 1,
         "tick0": 0,
         "ticklabelstandoff": 5,
         "tickmode": "linear"
        }
       }
      }
     },
     "metadata": {},
     "output_type": "display_data"
    }
   ],
   "source": [
    "plotter = Plotter.from_metrics(results_10)\n",
    "\n",
    "# --- Plot KL and TV ---\n",
    "fig3 = plotter.plot_metrics(\n",
    "    metric_names=[\n",
    "        \"KL\",\n",
    "        \"TV\",\n",
    "    ],\n",
    ")\n",
    "fig3.show()\n",
    "\n",
    "fig4 = plotter.plot_metrics(\n",
    "    metric_names=[\n",
    "        \"s1_logit_diff\",\n",
    "        \"s2_logit_diff\",\n",
    "        \"s3_logit_diff\",\n",
    "    ],\n",
    "    colorscale=\"RdBu\",\n",
    "    uniform_colorscale=True,\n",
    "    center_at_zero=True,\n",
    ")\n",
    "fig4.show()\n"
   ]
  }
 ],
 "metadata": {
  "kernelspec": {
   "display_name": ".venv",
   "language": "python",
   "name": "python3"
  },
  "language_info": {
   "codemirror_mode": {
    "name": "ipython",
    "version": 3
   },
   "file_extension": ".py",
   "mimetype": "text/x-python",
   "name": "python",
   "nbconvert_exporter": "python",
   "pygments_lexer": "ipython3",
   "version": "3.13.3"
  }
 },
 "nbformat": 4,
 "nbformat_minor": 5
}
